{
 "cells": [
  {
   "cell_type": "markdown",
   "metadata": {},
   "source": [
    "#### Step 1. Find all assemblies"
   ]
  },
  {
   "cell_type": "code",
   "execution_count": 1,
   "metadata": {},
   "outputs": [],
   "source": [
    "from datetime import datetime\n",
    "from glob import glob\n",
    "from os import chdir, listdir, path, stat, system\n",
    "from pandas import Series\n",
    "from pickle import dump, load\n",
    "from sys import path as spath\n",
    "spath.append(\"scripts/\")\n",
    "from CRISPRtools import CasOperon\n",
    "chdir(\"data\")\n",
    "def baseAssembly(fname): return fname[:fname.rfind(\".\")], fname[fname.rfind(\".\"):]"
   ]
  },
  {
   "cell_type": "code",
   "execution_count": 2,
   "metadata": {},
   "outputs": [
    {
     "name": "stdout",
     "output_type": "stream",
     "text": [
      "Checking NCBI/refseq/archaea\n",
      "Checking NCBI/refseq/bacteria\n",
      "Checking NCBI/genbank/bacteria\n",
      "Checking NCBI/genbank/archaea\n",
      "Checking PATRIC2/fastas\n",
      "Ready to dump\n",
      "Number of assemblies on 2019-06-12 19:46:48.197122: 674734\n"
     ]
    }
   ],
   "source": [
    "theDate = datetime.now()\n",
    "allAssemblies = {}\n",
    "refDatabases = [\"NCBI/refseq/archaea\",\"NCBI/refseq/bacteria\",\"NCBI/genbank/bacteria\",\"NCBI/genbank/archaea\",\"PATRIC2/fastas\"]\n",
    "baseDbsDir = \"/mnt/research/germs/shane/databases/assemblies/\"\n",
    "validExts = set([\".fasta\",\".fna\",\".fa\"])\n",
    "for db in refDatabases:\n",
    "    print(\"Checking\",db)\n",
    "    for assembly in listdir(baseDbsDir+db):\n",
    "        asmID, ext = baseAssembly(assembly)\n",
    "        if ext not in validExts: continue\n",
    "        allAssemblies[asmID] = baseDbsDir + db + \"/\" + assembly\n",
    "print(\"Ready to dump\")\n",
    "dump(allAssemblies,open(\"pickles/allAssemblies.p\",\"wb\"))     \n",
    "print(\"Number of assemblies on %s: %i\" % (theDate, len(allAssemblies)))"
   ]
  },
  {
   "cell_type": "code",
   "execution_count": 2,
   "metadata": {},
   "outputs": [
    {
     "name": "stdout",
     "output_type": "stream",
     "text": [
      "Number of assemblies from all sources as of 19:47:00 06-12-2019: 674734 assemblies\n"
     ]
    }
   ],
   "source": [
    "tStamp = path.getmtime(\"pickles/allAssemblies.p\")\n",
    "theDate = datetime.fromtimestamp(tStamp).strftime('%H:%M:%S %m-%d-%Y')\n",
    "allAssemblies = load(open(\"pickles/allAssemblies.p\",\"rb\"))\n",
    "print(\"Number of assemblies from all sources as of %s: %i assemblies\" % (theDate, len(allAssemblies)))"
   ]
  },
  {
   "cell_type": "markdown",
   "metadata": {},
   "source": [
    "#### Step 2. Process the CRISPR results\n",
    "1. Check to see if the assembly related to file has a crispr array\n",
    "2. Add any assembly with a crispr array to a master list"
   ]
  },
  {
   "cell_type": "code",
   "execution_count": 4,
   "metadata": {},
   "outputs": [
    {
     "name": "stdout",
     "output_type": "stream",
     "text": [
      "Working on checking 216391 CRISPRs from /mnt/research/germs/shane/databases/crisprs/pilerCR/pat2/\n",
      "\t14% of the way through with 18004 CRISPRs found\n",
      "\t29% of the way through with 36012 CRISPRs found\n",
      "\t44% of the way through with 54110 CRISPRs found\n",
      "\t59% of the way through with 72150 CRISPRs found\n",
      "\t74% of the way through with 90306 CRISPRs found\n",
      "\t89% of the way through with 108513 CRISPRs found\n",
      "Working on checking 515475 CRISPRs from /mnt/research/germs/shane/databases/crisprs/pilerCR/genbank/\n",
      "\t14% of the way through with 147680 CRISPRs found\n",
      "\t29% of the way through with 174833 CRISPRs found\n",
      "\t44% of the way through with 202155 CRISPRs found\n",
      "\t59% of the way through with 229280 CRISPRs found\n",
      "\t74% of the way through with 256379 CRISPRs found\n",
      "\t89% of the way through with 283459 CRISPRs found\n",
      "Working on checking 163324 CRISPRs from /mnt/research/germs/shane/databases/crisprs/pilerCR/refseq/\n",
      "\t14% of the way through with 316243 CRISPRs found\n",
      "\t29% of the way through with 330763 CRISPRs found\n",
      "\t44% of the way through with 345286 CRISPRs found\n",
      "\t59% of the way through with 359802 CRISPRs found\n",
      "\t74% of the way through with 373934 CRISPRs found\n",
      "\t89% of the way through with 387806 CRISPRs found\n",
      "Working on checking 216411 CRISPRs from /mnt/research/germs/shane/databases/crisprs/minCED/pat2/\n",
      "\t14% of the way through with 399507 CRISPRs found\n",
      "\t29% of the way through with 401863 CRISPRs found\n",
      "\t44% of the way through with 404274 CRISPRs found\n",
      "\t59% of the way through with 406725 CRISPRs found\n",
      "\t74% of the way through with 409246 CRISPRs found\n",
      "\t89% of the way through with 411561 CRISPRs found\n",
      "Working on checking 298610 CRISPRs from /mnt/research/germs/shane/databases/crisprs/minCED/genbank/\n",
      "\t14% of the way through with 417202 CRISPRs found\n",
      "\t29% of the way through with 421094 CRISPRs found\n",
      "\t44% of the way through with 424912 CRISPRs found\n",
      "\t59% of the way through with 429034 CRISPRs found\n",
      "\t74% of the way through with 433070 CRISPRs found\n",
      "\t89% of the way through with 437016 CRISPRs found\n",
      "Working on checking 159637 CRISPRs from /mnt/research/germs/shane/databases/crisprs/minCED/refseq/\n",
      "\t14% of the way through with 441767 CRISPRs found\n",
      "\t29% of the way through with 443962 CRISPRs found\n",
      "\t44% of the way through with 446175 CRISPRs found\n",
      "\t59% of the way through with 448389 CRISPRs found\n",
      "\t74% of the way through with 450491 CRISPRs found\n",
      "\t89% of the way through with 452585 CRISPRs found\n",
      "\n",
      "Done\n",
      "\n"
     ]
    }
   ],
   "source": [
    "from CRISPRtools import CRISPRs\n",
    "crisprDir = \"/mnt/research/germs/shane/databases/crisprs/\"\n",
    "tools = [\"pilerCR/\", \"minCED/\"]\n",
    "dbs = ['pat2','genbank','refseq']\n",
    "crisprFiles = CRISPRs()\n",
    "for tool in tools:\n",
    "    for db in dbs: crisprFiles.hasCrispr(listdir(crisprDir+tool+db+\"/\"), tool == \"pilerCR/\",crisprDir+tool+db+\"/\",allAssemblies)\n",
    "dump(crisprFiles, open(\"pickles/CRISPRs.p\",\"wb\")) \n",
    "print(\"\\nDone\\n\")"
   ]
  },
  {
   "cell_type": "code",
   "execution_count": null,
   "metadata": {},
   "outputs": [],
   "source": [
    "# Below this is experimental\n",
    "\n",
    "\n",
    "\n",
    "\n",
    "\n",
    "\n",
    "\n",
    "\n",
    "\n",
    "\n",
    "\n",
    "\n",
    "\n",
    "\n",
    "\n",
    "\n",
    "\n",
    "\n",
    "\n",
    "\n",
    "\n",
    "\n",
    "\n",
    "\n",
    "\n"
   ]
  },
  {
   "cell_type": "code",
   "execution_count": 7,
   "metadata": {},
   "outputs": [],
   "source": [
    "from sys import path as spath\n",
    "spath.append(\"scripts/\")\n",
    "from pickle import load\n",
    "from Bio.SeqIO import write, parse\n",
    "from collections import Counter\n",
    "from CRISPRtools import CasOperon\n",
    "gene='Cas9'\n",
    "#casOperons = load(open(\"data/pickles/casOperonDataStructureW%s.p\" % gene,\"rb\"))\n",
    "protID = \"NZ_LT906463.1_ORF95365\"\n",
    "protID = \"FNMX01000011_ORF6660\"\n",
    "protID = \"CP027232_ORF135234\"\n",
    "genomicAsmName = casOperons.revMap[protID] \n",
    "protOperon = casOperons.casOperons[genomicAsmName]\n",
    "protCRISPR = protOperon.crisprs[protID]"
   ]
  },
  {
   "cell_type": "code",
   "execution_count": 8,
   "metadata": {},
   "outputs": [
    {
     "data": {
      "text/plain": [
       "('/mnt/research/germs/shane/databases/assemblies/PATRIC2/fastas/1316593.3.fna',\n",
       " {'minCED': <CRISPRtools.CRISPR at 0x2ad9526890b8>})"
      ]
     },
     "execution_count": 8,
     "metadata": {},
     "output_type": "execute_result"
    }
   ],
   "source": [
    "protOperon.assembly, protCRISPR"
   ]
  },
  {
   "cell_type": "code",
   "execution_count": 9,
   "metadata": {},
   "outputs": [
    {
     "data": {
      "text/plain": [
       "{1: {'CTATCTGCCTGTGCGG': 3},\n",
       " 2: {'CTTCGTCATTTGTTCGTCATTTGTTCGTC': 1,\n",
       "  'GTTCGTCATTTCTTCGTTATTTGTTTATC': 1,\n",
       "  'GTTCGTCATTTGTTCGTCATTTGTTCGTC': 1,\n",
       "  'GTTCGTCATTTGTTCGTCTTTTCTTCGTC': 1,\n",
       "  'GTTCGTCATTCGTTCGTCTTTTGTTCGTC': 1}}"
      ]
     },
     "execution_count": 9,
     "metadata": {},
     "output_type": "execute_result"
    }
   ],
   "source": [
    "protCRISPR['minCED'].repeats"
   ]
  },
  {
   "cell_type": "code",
   "execution_count": null,
   "metadata": {},
   "outputs": [],
   "source": [
    "\n",
    "\n",
    "\n",
    "\n",
    "\n",
    "\n",
    "\n",
    "\n",
    "\n",
    "\n",
    "\n",
    "\n",
    "\n",
    "\n",
    "\n",
    "\n",
    "\n",
    "\n",
    "\n",
    "\n",
    "\n",
    "\n",
    "\n",
    "\n",
    "\n",
    "\n",
    "\n",
    "\n"
   ]
  },
  {
   "cell_type": "code",
   "execution_count": 8,
   "metadata": {},
   "outputs": [
    {
     "name": "stdout",
     "output_type": "stream",
     "text": [
      "Number of CRISPRs detected: 353602\n",
      "Not in db: 0\n",
      "353602\n"
     ]
    }
   ],
   "source": [
    "assembliesWCrisprs = allAssemblies # copy.deepcopy(allAssemblies)\n",
    "seqHashes,notInDB,nf = set(),set(),[]\n",
    "sizeDist = []\n",
    "samples = []\n",
    "for db in dbs:\n",
    "    for fileName in pilerCRFiles[db]:\n",
    "        fsize = stat(pilerCRDir+db+\"/\"+fileName).st_size\n",
    "        assemblyID = fileName[:fileName.rfind(\".\")] \n",
    "        if (fsize <= 200): \n",
    "            del assembliesWCrisprs[assemblyID]\n",
    "        else: \n",
    "            sizeDist.append(fsize)\n",
    "            samples.append(assemblyID)\n",
    "print(\"Number of CRISPRs detected:\",len(assembliesWCrisprs))\n",
    "print(\"Not in db:\", len(notInDB))\n",
    "print(len(sizeDist))\n",
    "assembliesWCrisprs = dump(open(\"pickles/allAssemblyW_CRISPRs.p\",\"rb\")) \n",
    "\n",
    "dump(assembliesWCrisprs,open(\"data/pickles/allAssemblyCRISPRs.p\",\"wb\"))     "
   ]
  },
  {
   "cell_type": "code",
   "execution_count": 10,
   "metadata": {},
   "outputs": [
    {
     "data": {
      "text/plain": [
       "count    353602.000000\n",
       "mean       6349.021241\n",
       "std        6234.788022\n",
       "min        1419.000000\n",
       "25%        1964.000000\n",
       "50%        4302.000000\n",
       "75%        8160.000000\n",
       "max      166672.000000\n",
       "dtype: float64"
      ]
     },
     "execution_count": 10,
     "metadata": {},
     "output_type": "execute_result"
    }
   ],
   "source": [
    "sizeDist= Series(sizeDist,index=samples)\n",
    "sizeDist.describe()"
   ]
  },
  {
   "cell_type": "code",
   "execution_count": 18,
   "metadata": {},
   "outputs": [
    {
     "data": {
      "text/plain": [
       "6940"
      ]
     },
     "execution_count": 18,
     "metadata": {},
     "output_type": "execute_result"
    }
   ],
   "source": [
    "# from os import system,path\n",
    "# from pickle import load\n",
    "# count = 0\n",
    "# assembliesWCrisprs = load(open(\"data/pickles/allAssemblyW_CRISPRs.p\",\"rb\"))\n",
    "# asmLinkPath = \"/mnt/research/germs/shane/transActRNA/data/assemblies/assemblies_W_CRISPRs\"\n",
    "# for asmName, asmPath in assembliesWCrisprs.items():\n",
    "#     cmd = \"ln -s %s %s/%s.fasta\" % (asmPath,asmLinkPath,asmName)\n",
    "#     if not path.exists(\"%s/%s.fasta\" % (asmLinkPath,asmName)): \n",
    "#         count+=1\n",
    "# #         system(cmd)    \n",
    "# count"
   ]
  },
  {
   "cell_type": "code",
   "execution_count": null,
   "metadata": {},
   "outputs": [],
   "source": []
  },
  {
   "cell_type": "code",
   "execution_count": null,
   "metadata": {},
   "outputs": [],
   "source": [
    "pilerCR_results[protID] = PilerCRReader(pilerCRFileName)"
   ]
  },
  {
   "cell_type": "code",
   "execution_count": null,
   "metadata": {},
   "outputs": [],
   "source": [
    "for fileName in files:\n",
    "    if (\".pcrout\" not in fileName):continue\n",
    "    system(\"mv %s /mnt/research/germs/shane/databases/crisprs/pilerCR/pat2/\" % (fileName))"
   ]
  },
  {
   "cell_type": "code",
   "execution_count": null,
   "metadata": {},
   "outputs": [],
   "source": [
    "import hashlib\n",
    "def get_md5(filePath):\n",
    "    with open(filePath, 'rb') as fh:\n",
    "        m = hashlib.md5()\n",
    "        while True:\n",
    "            data = fh.read(8192)\n",
    "            if not data:\n",
    "                break\n",
    "            m.update(data)\n",
    "        return m.hexdigest()"
   ]
  },
  {
   "cell_type": "code",
   "execution_count": 17,
   "metadata": {},
   "outputs": [
    {
     "data": {
      "text/plain": [
       "(97286, 440288)"
      ]
     },
     "execution_count": 17,
     "metadata": {},
     "output_type": "execute_result"
    }
   ],
   "source": [
    "count =0\n",
    "linkpaths = listdir(asmLinkPath)\n",
    "for fname in linkpaths:\n",
    "    if fname.replace(\".fasta\",\"\") not in allAssemblies:\n",
    "        system(\"unlink %s/%s\" %(asmLinkPath,fname))\n",
    "        count +=1\n",
    "count,len(linkpaths)"
   ]
  },
  {
   "cell_type": "code",
   "execution_count": null,
   "metadata": {},
   "outputs": [],
   "source": [
    "%%bash\n",
    "ls"
   ]
  }
 ],
 "metadata": {
  "kernelspec": {
   "display_name": "Python 3",
   "language": "python",
   "name": "python3"
  },
  "language_info": {
   "codemirror_mode": {
    "name": "ipython",
    "version": 3
   },
   "file_extension": ".py",
   "mimetype": "text/x-python",
   "name": "python",
   "nbconvert_exporter": "python",
   "pygments_lexer": "ipython3",
   "version": "3.6.7"
  }
 },
 "nbformat": 4,
 "nbformat_minor": 2
}
