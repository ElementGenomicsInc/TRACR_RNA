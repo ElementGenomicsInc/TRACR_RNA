{
 "cells": [
  {
   "cell_type": "markdown",
   "metadata": {},
   "source": [
    "# The Known tracrRNA Universe\n",
    "#### From perviosuly published tracrRNAs, what are the corresponding BLAST and structural genomes in our cas9 Universe?"
   ]
  },
  {
   "cell_type": "markdown",
   "metadata": {},
   "source": [
    "<h5 style=\"color:blue\">Libraries and workspace setup</h5>"
   ]
  },
  {
   "cell_type": "code",
   "execution_count": 1,
   "metadata": {},
   "outputs": [],
   "source": [
    "%load_ext autoreload\n",
    "%autoreload 2\n",
    "%matplotlib inline\n",
    "import os, sys\n",
    "sys.path.append(\"scripts/\")\n",
    "from Bio.Blast import NCBIXML\n",
    "from Bio.SeqIO import index as fasta_index\n",
    "from Bio.SeqIO import parse, write\n",
    "from collections import Counter\n",
    "from easyFunctions import *\n",
    "from HMMParser import *\n",
    "from InfernalResults import ProcessInfernal, TRACR_RNA\n",
    "from pandas import Series\n",
    "from random import randint\n",
    "\n",
    "r = lambda: randint(0,255)            \n",
    "def color():return '#%02X%02X%02X' % (r(),r(),r())\n",
    "def findBiggestCluster(seqID, clusters, clusterMap): return Counter(dict((k, clusterMap[k]) for k in (clusters))).most_common(1)[0][0] \n",
    "os.chdir(\"/mnt/research/germs/shane/transActRNA/data\")\n",
    "gene = \"Cas9\"\n",
    "# if os.path.exists(\"pickles/Step2.db\"): \n",
    "#     dill.load_session('pickles/Step2.db')\n",
    "#     print \"Loaded Session\""
   ]
  },
  {
   "cell_type": "markdown",
   "metadata": {},
   "source": [
    "<h5>Data</h5>"
   ]
  },
  {
   "cell_type": "code",
   "execution_count": 2,
   "metadata": {},
   "outputs": [],
   "source": [
    "#Raw\n",
    "knownTracrFile = \"sequences/PioneerCrisprs.fasta\"\n",
    "casRepAssembliesFile = \"assemblies/%s_Representative_Assemblies.fasta\" % (gene)\n",
    "allCasRepsFile = \"assemblies/All_%s_Representative_Assemblies.fasta\" % (gene)\n",
    "knownTracrRNAs = fasta_index(knownTracrFile,\"fasta\")\n",
    "casRepProteins = fasta_index(\"proteins/%s-Like-clustered.faa\" % (gene),\"fasta\")\n",
    "\n",
    "#minimum lengths of blast hits\n",
    "tracrLengths = {}\n",
    "for id,rec in knownTracrRNAs.items(): tracrLengths[id] = len(rec.seq)*0.6  "
   ]
  },
  {
   "cell_type": "code",
   "execution_count": 4,
   "metadata": {},
   "outputs": [],
   "source": [
    "def processBLAST(blastFileName,tracrLengths):\n",
    "    blastResults = NCBIXML.parse(open(blastFileName,'r'))\n",
    "    tracrBLAST = {}\n",
    "    numRepr=set()\n",
    "    numFilteredByLength,hitCount = 0,0\n",
    "    for result in blastResults:\n",
    "        for hit in result.alignments:\n",
    "            for hsp in hit.hsps: \n",
    "                coord = Coordinate(min(hsp.sbjct_start,hsp.sbjct_end),max(hsp.sbjct_start,hsp.sbjct_end))\n",
    "                hitLen = len(coord)\n",
    "                if hitLen < tracrLengths[result.query]:\n",
    "                    numFilteredByLength += 1\n",
    "                    continue # Skip hits that may be sequencing artifacts or partial crRNA hits\n",
    "                try:\n",
    "                    numRepr.add(result.query)\n",
    "                    hitCount += 1\n",
    "                    tracrBLAST[hit.hit_def].append([result.query,coord])\n",
    "                except: tracrBLAST[hit.hit_def]=[[result.query,coord]]\n",
    "    return tracrBLAST, numRepr"
   ]
  },
  {
   "cell_type": "markdown",
   "metadata": {},
   "source": [
    "<h4>BLAST the known tracrRNAs against the genomes of cas9 associated assemblies</h4>"
   ]
  },
  {
   "cell_type": "code",
   "execution_count": 9,
   "metadata": {},
   "outputs": [
    {
     "name": "stdout",
     "output_type": "stream",
     "text": [
      "Found 46 of the 48 known tracrs\n"
     ]
    }
   ],
   "source": [
    "allKnownTracrBlastOut = \"blastout/PioneerTracrRNAsAll.blastout\"\n",
    "repsKnownTracrBlastOut = \"blastout/PioneerTracrRNAsReps.blastout\"\n",
    "\n",
    "#blastResults = BLAST_short(knownTracrFile,allCasRepsFile,repsKnownTracrBlastOut)\n",
    "# blastResults = BLAST_short(knownTracrFile,casRepAssembliesFile,repsKnownTracrBlastOut)\n",
    "tracrBLASTReps, numRepr = processBLAST(repsKnownTracrBlastOut, tracrLengths)\n",
    "tracrBLAST, numAll = processBLAST(allKnownTracrBlastOut, tracrLengths)\n",
    "# blastResults = NCBIXML.parse(open(knownTracrBlastOut,'r'))\n",
    "# tracrBLAST, tracrCVG = {},{}\n",
    "# lengthDist = []\n",
    "# numRepr=set()\n",
    "# numFilteredByLength,hitCount = 0,0\n",
    "# for result in blastResults:\n",
    "#     for hit in result.alignments:\n",
    "#         for hsp in hit.hsps: \n",
    "#             coord = Coordinate(min(hsp.sbjct_start,hsp.sbjct_end),max(hsp.sbjct_start,hsp.sbjct_end))\n",
    "#             hitLen = len(coord)\n",
    "#             try: tracrCVG[result.query] = max(tracrCVG[result.query],abs(hsp.sbjct_end-hsp.sbjct_start))\n",
    "#             except: tracrCVG[result.query] = hitLen\n",
    "#             if hitLen < tracrLengths[result.query]:\n",
    "#                 numFilteredByLength += 1\n",
    "#                 continue # Skip hits that may be sequencing artifacts or partial crRNA hits\n",
    "#             try:\n",
    "#                 numRepr.add(result.query)\n",
    "#                 lengthDist.append(hitLen)\n",
    "#                 hitCount += 1\n",
    "#                 tracrBLAST[hit.hit_def].append([result.query,coord])\n",
    "#             except: tracrBLAST[hit.hit_def]=[[result.query,coord]]\n",
    "# print(\"Found and recorded %i / %i hits\\nHits are represented in %i / %i Cas related Assemblies\" % (hitCount,hitCount+numFilteredByLength,len(tracrBLAST),len(casRepProteins)))\n",
    "print(\"Found %i of the %i known tracrs\" % (len(numRepr),len(knownTracrRNAs)))\n",
    "# dump(tracrBLAST,\"pickles/Pioneer_tracrBlast.p\")\n",
    "# dump(lengthDist,\"pickles/tracrLenDist.p\")"
   ]
  },
  {
   "cell_type": "code",
   "execution_count": 10,
   "metadata": {},
   "outputs": [],
   "source": [
    "all = {}\n",
    "for res, val in tracrBLAST.items():\n",
    "    for id,coord in val:\n",
    "        try: all[id].add(res.split(\" \")[0])\n",
    "        except: all[id] = set([res.split(\" \")[0]])"
   ]
  },
  {
   "cell_type": "code",
   "execution_count": 11,
   "metadata": {},
   "outputs": [
    {
     "data": {
      "text/plain": [
       "2"
      ]
     },
     "execution_count": 11,
     "metadata": {},
     "output_type": "execute_result"
    }
   ],
   "source": [
    "missingKeys = set(all.keys()).difference(numRepr)\n",
    "len(missingKeys)"
   ]
  },
  {
   "cell_type": "code",
   "execution_count": 12,
   "metadata": {},
   "outputs": [
    {
     "name": "stdout",
     "output_type": "stream",
     "text": [
      "Legionella_pneumophila {'NZ_LOLP01000005.1', 'NZ_RBFS01000066.1', 'CP017457', 'FJCG01000006', 'NZ_KK074140.1', 'QWDX01000001.1', 'CP021260.1', 'JFIG01000037', 'NZ_QFHM01000015.1', 'CP021277', 'BBUJ01000003.1', 'FJBH01000013.1', 'AVOW01000039', 'NZ_CP021281.1', 'LOLE01000008', 'NZ_CP021279.1', 'LAXQ01000016.1', 'FJCH01000005', 'NZ_FJCI01000014.1', 'FJBY01000014.1', 'NZ_QWDU01000001.1', 'UGOU01000002.1', 'LOMA01000038', 'LBAA01000002', 'NZ_LAZZ01000018.1', 'NZ_QWDS01000002.1', 'FJLT01000003.1', 'FJCF01000016.1', 'AWES01000030', 'PQWY01000001', 'CP017602', 'CP016030', 'AVNJ01000012', 'FJEA01000015.1', 'RBFP01000056.1', 'AVOV01000026.1', 'NZ_CP021286.1', 'LCUP01000045', 'LBAM01000011.1', 'NZ_CP017458.1', 'FJDY01000015', 'CP021264', 'UGOO01000001.1', 'NZ_QWDW01000001.1', 'NZ_QWDY01000001.1', 'NZ_FJAQ01000015.1', 'LAVQ01000004.1', 'FJDZ01000002', 'NZ_CAFM01000006.1', 'FJBQ01000014', 'FJDU01000015.1', 'CP015927', 'NZ_FJAG01000013.1', 'QWDT01000001.1', 'CP016030.2', 'LOLL01000057.1', 'LBMS01000002.1', 'LBAT01000016', 'RBFC01000046.1', 'CR628336.1', 'CP015929', 'NZ_UGON01000002.1', 'CAAAHZ010000009.1', 'FJDQ01000016', 'LAXV01000018.1', 'FJBJ01000014.1', 'LOLB01000012.1', 'FJCA01000017.1', 'FJAR01000013.1', 'NZ_LOLN01000058.1', 'NZ_CDDZ01000036.1', 'FR687201', 'LT632614.1', 'LOLM01000019.1', 'LAXO01000017.1', 'RBFN01000061.1', 'FJAK01000003.1', 'FJFI01000015', 'NZ_JFIF01000026.1', 'NZ_LAXZ01000017.1', 'NZ_QWDR01000001.1', 'LOLO01000019.1', 'FJLQ01000003', 'LBHM01000008', 'FJLN01000005.1', 'FJDV01000014.1', 'QFJC01000015.1', 'NZ_FJBN01000013.1', 'LNYK01000030', 'PQWX01000004.1', 'FJAN01000015', 'NZ_LBAF01000019.1', 'JFIK01000015.1', 'LBAL01000006', 'CP021256', 'NZ_RBGS01000049.1', 'CP021258.1', 'CP021257', 'NZ_KQ973597.1', 'NZ_FJCE01000019.1', 'CP015931', 'CCAA010000026.1', 'NZ_FJLR01000002.1', 'NZ_RBFA01000044.1', 'NZ_QFKO01000012.1', 'NZ_UGOJ01000002.1', 'LBAS01000011.1', 'NZ_LR134176.1', 'FJLP01000003', 'QFKK01000013.1', 'FJMM01000003.1', 'LOLF01000038', 'NZ_FJFJ01000014.1', 'LBMR01000016', 'NZ_CP017601.1', 'NZ_CP011105.1', 'LAXU01000016', 'FJCJ01000024.1', 'RBFB01000035.1', 'LORH01000038', 'NZ_FJBV01000013.1', 'QFKT01000003.1', 'FJAV01000006', 'FJAP01000013', 'LOLG01000047.1', 'CP021261', 'LCUQ01000056.1', 'FJOE01000099.1', 'LR134332.1', 'NZ_RBFJ01000070.1', 'FJBA01000014', 'LAXW01000004', 'CP021263.1', 'FJCM01000005', 'NZ_KQ973595.1', 'NZ_FJMH01000006.1', 'LOLQ01000035.1', 'FJAZ01000012', 'FJBC01000013', 'NZ_LAXP01000016.1', 'NZ_FJDC01000029.1', 'NZ_FJCR01000004.1', 'QWDV01000001.1', 'QFHL01000003.1', 'FJCS01000004.1', 'NZ_LOLZ01000018.1', 'NZ_FJBF01000014.1', 'FJBL01000014', 'NZ_RBGQ01000056.1'}\n",
      "Bifidobacterium_bombi {'NZ_ATLK01000001.1', 'JDTS01000001'}\n"
     ]
    }
   ],
   "source": [
    "for key in missingKeys:\n",
    "    print(key,all[key])"
   ]
  },
  {
   "cell_type": "code",
   "execution_count": 4,
   "metadata": {},
   "outputs": [
    {
     "name": "stdout",
     "output_type": "stream",
     "text": [
      ">Caenispirillum_salinarum_84\n",
      "GGACCGGCACCTACAGGACAAGTGATCATACACGTGACAGCCGCCTCCCCCGCCCCAGTGGCCAAGGGGAGGCGGCTTTTCTTT\n",
      "\n",
      ">Bifidobacterium_bombi_81\n",
      "ATTGAATTTGAAATAAGGCTGTTCCTTCGTTAGTTCAGTCGATTGCTCCTCCGGTATTGCTTTTGCATGCCGGAGTTTTTT\n",
      "\n",
      ">Corynebacterium_camporealensis_79\n",
      "GGAACTGAACCTCAGTAATCACCGGCTCGTTTCCGGTGAAGAATGCTCCAGTCGGCGCCCACTGGGCGTCGACTTTTCT\n",
      "\n",
      ">Legionella_pneumophila_116\n",
      "TTCGATACCCTGAAATCAACAAAATTAAAGATTGAATCGTTTTTCTATGCTCGTCTTAATAGCGAGCATATAACGATTTCAAAATCTATCGTTACAGTGATTTAGAAACTCACACT\n",
      "\n"
     ]
    }
   ],
   "source": [
    "for i,key in enumerate(knownTracrRNAs.keys()):\n",
    "    if key not in tracrCVG: \n",
    "        print(\">\"+key+ \"_%i\" % (len(knownTracrRNAs[key].seq)))\n",
    "        print(str(knownTracrRNAs[key].seq)+\"\\n\") #.reverse_complement()\n",
    "#     print(\"%i\\t%i\\t%i\\t%i\" % ((i,tracrCVG[key],len(knownTracrRNAs[key].seq),len(knownTracrRNAs[key].seq)-tracrCVG[key])))"
   ]
  },
  {
   "cell_type": "code",
   "execution_count": null,
   "metadata": {},
   "outputs": [],
   "source": [
    "set(knownTracrRNAs.keys()).difference(tracrCVG.keys())"
   ]
  },
  {
   "cell_type": "code",
   "execution_count": 5,
   "metadata": {},
   "outputs": [],
   "source": [
    "missing = {\"Caenispirillum_salinarum\":['GCF_000315795.1','GCA_000315795.1'],\n",
    "           'Bifidobacterium_bombi':['GCF_000737845.1','GCA_000737845.1'],\n",
    "        \n",
    "'Corynebacterium_camporealensis':{'GCA_000766885.2': 'CP027001.1','GCA_000980815.1': 'CP011311.1'},\n",
    "'Legionella_pneumophila':{\n",
    "    'GCA_003004315.1': 'CP021286.1', \n",
    "    'GCA_003004275.1': 'CP021281.1',\n",
    "    'GCA_003003515.1': 'CP021256.1',\n",
    "    'GCA_001752825.1': 'CP015931.1',\n",
    "    'GCA_001752785.1': 'CP015929.1',\n",
    "    'GCA_001752745.1': 'CP015927.1',\n",
    "    'GCA_001677075.2': 'CP016030.2',\n",
    "    'GCA_001610735.1': 'CP011105.1'}}\n"
   ]
  },
  {
   "cell_type": "code",
   "execution_count": 6,
   "metadata": {},
   "outputs": [],
   "source": [
    "gene = 'Cas9'\n",
    "assembliesWCrisprs = load(open(\"pickles/allAssemblyW_CRISPRs.p\",\"rb\")) \n",
    "hmm_parser = load(open(\"pickles/%s_HMM_Parsing_Results.p\" % (gene), \"rb\"))\n",
    "assemblyProtMap = load(open(\"pickles/%s_assemblyProMap.p\" % (gene),'rb'))\n",
    "allClusterSeqIDs = load(open(\"pickles/%s_RevClusteringResults.p\" % (gene),'rb'))\n",
    "nukSeqHash = load(open(\"pickles/%s_nukSeqHash.p\" % gene,'rb'))"
   ]
  },
  {
   "cell_type": "code",
   "execution_count": 39,
   "metadata": {},
   "outputs": [
    {
     "data": {
      "text/plain": [
       "['FNUS01000008_ORF11136',\n",
       " 'NZ_KV793811.1_ORF3019',\n",
       " 'QJTD01000003.1_ORF18407',\n",
       " 'NIDL01000002.1_ORF135',\n",
       " 'GG740084.1_ORF30',\n",
       " 'NZ_HE999452.1_ORF30',\n",
       " 'CAJK01000259_ORF30',\n",
       " 'DF970668.1_ORF14579',\n",
       " 'BBZD01000017_ORF79',\n",
       " 'PFHY01000226.1_ORF106']"
      ]
     },
     "execution_count": 39,
     "metadata": {},
     "output_type": "execute_result"
    }
   ],
   "source": [
    "list(allClusterSeqIDs)[0:10]"
   ]
  },
  {
   "cell_type": "code",
   "execution_count": 46,
   "metadata": {},
   "outputs": [
    {
     "name": "stdout",
     "output_type": "stream",
     "text": [
      "Caenispirillum_salinarum\n",
      "\tGCF_000315795.1 True\n",
      "\tGCA_000315795.1 True\n",
      "Bifidobacterium_bombi\n",
      "\tGCF_000737845.1 True\n",
      "\tGCA_000737845.1 True\n",
      "Corynebacterium_camporealensis\n",
      "\tGCA_000766885.2 True True CP027001.1_ORF23238 CP027001.1 False\n",
      "\tGCA_000980815.1 True True CP011311.1_ORF23235 CP011311.1 False\n",
      "Legionella_pneumophila\n",
      "\tGCA_003004315.1 True True CP021286.1_ORF11884 CP021286.1 False\n",
      "\tGCA_003004275.1 True True CP021281.1_ORF11885 CP021281.1 False\n",
      "\tGCA_003003515.1 True True CP021256.1_ORF11068 CP021256.1 False\n",
      "\tGCA_001752825.1 True True CP015931.1_ORF11289 CP015931.1 False\n",
      "\tGCA_001752785.1 True True CP015929.1_ORF11289 CP015929.1 False\n",
      "\tGCA_001752745.1 True True CP015927.1_ORF11289 CP015927.1 False\n",
      "\tGCA_001677075.2 True True CP016030.2_ORF11885 CP016030.2 False\n",
      "\tGCA_001610735.1 True True CP011105.1_ORF11092 CP011105.1 False\n"
     ]
    }
   ],
   "source": [
    "blastres = {}\n",
    "for tracrName,fList in missing.items():\n",
    "    blastres[tracrName]={}\n",
    "    print(tracrName)\n",
    "    for asm in fList:\n",
    "        if type(fList) == type({}):\n",
    "            #hmm_parser.results[asm].__get_proteins__(\"hmm/results/\"+asm+\".hmmout\")\n",
    "            for prot in hmm_parser.results[asm].proteins: \n",
    "                print(\"\\t\"+asm,asm in assembliesWCrisprs, asm in hmm_parser, prot, fList[asm],prot in allClusterSeqIDs )\n",
    "                seq = str(fasta_index(assembliesWCrisprs[asm],\"fasta\")[fList[asm]].seq).upper()\n",
    "                if seq in nukSeqHash:\n",
    "                    print(\"\\t\\t\",nukSeqHash[seq])\n",
    "        else: print(\"\\t\"+asm,asm in assembliesWCrisprs)\n",
    "        tmp = MakeFasta(\"%s.fasta\"%(asm))\n",
    "        tmp.write(asm,str(knownTracrRNAs[tracrName].seq))\n",
    "        tmp.close()\n",
    "        BLAST_short(\"%s.fasta\"%(asm),assembliesWCrisprs[asm], \"%s.blasout\"%(asm))\n",
    "        blastres[tracrName][asm] = NCBIXML.parse(open(\"%s.blasout\"%(asm),'r'))"
   ]
  },
  {
   "cell_type": "code",
   "execution_count": 44,
   "metadata": {},
   "outputs": [
    {
     "name": "stdout",
     "output_type": "stream",
     "text": [
      "Caenispirillum_salinarum\n",
      "\t GCF_000315795.1\n",
      "\t\t GCF_000315795.1 NZ_ANHY01000014.1 Caenispirillum salinarum AK4 contig14, whole genome shotgun sequence [48346\t48429]+\n",
      "\t GCA_000315795.1\n",
      "\t\t GCA_000315795.1 ANHY01000014.1 Caenispirillum salinarum AK4 contig14, whole genome shotgun sequence [48346\t48429]+\n",
      "Bifidobacterium_bombi\n",
      "\t GCF_000737845.1\n",
      "\t\t GCF_000737845.1 NZ_ATLK01000001.1 Bifidobacterium bombi DSM 19703 DSM19703_C1, whole genome shotgun sequence [737030\t737110]+\n",
      "\t GCA_000737845.1\n",
      "\t\t GCA_000737845.1 ATLK01000001.1 Bifidobacterium bombi DSM 19703 DSM19703_C1, whole genome shotgun sequence [737030\t737110]+\n",
      "Corynebacterium_camporealensis\n",
      "\t GCA_000766885.2\n",
      "\t\t GCA_000766885.2 CP027001.1 Corynebacterium camporealensis strain CIP 105508 chromosome, complete genome [597198\t597276]+\n",
      "\t GCA_000980815.1\n",
      "\t\t GCA_000980815.1 CP011311.1 Corynebacterium camporealensis strain DSM 44610, complete genome [597241\t597319]+\n",
      "Legionella_pneumophila\n",
      "\t GCA_003004315.1\n",
      "\t\t GCA_003004315.1 CP021286.1 Legionella pneumophila subsp. pneumophila strain Albuquerque 1 (D-7474) chromosome, complete genome [189574\t189689]+\n",
      "\t GCA_003004275.1\n",
      "\t\t GCA_003004275.1 CP021281.1 Legionella pneumophila subsp. pneumophila strain Flint 2 (D-7477) chromosome, complete genome [189578\t189693]+\n",
      "\t GCA_003003515.1\n",
      "\t\t GCA_003003515.1 CP021256.1 Legionella pneumophila strain D-4954 chromosome, complete genome [176850\t176965]+\n",
      "\t GCA_001752825.1\n",
      "\t\t GCA_001752825.1 CP015931.1 Legionella pneumophila strain Philadelphia_4 chromosome, complete genome [180316\t180431]+\n",
      "\t GCA_001752785.1\n",
      "\t\t GCA_001752785.1 CP015929.1 Legionella pneumophila strain Philadelphia_2 chromosome, complete genome [180316\t180431]+\n",
      "\t GCA_001752745.1\n",
      "\t\t GCA_001752745.1 CP015927.1 Legionella pneumophila strain Philadelphia_1_ATCC, complete genome [180316\t180431]+\n",
      "\t GCA_001677075.2\n",
      "\t\t GCA_001677075.2 CP016030.2 Legionella pneumophila strain OLDA, complete genome [189578\t189693]+\n",
      "\t GCA_001610735.1\n",
      "\t\t GCA_001610735.1 CP011105.1 Legionella pneumophila strain L10-023, complete genome [178175\t178290]+\n"
     ]
    }
   ],
   "source": [
    "for tracr in blastres:\n",
    "    print(tracr)\n",
    "    for asm in blastres[tracr]:\n",
    "        print(\"\\t\",asm)\n",
    "        for res in blastres[tracr][asm]:\n",
    "            for hit in res.alignments:\n",
    "                for hsp in hit.hsps: \n",
    "                    coord = Coordinate(min(hsp.sbjct_start,hsp.sbjct_end),max(hsp.sbjct_start,hsp.sbjct_end))\n",
    "                    print(\"\\t\\t\",res.query,hit.hit_def, coord)\n",
    "#             print(\"\\t\\t\",str(parseSingleBLAST(res)))"
   ]
  },
  {
   "cell_type": "code",
   "execution_count": 38,
   "metadata": {},
   "outputs": [
    {
     "name": "stdout",
     "output_type": "stream",
     "text": [
      "['__class__', '__delattr__', '__dict__', '__dir__', '__doc__', '__eq__', '__format__', '__ge__', '__getattribute__', '__gt__', '__hash__', '__init__', '__init_subclass__', '__le__', '__lt__', '__module__', '__ne__', '__new__', '__reduce__', '__reduce_ex__', '__repr__', '__setattr__', '__sizeof__', '__str__', '__subclasshook__', '__weakref__', 'alignments', 'application', 'blast_cutoff', 'database', 'database_length', 'database_letters', 'database_name', 'database_sequences', 'date', 'descriptions', 'dropoff_1st_pass', 'effective_database_length', 'effective_hsp_length', 'effective_query_length', 'effective_search_space', 'effective_search_space_used', 'expect', 'filter', 'frameshift', 'gap_penalties', 'gap_trigger', 'gap_x_dropoff', 'gap_x_dropoff_final', 'gapped', 'hsps_gapped', 'hsps_no_gap', 'hsps_prelim_gapped', 'hsps_prelim_gapped_attemped', 'ka_params', 'ka_params_gap', 'matrix', 'multiple_alignment', 'num_good_extends', 'num_hits', 'num_letters_in_database', 'num_seqs_better_e', 'num_sequences', 'num_sequences_in_database', 'posted_date', 'query', 'query_id', 'query_length', 'query_letters', 'reference', 'sc_match', 'sc_mismatch', 'threshold', 'version', 'window_size']\n",
      "\n",
      "GCA_001610735.1\n",
      "Score 116 (215 bits), expectation 5.5e-57, alignment length 116\n",
      "Query:       1 TTCGATACCCTGAAATCAACAAAATTAAAGATTGAATCGTTTTTC...ACT 116\n",
      "               |||||||||||||||||||||||||||||||||||||||||||||...|||\n",
      "Sbjct:  178290 TTCGATACCCTGAAATCAACAAAATTAAAGATTGAATCGTTTTTC...ACT 178175\n"
     ]
    }
   ],
   "source": [
    "print(dir(res))\n",
    "print()\n",
    "print(res.query)\n",
    "print(hsp)"
   ]
  },
  {
   "cell_type": "markdown",
   "metadata": {},
   "source": [
    "# Build the tree with Cas Related Assemblies with a BLAST Hit"
   ]
  },
  {
   "cell_type": "code",
   "execution_count": 25,
   "metadata": {},
   "outputs": [
    {
     "name": "stdout",
     "output_type": "stream",
     "text": [
      "Annotated 615 CRISPR-Cas Systems\n",
      "Systems were annotated with a total of 35 cluster groups\n",
      "\n",
      "Dumping pickles/Pioneer_tracrBlast.p\n"
     ]
    }
   ],
   "source": [
    "clusterMap = {} #Hits clustered by where the most common tracrRNA sequence\n",
    "tracrBLASTMap = {}\n",
    "for seqID,clusterList in tracrBLAST.items():\n",
    "    tracrBLASTMap[seqID]=set()\n",
    "    for clusterID in clusterList:\n",
    "        try: clusterMap[clusterID[0]].add(seqID)\n",
    "        except: clusterMap[clusterID[0]] = set([seqID])\n",
    "        tracrBLASTMap[seqID].add(clusterID[0])  \n",
    "\n",
    "blastTreeColors,colorMap = {},{}\n",
    "for seqID,clusters in tracrBLASTMap.items():\n",
    "    biggestCluster = findBiggestCluster(seqID, clusters, clusterMap)\n",
    "    try: blastTreeColors[seqID] = colorMap[biggestCluster]\n",
    "    except: \n",
    "        colorMap[biggestCluster] = color()\n",
    "        blastTreeColors[seqID] = colorMap[biggestCluster]\n",
    "print (\"Annotated %i CRISPR-Cas Systems\" % (len(blastTreeColors)))\n",
    "print (\"Systems were annotated with a total of %i cluster groups\" %(len(colorMap)))\n",
    "\n",
    "dump(blastTreeColors,\"pickles/Pioneer_tracrBlast.p\") #PaperTracrBLAST_HitsTreeColors.p\")"
   ]
  },
  {
   "cell_type": "markdown",
   "metadata": {},
   "source": [
    "# Some stats on the blast hits"
   ]
  },
  {
   "cell_type": "code",
   "execution_count": 5,
   "metadata": {},
   "outputs": [
    {
     "data": {
      "image/png": "[encoded data removed]",
      "text/plain": [
       "<matplotlib.figure.Figure at 0x2b6e92a19e50>"
      ]
     },
     "metadata": {},
     "output_type": "display_data"
    }
   ],
   "source": [
    "#tracrRNA BLAST Hit Length Distribution\n",
    "dist = Series(lengthDist)\n",
    "ax = dist.plot.hist(bins=20,color='c');\n",
    "ax.set_title(\"Known tracrRNA Length Distribution\");\n",
    "ax.set_xlabel(\"Nucleotides in tracrRNA\");"
   ]
  },
  {
   "cell_type": "code",
   "execution_count": 6,
   "metadata": {},
   "outputs": [
    {
     "name": "stdout",
     "output_type": "stream",
     "text": [
      "count    83.000000\n",
      "mean      8.397590\n",
      "std      14.400999\n",
      "min       1.000000\n",
      "25%       1.000000\n",
      "50%       3.000000\n",
      "75%       7.500000\n",
      "max      81.000000\n",
      "dtype: float64\n"
     ]
    },
    {
     "data": {
      "image/png": "[encoded data removed]",
      "text/plain": [
       "<matplotlib.figure.Figure at 0x2b6eb6c9bad0>"
      ]
     },
     "metadata": {},
     "output_type": "display_data"
    }
   ],
   "source": [
    "blastClusterColorCounter = Counter(blastTreeColors.values())\n",
    "dist = Series(blastClusterColorCounter)\n",
    "dist.plot.hist(color='c');\n",
    "print dist.describe()"
   ]
  },
  {
   "cell_type": "code",
   "execution_count": 7,
   "metadata": {},
   "outputs": [
    {
     "name": "stdout",
     "output_type": "stream",
     "text": [
      "Number of tracrRNAs that did not cross hit in 1 systems: 25\n",
      "Number of tracrRNAs that did not cross hit in 2 systems: 14\n",
      "Number of tracrRNAs that did not cross hit in 3 systems: 7\n",
      "Number of tracrRNAs that did not cross hit in 4 systems: 6\n",
      "Number of tracrRNAs that did not cross hit in 5 systems: 4\n",
      "Number of tracrRNAs that did not cross hit in 6 systems: 1\n",
      "Number of tracrRNAs that did not cross hit in 7 systems: 5\n",
      "Number of tracrRNAs that did not cross hit in 8 systems: 3\n",
      "Number of tracrRNAs that did not cross hit in 9 systems: 1\n"
     ]
    }
   ],
   "source": [
    "for i in range(1,10):\n",
    "    print \"Number of tracrRNAs that did not cross hit in %i systems: %i\" % (i,len(dist[dist==i]))"
   ]
  },
  {
   "cell_type": "markdown",
   "metadata": {},
   "source": [
    "# BLAST results are known, now prepare for structural search"
   ]
  },
  {
   "cell_type": "markdown",
   "metadata": {},
   "source": [
    "<h4>Create a file for all of the tracrRNA hits.</h>"
   ]
  },
  {
   "cell_type": "code",
   "execution_count": 8,
   "metadata": {},
   "outputs": [],
   "source": [
    "# Add hits to a fasta file\n",
    "tracrSeqs = {}\n",
    "fh = open(\"sequences/PaperTracrBLAST_Hits.fa\",\"w\")\n",
    "index = 0\n",
    "for id in tracrBLAST:\n",
    "    for queryID, coord in tracrBLAST[id]:\n",
    "        seq = casRelatedAssemblies[id][min(coord.start,coord.end):max(coord.start,coord.end)]\n",
    "        seq.id += \"_%i\" % index\n",
    "        index+=1\n",
    "        write(seq,fh,\"fasta\")\n",
    "fh.close()"
   ]
  },
  {
   "cell_type": "markdown",
   "metadata": {},
   "source": [
    "<h4>Cluster all BLAST hits to form consensus sequences</h4>"
   ]
  },
  {
   "cell_type": "code",
   "execution_count": 19,
   "metadata": {},
   "outputs": [
    {
     "name": "stdout",
     "output_type": "stream",
     "text": [
      "================================================================\n",
      "Program: CD-HIT, V4.7 (+OpenMP), Jul 11 2017, 18:04:58\n",
      "Command: cd-hit-est -i sequences/PaperTracrBLAST_Hits.fa -o\n",
      "         clusters/PaperTracrBLAST_Hits.fa -M 0 -d 0 -n 7 -c .9\n",
      "         -T 0 -sc 1\n",
      "\n",
      "Started: Fri Jan 11 15:50:40 2019\n",
      "================================================================\n",
      "                            Output                              \n",
      "----------------------------------------------------------------\n",
      "total number of CPUs in the system is 28\n",
      "Actual number of CPUs to be used: 28\n",
      "\n",
      "total seq: 2966\n",
      "longest and shortest : 167 and 49\n",
      "Total letters: 272089\n",
      "Sequences have been sorted\n",
      "\n",
      "Approximated minimal memory consumption:\n",
      "Sequence        : 0M\n",
      "Buffer          : 28 X 12M = 339M\n",
      "Table           : 2 X 0M = 0M\n",
      "Miscellaneous   : 0M\n",
      "Total           : 340M\n",
      "\n",
      "Table limit with the given memory limit:\n",
      "Max number of representatives: 449393\n",
      "Max number of word counting entries: 10850988\n",
      "\n",
      "# comparing sequences from          0  to         98\n",
      "---------- new table with       37 representatives\n",
      "# comparing sequences from         98  to        193\n",
      "...................---------- new table with        7 representatives\n",
      "# comparing sequences from        193  to        285\n",
      ".................---------- new table with       21 representatives\n",
      "# comparing sequences from        285  to        374\n",
      ".............---------- new table with       14 representatives\n",
      "# comparing sequences from        374  to        460\n",
      "99.7%---------- new table with        7 representatives\n",
      "# comparing sequences from        460  to        543\n",
      ".......---------- new table with       13 representatives\n",
      "# comparing sequences from        543  to        623\n",
      "99.2%---------- new table with        8 representatives\n",
      "# comparing sequences from        623  to        701\n",
      "...---------- new table with       11 representatives\n",
      "# comparing sequences from        701  to        776\n",
      "99.6%---------- new table with        4 representatives\n",
      "# comparing sequences from        776  to        849\n",
      "..---------- new table with        7 representatives\n",
      "# comparing sequences from        849  to        919\n",
      "99.6%---------- new table with        2 representatives\n",
      "# comparing sequences from        919  to        987\n",
      "..---------- new table with        3 representatives\n",
      "# comparing sequences from        987  to       1052\n",
      "..---------- new table with        6 representatives\n",
      "# comparing sequences from       1052  to       1115\n",
      "99.6%---------- new table with        2 representatives\n",
      "# comparing sequences from       1115  to       1176\n",
      "---------- new table with        1 representatives\n",
      "# comparing sequences from       1176  to       1235\n",
      "99.7%---------- new table with        5 representatives\n",
      "# comparing sequences from       1235  to       1292\n",
      "---------- new table with        2 representatives\n",
      "# comparing sequences from       1292  to       1347\n",
      "99.8%---------- new table with        2 representatives\n",
      "# comparing sequences from       1347  to       1400\n",
      "---------- new table with        1 representatives\n",
      "# comparing sequences from       1400  to       1452\n",
      "---------- new table with        2 representatives\n",
      "# comparing sequences from       1452  to       1502\n",
      ".---------- new table with        2 representatives\n",
      "# comparing sequences from       1502  to       1550\n",
      ".---------- new table with        1 representatives\n",
      "# comparing sequences from       1550  to       1597\n",
      "---------- new table with        2 representatives\n",
      "# comparing sequences from       1597  to       1642\n",
      "---------- new table with        1 representatives\n",
      "# comparing sequences from       1642  to       1686\n",
      "79.4%---------- new table with        2 representatives\n",
      "# comparing sequences from       1686  to       1728\n",
      "---------- new table with        0 representatives\n",
      "# comparing sequences from       1728  to       1769\n",
      "---------- new table with        2 representatives\n",
      "# comparing sequences from       1769  to       1808\n",
      ".---------- new table with        2 representatives\n",
      "# comparing sequences from       1808  to       1846\n",
      "---------- new table with        0 representatives\n",
      "# comparing sequences from       1846  to       1883\n",
      "---------- new table with        0 representatives\n",
      "# comparing sequences from       1883  to       1919\n",
      "---------- new table with        1 representatives\n",
      "# comparing sequences from       1919  to       1953\n",
      "---------- new table with        0 representatives\n",
      "# comparing sequences from       1953  to       1986\n",
      "---------- new table with        1 representatives\n",
      "# comparing sequences from       1986  to       2966\n",
      "........---------- new table with      102 representatives\n",
      "\n",
      "     2966  finished        271  clusters\n",
      "\n",
      "Apprixmated maximum memory consumption: 340M\n",
      "writing new database\n",
      "writing clustering information\n",
      "program completed !\n",
      "\n",
      "Total CPU time 6.06\n"
     ]
    }
   ],
   "source": [
    "%%bash\n",
    "#Cluster the tracrRNA sequence hits\n",
    "cd-hit-est -i sequences/PaperTracrBLAST_Hits.fa -o clusters/PaperTracrBLAST_Hits.fa -M 0 -d 0 -n 7 -c .9 -T 0 -sc 1"
   ]
  },
  {
   "cell_type": "markdown",
   "metadata": {},
   "source": [
    "<h4>Take consensus clusters to divide blast results by closest probable structure</h4>"
   ]
  },
  {
   "cell_type": "code",
   "execution_count": 20,
   "metadata": {},
   "outputs": [
    {
     "name": "stdout",
     "output_type": "stream",
     "text": [
      "\tTotal number of clusters: 171\n",
      "\tNumber of nodes covered: 2866\n",
      "2866\n"
     ]
    },
    {
     "data": {
      "image/png": "[encoded data removed]",
      "text/plain": [
       "<matplotlib.figure.Figure at 0x2b6eb6fc56d0>"
      ]
     },
     "metadata": {},
     "output_type": "display_data"
    }
   ],
   "source": [
    "allClusters = processClusterFile(\"clusters/PaperTracrBLAST_Hits.fa.clstr\")\n",
    "TreeColors, clusterDist = generateTreeColors(allClusters,cutoff=2)\n",
    "clusterDist = Series(clusterDist)\n",
    "clusterDist[clusterDist>2].plot.hist();"
   ]
  },
  {
   "cell_type": "markdown",
   "metadata": {},
   "source": [
    "<h4>Build Consensus Structure Fasta files</h4>"
   ]
  },
  {
   "cell_type": "code",
   "execution_count": 23,
   "metadata": {},
   "outputs": [
    {
     "name": "stdout",
     "output_type": "stream",
     "text": [
      "conseqs0/Cluster_79.fasta ( 5 / 6 )[86,88] 3.32665998663\n",
      "conseqs0/Cluster_78.fasta ( 5 / 6 )[104,105] 1.47196014439\n",
      "conseqs0/Cluster_71.fasta ( 5 / 6 )[61,93] 25.1853131805\n",
      "conseqs0/Cluster_70.fasta ( 4 / 7 )[86,89] 22.5007936368\n",
      "conseqs0/Cluster_73.fasta ( 5 / 6 )[66,79] 7.74596669241\n",
      "conseqs0/Cluster_72.fasta ( 5 / 6 )[105,105] 8.9814623902\n",
      "conseqs0/Cluster_75.fasta ( 4 / 6 )[68,68] 6.19677335393\n",
      "conseqs0/Cluster_74.fasta ( 5 / 6 )[70,73] 11.9777571635\n",
      "conseqs0/Cluster_77.fasta ( 5 / 6 )[79,97] 19.1276414298\n",
      "conseqs0/Cluster_76.fasta ( 4 / 6 )[92,93] 2.87518115371\n",
      "conseqs0/Cluster_162.fasta ( 2 / 2 )[94,97] 2.12132034356\n",
      "conseqs0/Cluster_163.fasta ( 2 / 2 )[70,72] 1.41421356237\n",
      "conseqs0/Cluster_170.fasta ( 2 / 2 )[94,95] 0.707106781187\n",
      "conseqs0/Cluster_48.fasta ( 9 / 12 )[59,69] 6.65149789464\n",
      "conseqs0/Cluster_49.fasta ( 9 / 12 )[61,87] 29.013580937\n",
      "conseqs0/Cluster_44.fasta ( 8 / 13 )[73,99] 16.0032048072\n",
      "conseqs0/Cluster_45.fasta ( 8 / 12 )[89,96] 5.84846522214\n",
      "conseqs0/Cluster_46.fasta ( 11 / 12 )[90,99] 5.59220236336\n",
      "conseqs0/Cluster_47.fasta ( 8 / 12 )[73,82] 7.01243484278\n",
      "conseqs0/Cluster_40.fasta ( 11 / 15 )[55,72] 9.51540105003\n",
      "conseqs0/Cluster_41.fasta ( 11 / 14 )[89,95] 3.03821810125\n",
      "conseqs0/Cluster_42.fasta ( 9 / 13 )[89,90] 1.06818801764\n",
      "conseqs0/Cluster_43.fasta ( 12 / 13 )[76,84] 6.34883393291\n",
      "conseqs0/Cluster_139.fasta ( 2 / 2 )[79,85] 4.24264068712\n",
      "conseqs0/Cluster_138.fasta ( 2 / 2 )[85,166] 57.2756492761\n",
      "conseqs0/Cluster_111.fasta ( 2 / 3 )[103,105] 16.1967074843\n",
      "conseqs0/Cluster_131.fasta ( 2 / 2 )[61,79] 12.7279220614\n",
      "conseqs0/Cluster_130.fasta ( 2 / 2 )[74,74] 0.0\n",
      "conseqs0/Cluster_133.fasta ( 2 / 2 )[60,80] 14.1421356237\n",
      "conseqs0/Cluster_132.fasta ( 2 / 2 )[66,93] 19.091883092\n",
      "conseqs0/Cluster_135.fasta ( 2 / 2 )[82,87] 3.53553390593\n",
      "conseqs0/Cluster_134.fasta ( 2 / 2 )[87,87] 0.0\n",
      "conseqs0/Cluster_137.fasta ( 2 / 2 )[72,77] 3.53553390593\n",
      "conseqs0/Cluster_136.fasta ( 2 / 2 )[60,167] 75.660425587\n",
      "conseqs0/Cluster_159.fasta ( 2 / 2 )[66,66] 0.0\n",
      "conseqs0/Cluster_158.fasta ( 2 / 2 )[66,66] 0.0\n",
      "conseqs0/Cluster_153.fasta ( 2 / 2 )[80,104] 16.9705627485\n",
      "conseqs0/Cluster_152.fasta ( 2 / 2 )[63,63] 0.0\n",
      "conseqs0/Cluster_151.fasta ( 2 / 2 )[131,139] 5.65685424949\n",
      "conseqs0/Cluster_150.fasta ( 2 / 2 )[62,62] 0.0\n",
      "conseqs0/Cluster_157.fasta ( 2 / 2 )[99,105] 4.24264068712\n",
      "conseqs0/Cluster_156.fasta ( 2 / 2 )[105,108] 2.12132034356\n",
      "conseqs0/Cluster_155.fasta ( 2 / 2 )[67,67] 0.0\n",
      "conseqs0/Cluster_154.fasta ( 2 / 2 )[95,137] 29.6984848098\n",
      "conseqs0/Cluster_53.fasta ( 7 / 10 )[74,107] 17.0411267233\n",
      "conseqs0/Cluster_52.fasta ( 7 / 11 )[92,94] 5.19265215123\n",
      "conseqs0/Cluster_51.fasta ( 8 / 11 )[88,91] 3.38445644891\n",
      "conseqs0/Cluster_50.fasta ( 8 / 11 )[69,73] 2.82842712475\n",
      "conseqs0/Cluster_57.fasta ( 8 / 10 )[61,61] 6.32455532034\n",
      "conseqs0/Cluster_56.fasta ( 5 / 10 )[64,64] 10.0576118217\n",
      "conseqs0/Cluster_55.fasta ( 8 / 10 )[109,117] 5.45791983167\n",
      "conseqs0/Cluster_54.fasta ( 7 / 10 )[66,86] 23.6570402958\n",
      "conseqs0/Cluster_166.fasta ( 2 / 2 )[93,93] 0.0\n",
      "conseqs0/Cluster_59.fasta ( 6 / 9 )[88,95] 5.38000413052\n",
      "conseqs0/Cluster_58.fasta ( 8 / 10 )[96,137] 21.5468481841\n",
      "conseqs0/Cluster_128.fasta ( 2 / 3 )[82,84] 11.5902257671\n",
      "conseqs0/Cluster_129.fasta ( 2 / 3 )[105,105] 0.57735026919\n",
      "conseqs0/Cluster_126.fasta ( 2 / 3 )[95,110] 24.00694344\n",
      "conseqs0/Cluster_127.fasta ( 2 / 3 )[84,89] 12.0968315411\n",
      "conseqs0/Cluster_124.fasta ( 2 / 3 )[88,89] 11.2694276696\n",
      "conseqs0/Cluster_125.fasta ( 2 / 3 )[118,125] 14.0118997047\n",
      "conseqs0/Cluster_122.fasta ( 2 / 3 )[81,81] 2.30940107676\n",
      "conseqs0/Cluster_123.fasta ( 2 / 3 )[102,102] 1.73205080757\n",
      "conseqs0/Cluster_120.fasta ( 2 / 3 )[91,91] 1.73205080757\n",
      "conseqs0/Cluster_121.fasta ( 2 / 3 )[75,79] 19.1572440607\n",
      "conseqs0/Cluster_148.fasta ( 2 / 2 )[128,128] 0.0\n",
      "conseqs0/Cluster_149.fasta ( 2 / 2 )[64,64] 0.0\n",
      "conseqs0/Cluster_167.fasta ( 2 / 2 )[105,120] 10.6066017178\n",
      "conseqs0/Cluster_140.fasta ( 2 / 2 )[52,81] 20.5060966544\n",
      "conseqs0/Cluster_141.fasta ( 2 / 2 )[81,83] 1.41421356237\n",
      "conseqs0/Cluster_142.fasta ( 2 / 2 )[141,143] 1.41421356237\n",
      "conseqs0/Cluster_143.fasta ( 2 / 2 )[77,77] 0.0\n",
      "conseqs0/Cluster_144.fasta ( 2 / 2 )[83,84] 0.707106781187\n",
      "conseqs0/Cluster_145.fasta ( 2 / 2 )[71,77] 4.24264068712\n",
      "conseqs0/Cluster_146.fasta ( 2 / 2 )[93,93] 0.0\n",
      "conseqs0/Cluster_147.fasta ( 2 / 2 )[91,102] 7.77817459305\n",
      "conseqs0/Cluster_26.fasta ( 20 / 24 )[83,92] 6.29340003956\n",
      "conseqs0/Cluster_27.fasta ( 15 / 24 )[80,95] 11.3712069644\n",
      "conseqs0/Cluster_24.fasta ( 25 / 27 )[84,94] 8.41972314816\n",
      "conseqs0/Cluster_25.fasta ( 18 / 27 )[68,91] 30.102436698\n",
      "conseqs0/Cluster_22.fasta ( 18 / 31 )[91,93] 15.2323933264\n",
      "conseqs0/Cluster_23.fasta ( 25 / 28 )[88,100] 6.70337118062\n",
      "conseqs0/Cluster_20.fasta ( 17 / 35 )[68,96] 22.1413715956\n",
      "conseqs0/Cluster_21.fasta ( 26 / 34 )[85,92] 9.02566157381\n",
      "conseqs0/Cluster_28.fasta ( 14 / 22 )[81,104] 13.159774074\n",
      "conseqs0/Cluster_29.fasta ( 11 / 22 )[93,105] 21.9191746298\n",
      "conseqs0/Cluster_117.fasta ( 2 / 3 )[119,126] 15.1327459504\n",
      "conseqs0/Cluster_116.fasta ( 2 / 3 )[93,101] 26.2868788562\n",
      "conseqs0/Cluster_115.fasta ( 2 / 3 )[76,82] 14.7422295917\n",
      "conseqs0/Cluster_114.fasta ( 2 / 3 )[107,110] 5.68624070308\n",
      "conseqs0/Cluster_113.fasta ( 2 / 3 )[120,127] 11.7898261226\n",
      "conseqs0/Cluster_112.fasta ( 2 / 3 )[64,70] 8.62167810425\n",
      "conseqs0/Cluster_35.fasta ( 15 / 18 )[80,95] 8.48451107045\n",
      "conseqs0/Cluster_34.fasta ( 10 / 18 )[63,64] 6.7174536103\n",
      "conseqs0/Cluster_37.fasta ( 7 / 17 )[93,110] 12.0650808729\n",
      "conseqs0/Cluster_36.fasta ( 16 / 18 )[78,79] 5.22437724969\n",
      "conseqs0/Cluster_31.fasta ( 11 / 19 )[94,115] 15.2388392675\n",
      "conseqs0/Cluster_30.fasta ( 18 / 22 )[63,83] 10.4288975813\n",
      "conseqs0/Cluster_33.fasta ( 8 / 18 )[82,85] 3.95935229403\n",
      "conseqs0/Cluster_32.fasta ( 10 / 18 )[97,104] 6.13811620843\n",
      "conseqs0/Cluster_110.fasta ( 4 / 4 )[77,105] 15.8823801743\n",
      "conseqs0/Cluster_39.fasta ( 12 / 17 )[81,86] 4.93412487026\n",
      "conseqs0/Cluster_38.fasta ( 10 / 17 )[80,106] 14.6490814809\n",
      "conseqs0/Cluster_80.fasta ( 5 / 6 )[95,95] 2.44948974278\n",
      "conseqs0/Cluster_81.fasta ( 4 / 6 )[84,93] 14.9855485941\n",
      "conseqs0/Cluster_82.fasta ( 6 / 6 )[96,103] 3.50713558335\n",
      "conseqs0/Cluster_83.fasta ( 5 / 6 )[113,140] 18.0739222823\n",
      "conseqs0/Cluster_84.fasta ( 4 / 5 )[64,70] 4.43846820423\n",
      "conseqs0/Cluster_85.fasta ( 3 / 5 )[86,88] 12.0706255016\n",
      "conseqs0/Cluster_86.fasta ( 4 / 5 )[76,82] 11.1445053726\n",
      "conseqs0/Cluster_87.fasta ( 4 / 5 )[84,88] 9.39680796867\n",
      "conseqs0/Cluster_88.fasta ( 4 / 5 )[82,91] 6.64830805544\n",
      "conseqs0/Cluster_89.fasta ( 4 / 5 )[97,97] 0.4472135955\n",
      "conseqs0/Cluster_168.fasta ( 2 / 2 )[97,99] 1.41421356237\n",
      "conseqs0/Cluster_169.fasta ( 2 / 2 )[59,59] 0.0\n",
      "conseqs0/Cluster_119.fasta ( 2 / 3 )[82,87] 5.50757054729\n",
      "conseqs0/Cluster_118.fasta ( 2 / 3 )[65,67] 8.14452781525\n",
      "conseqs0/Cluster_97.fasta ( 3 / 5 )[79,119] 27.3367883995\n",
      "conseqs0/Cluster_96.fasta ( 4 / 5 )[75,86] 8.92748564827\n",
      "conseqs0/Cluster_95.fasta ( 4 / 5 )[109,111] 1.788854382\n",
      "conseqs0/Cluster_94.fasta ( 3 / 5 )[76,86] 12.549900398\n",
      "conseqs0/Cluster_93.fasta ( 2 / 5 )[90,90] 7.52994023881\n",
      "conseqs0/Cluster_92.fasta ( 4 / 5 )[64,69] 2.79284800875\n",
      "conseqs0/Cluster_91.fasta ( 4 / 5 )[87,88] 0.836660026534\n",
      "conseqs0/Cluster_90.fasta ( 3 / 5 )[88,90] 1.92353840617\n",
      "conseqs0/Cluster_160.fasta ( 2 / 2 )[94,124] 21.2132034356\n",
      "conseqs0/Cluster_99.fasta ( 4 / 4 )[115,115] 0.0\n",
      "conseqs0/Cluster_98.fasta ( 4 / 5 )[89,89] 8.94427191\n",
      "conseqs0/Cluster_161.fasta ( 2 / 2 )[57,57] 0.0\n",
      "conseqs0/Cluster_19.fasta ( 19 / 35 )[80,103] 20.7446662174\n",
      "conseqs0/Cluster_18.fasta ( 31 / 39 )[71,89] 10.774275857\n",
      "conseqs0/Cluster_17.fasta ( 22 / 40 )[60,77] 9.19029588542\n",
      "conseqs0/Cluster_16.fasta ( 32 / 41 )[105,107] 10.6091883784\n",
      "conseqs0/Cluster_15.fasta ( 39 / 43 )[101,113] 6.48748689072\n",
      "conseqs0/Cluster_14.fasta ( 27 / 43 )[83,121] 21.5975471311\n",
      "conseqs0/Cluster_13.fasta ( 19 / 44 )[59,74] 10.7624749388\n",
      "conseqs0/Cluster_12.fasta ( 39 / 49 )[85,90] 2.90114919759\n",
      "conseqs0/Cluster_11.fasta ( 27 / 49 )[82,106] 14.6077395384\n",
      "conseqs0/Cluster_10.fasta ( 39 / 54 )[120,123] 8.6888926421\n",
      "conseqs0/Cluster_164.fasta ( 2 / 2 )[110,139] 20.5060966544\n",
      "conseqs0/Cluster_165.fasta ( 2 / 2 )[119,120] 0.707106781187\n",
      "conseqs0/Cluster_104.fasta ( 4 / 4 )[98,98] 0.0\n",
      "conseqs0/Cluster_105.fasta ( 4 / 4 )[68,80] 6.92820323028\n",
      "conseqs0/Cluster_106.fasta ( 3 / 4 )[65,65] 0.5\n",
      "conseqs0/Cluster_107.fasta ( 3 / 4 )[86,88] 2.51661147842\n",
      "conseqs0/Cluster_100.fasta ( 4 / 4 )[76,108] 18.4752086141\n",
      "conseqs0/Cluster_101.fasta ( 2 / 4 )[71,74] 7.45542308212\n",
      "conseqs0/Cluster_102.fasta ( 2 / 4 )[84,92] 29.2389580298\n",
      "conseqs0/Cluster_103.fasta ( 2 / 4 )[76,82] 5.85234995536\n",
      "conseqs0/Cluster_108.fasta ( 3 / 4 )[69,70] 2.21735578261\n",
      "conseqs0/Cluster_109.fasta ( 3 / 4 )[59,62] 9.74679434481\n",
      "conseqs0/Cluster_68.fasta ( 3 / 7 )[82,82] 21.3374252028\n",
      "conseqs0/Cluster_69.fasta ( 4 / 7 )[59,61] 11.2546286774\n",
      "conseqs0/Cluster_62.fasta ( 7 / 8 )[85,95] 9.05439908868\n",
      "conseqs0/Cluster_63.fasta ( 8 / 8 )[70,70] 0.0\n",
      "conseqs0/Cluster_60.fasta ( 8 / 9 )[80,81] 0.726483157257\n",
      "conseqs0/Cluster_61.fasta ( 7 / 8 )[72,89] 9.22632104362\n",
      "conseqs0/Cluster_66.fasta ( 6 / 7 )[65,68] 2.44948974278\n",
      "conseqs0/Cluster_67.fasta ( 6 / 7 )[68,73] 12.8507920823\n",
      "conseqs0/Cluster_64.fasta ( 7 / 8 )[83,90] 4.79396942597\n",
      "conseqs0/Cluster_65.fasta ( 4 / 7 )[88,94] 7.50238057457\n",
      "conseqs0/Cluster_9.fasta ( 50 / 56 )[118,121] 5.63983973246\n",
      "conseqs0/Cluster_8.fasta ( 35 / 59 )[97,110] 7.30463452638\n",
      "conseqs0/Cluster_7.fasta ( 43 / 60 )[77,91] 7.37630578309\n",
      "conseqs0/Cluster_6.fasta ( 54 / 78 )[87,103] 11.5729598605\n",
      "conseqs0/Cluster_5.fasta ( 56 / 82 )[99,104] 3.15226363655\n",
      "conseqs0/Cluster_4.fasta ( 63 / 82 )[80,94] 11.6870321668\n",
      "conseqs0/Cluster_3.fasta ( 81 / 96 )[83,107] 14.4584098031\n",
      "conseqs0/Cluster_2.fasta ( 64 / 98 )[91,101] 5.64554567671\n",
      "conseqs0/Cluster_1.fasta ( 152 / 239 )[93,101] 5.33571126506\n",
      "conseqs0/Cluster_0.fasta ( 385 / 470 )[85,96] 5.87766373643\n"
     ]
    }
   ],
   "source": [
    "tracrSeqDict = fasta_index(\"sequences/PaperTracrBLAST_Hits.fa\",\"fasta\")\n",
    "\n",
    "for cluster, seqIDList in allClusters.iteritems():\n",
    "    clusterFileName = \"conseqs0/\"+cluster.replace(\" \",\"_\")+\".fasta\"\n",
    "    fh = open(clusterFileName,\"wb\")\n",
    "    clusterStats = []\n",
    "    for seqID in seqIDList: clusterStats.append(len(tracrSeqDict[seqID]))\n",
    "    clusterStats = Series(clusterStats)\n",
    "    keepSeqs = clusterStats[~((clusterStats-clusterStats.mean()).abs() > clusterStats.std())]\n",
    "    minSeq, maxSeq = keepSeqs.min(), keepSeqs.max()\n",
    "    index=0\n",
    "    for seqID in seqIDList: \n",
    "        seqLen = len(tracrSeqDict[seqID])\n",
    "        if seqLen >= minSeq and seqLen <= maxSeq:\n",
    "            index+=1\n",
    "            fh.write(\">%s\\n%s\\n\" % (seqID,str(tracrSeqDict[seqID].seq)))\n",
    "    fh.close()\n",
    "    if index <= 1:\n",
    "        os.system(\"rm %s\" % (clusterFileName))\n",
    "        continue\n",
    "    print clusterFileName,\"(\",index,\"/\",len(seqIDList), \")[%i,%i]\" % (minSeq,maxSeq),clusterStats.std() \n",
    "    os.system(\"cd-hit-est -i %s -o %s_cluster -M 0 -d 0 -c .90 -T 0 -sc 1\" % (clusterFileName,clusterFileName))\n",
    "    clusteredResults = processClusterFile(\"%s_cluster.clstr\" % (clusterFileName))\n",
    "    fh = open(clusterFileName,\"wb\")\n",
    "    index = 0\n",
    "    for seqID,direction in clusteredResults.filter():\n",
    "        index +=1\n",
    "        if direction: fh.write(\">%s\\n%s\\n\" % (seqID,str(tracrSeqDict[seqID].seq).upper()))\n",
    "        else: fh.write(\">%s\\n%s\\n\" % (seqID,str(tracrSeqDict[seqID].seq.reverse_complement()).upper()))\n",
    "    fh.close()\n",
    "    if index <= 1: os.system(\"rm %s*\" % (clusterFileName))\n",
    "    else: os.system(\"rm %s_cluster*\" % (clusterFileName))"
   ]
  },
  {
   "cell_type": "markdown",
   "metadata": {},
   "source": [
    "# Perform Infernal Structural Search"
   ]
  },
  {
   "cell_type": "code",
   "execution_count": 25,
   "metadata": {},
   "outputs": [
    {
     "name": "stdout",
     "output_type": "stream",
     "text": [
      "Submitted batch job 6767393\n",
      "Submitted batch job 6767394\n",
      "Submitted batch job 6767395\n",
      "Submitted batch job 6767396\n",
      "Submitted batch job 6767401\n",
      "Submitted batch job 6767402\n",
      "Submitted batch job 6767404\n",
      "Submitted batch job 6767405\n",
      "Submitted batch job 6767406\n",
      "Submitted batch job 6767407\n"
     ]
    }
   ],
   "source": [
    "%%bash\n",
    "for i in 1 2 3 4 5 6 7 8 9 10\n",
    "do\n",
    "    sbatch ../scripts/hpc/StructureSearch.sb\n",
    "done"
   ]
  },
  {
   "cell_type": "markdown",
   "metadata": {},
   "source": [
    "<h4>Process results</h4>"
   ]
  },
  {
   "cell_type": "code",
   "execution_count": 26,
   "metadata": {},
   "outputs": [
    {
     "name": "stdout",
     "output_type": "stream",
     "text": [
      "Empty Output File:  Cluster_58.out 0\n",
      "Empty Output File:  Cluster_89.out 0\n",
      "Empty Output File:  Cluster_55.out 0\n",
      "Empty Output File:  Cluster_75.out 0\n",
      "Empty Output File:  Cluster_125.out 0\n",
      "Empty Output File:  Cluster_155.out 0\n",
      "Empty Output File:  Cluster_20.out 0\n",
      "Empty Output File:  Cluster_142.out 0\n",
      "Dumping /mnt/research/germs/shane/transActRNA/data/pickles/InfernalResults00.p Number of results: 977\n"
     ]
    }
   ],
   "source": [
    "infernalResults = ProcessInfernal(0)"
   ]
  },
  {
   "cell_type": "markdown",
   "metadata": {},
   "source": [
    "<h4>Build the dictionary to annotate sequences with a BLAST hit, a structural hit, both, or none</h4>"
   ]
  },
  {
   "cell_type": "code",
   "execution_count": 5,
   "metadata": {},
   "outputs": [
    {
     "name": "stdout",
     "output_type": "stream",
     "text": [
      "\n",
      "Dumping pickles/PaperAllBlastTreeColors.p\n",
      "\n",
      "# in both: 667\n",
      "# with no blast hit: 324\n",
      "# with no struct hit: 30\n",
      "# with no hit: 437\n",
      "\n",
      "Dumping pickles/PaperCombinedTreeColors.p\n"
     ]
    }
   ],
   "source": [
    "both = set(infernalResults.seqTracrs.keys()).intersection(tracrBLAST.keys())\n",
    "onlyStruct = set(infernalResults.seqTracrs.keys()).difference(tracrBLAST.keys())\n",
    "onlyBlast = set(tracrBLAST.keys()).difference(infernalResults.seqTracrs.keys())\n",
    "\n",
    "treeColors = {}\n",
    "for key in tracrBLAST.keys(): treeColors[key] = \"#9B7E46\"\n",
    "dump(treeColors,\"pickles/PaperAllBlastTreeColors.p\")\n",
    "    \n",
    "print \"\\n# in both:\", len(both)\n",
    "print \"# with no blast hit:\", len(onlyStruct)\n",
    "print \"# with no struct hit:\", len(onlyBlast)\n",
    "treeColors = {}\n",
    "bothCounter, onlyS, onlyB,noHit =0,0,0,0\n",
    "for id in casRelatedAssemblies:\n",
    "    if   id in both:       treeColors[id] = \"#70857A\"; bothCounter +=1\n",
    "    elif id in onlyStruct: treeColors[id] = \"#F4B266\"; onlyS +=1\n",
    "    elif id in onlyBlast:  treeColors[id] = \"#9B7E46\"; onlyB +=1\n",
    "    else: noHit += 1\n",
    "\n",
    "print \"# with no hit:\",noHit\n",
    "dump(treeColors,\"pickles/PaperCombinedTreeColors.p\")"
   ]
  },
  {
   "cell_type": "code",
   "execution_count": 7,
   "metadata": {},
   "outputs": [
    {
     "data": {
      "text/plain": [
       "1458"
      ]
     },
     "execution_count": 7,
     "metadata": {},
     "output_type": "execute_result"
    }
   ],
   "source": [
    "667+324+30+437"
   ]
  },
  {
   "cell_type": "markdown",
   "metadata": {},
   "source": [
    "<h4>Process and combine infernal results with blast to create consust strucutre clusters</h4>"
   ]
  },
  {
   "cell_type": "code",
   "execution_count": 18,
   "metadata": {},
   "outputs": [
    {
     "name": "stdout",
     "output_type": "stream",
     "text": [
      "1458\n",
      "Number of Strucutre hits: 991\n",
      "Found in 46 clusters\n",
      "\n",
      "Dumping pickles/KnownTracrStuctureHitColors.p\n"
     ]
    }
   ],
   "source": [
    "print len(casRelatedAssemblies)\n",
    "\n",
    "clusterMap = {}\n",
    "for cluster, seqIDS in infernalResults.structMapping.iteritems():\n",
    "    clusterMap[cluster] = len(seqIDS)\n",
    "\n",
    "infernalMap,colorMap = {},{}\n",
    "for seqID in infernalResults:\n",
    "    clusterName = findBiggestCluster(seqID, infernalResults[seqID],clusterMap)\n",
    "    try: infernalMap[seqID]=colorMap[clusterName]\n",
    "    except:\n",
    "        colorMap[clusterName] = color()\n",
    "        infernalMap[seqID]=colorMap[clusterName]\n",
    "         \n",
    "print \"Number of Strucutre hits:\", len (infernalMap)\n",
    "print \"Found in %i clusters\"% len(colorMap)\n",
    "dump(infernalMap,\"pickles/KnownTracrStuctureHitColors.p\")"
   ]
  },
  {
   "cell_type": "markdown",
   "metadata": {},
   "source": [
    "# Write systems that don't have a structural or blast or neither to a new file for the next step"
   ]
  },
  {
   "cell_type": "code",
   "execution_count": 19,
   "metadata": {},
   "outputs": [
    {
     "name": "stdout",
     "output_type": "stream",
     "text": [
      "Ready to do a tracrRNA search in 791 cas9-related genomic assemblies\n"
     ]
    }
   ],
   "source": [
    "fh = open(\"sequences/CasRelatedAssemblies_NoTracr.fa\" ,\"wb\")\n",
    "counter = 0\n",
    "for id, rec in casRelatedAssemblies.iteritems():\n",
    "    if id not in both:\n",
    "        write(rec,fh,\"fasta\")\n",
    "        counter+=1\n",
    "fh.close()\n",
    "print \"Ready to do a tracrRNA search in %i cas9-related genomic assemblies\" % (counter)"
   ]
  },
  {
   "cell_type": "markdown",
   "metadata": {},
   "source": [
    "\n",
    "\n",
    "\n",
    "\n",
    "\n",
    "\n",
    "\n",
    "\n",
    "\n",
    "\n",
    "\n",
    "\n",
    "\n",
    "\n",
    "\n",
    "\n",
    "\n",
    "\n",
    "\n",
    "\n",
    "\n",
    "\n",
    "\n",
    "\n",
    "\n",
    "\n",
    "\n",
    "\n",
    "\n",
    "\n",
    "\n",
    "\n",
    "\n",
    "\n",
    "\n",
    "\n",
    "\n",
    "\n",
    "\n",
    "\n",
    "\n",
    "\n",
    "\n",
    "\n",
    "\n",
    "\n",
    "\n",
    "\n",
    "\n",
    "\n",
    "\n"
   ]
  },
  {
   "cell_type": "markdown",
   "metadata": {},
   "source": [
    "<h4>Development Artifacts, not important</h4>"
   ]
  },
  {
   "cell_type": "code",
   "execution_count": 7,
   "metadata": {},
   "outputs": [
    {
     "name": "stdout",
     "output_type": "stream",
     "text": [
      "There are a total of 0 duplication values\n",
      "The new file has a total of 220 tracrRNAs\n"
     ]
    }
   ],
   "source": [
    "from Bio.SeqIO import parse\n",
    "seq_rec = {}\n",
    "counter =0\n",
    "for rec in parse(\"KnownTracrRNAs.fa\",\"fasta\"):\n",
    "    if rec.id not in seq_rec:\n",
    "        seq_rec[rec.id]=str(rec.seq)\n",
    "    else:\n",
    "        #print rec.id, \n",
    "        if (seq_rec[rec.id]!=str(rec.seq)):\n",
    "            counter +=1\n",
    "            seq_rec[rec.id+\"_DUP%i\" % counter]=str(rec.seq)\n",
    "            print rec.id\n",
    "            print seq_rec[rec.id]\n",
    "            print str(rec.seq)\n",
    "            print\n",
    "            \n",
    "fh = open(\"KnownTracrRNAs.fasta\",\"w\")\n",
    "for id,seq in seq_rec.iteritems():\n",
    "    fh.write(\">%s\\n%s\\n\"%(id,seq))\n",
    "fh.close()\n",
    "print \"There are a total of %i duplication values\" % counter\n",
    "print \"The new file has a total of %i tracrRNAs\" %(len(seq_rec))\n"
   ]
  },
  {
   "cell_type": "code",
   "execution_count": 4,
   "metadata": {},
   "outputs": [],
   "source": [
    "casRelatedAssembliesFile = \"sequences/CasRelatedAssemblies.fa\"\n",
    "casRelatedAssemblies = fasta_index(casRelatedAssembliesFile,\"fasta\")\n",
    "cas9Proteins = fasta_index(\"proteins/Cas9-Like-clustered-2.faa\",\"fasta\")"
   ]
  },
  {
   "cell_type": "code",
   "execution_count": 8,
   "metadata": {},
   "outputs": [],
   "source": [
    "from Bio.SeqIO import write\n",
    "fh = open(\"CasRelatedAssemblies.fa\",\"w\")\n",
    "for id in cas9Proteins: write(casRelatedAssemblies[id],fh,\"fasta\")\n",
    "fh.close()"
   ]
  },
  {
   "cell_type": "code",
   "execution_count": 9,
   "metadata": {},
   "outputs": [],
   "source": [
    "fh = open(\"sequences/PioneerCrisprs.txt\")\n",
    "fh.readline()\n",
    "fasta = open(\"sequences/PioneerCrisprs.fasta\",\"w\")\n",
    "seqIds = set()\n",
    "for line in fh:\n",
    "    rec = line.strip().split('\\t')\n",
    "    rec[0] = rec[0].replace(\"sp.\",\"sp\")\n",
    "    id = rec[0].replace(\" \",\"_\")\n",
    "    if rec[0] == \"\":break\n",
    "    count=0\n",
    "    while id in seqIds:\n",
    "        count+=1\n",
    "        id = rec[0].replace(\" \",\"_\") + \"_%i\" % (count)\n",
    "    fasta.write(\">%s\\n%s\\n\" % (id,rec[1]))\n",
    "    seqIds.add(id)\n",
    "fasta.close()\n"
   ]
  }
 ],
 "metadata": {
  "kernelspec": {
   "display_name": "Python 3",
   "language": "python",
   "name": "python3"
  },
  "language_info": {
   "codemirror_mode": {
    "name": "ipython",
    "version": 3
   },
   "file_extension": ".py",
   "mimetype": "text/x-python",
   "name": "python",
   "nbconvert_exporter": "python",
   "pygments_lexer": "ipython3",
   "version": "3.6.7"
  }
 },
 "nbformat": 4,
 "nbformat_minor": 2
}
