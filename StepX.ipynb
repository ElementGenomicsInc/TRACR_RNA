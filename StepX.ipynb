{
 "cells": [
  {
   "cell_type": "markdown",
   "metadata": {},
   "source": [
    "# Structure Seach\n",
    "#### Using the tracrRNAs found in Step 2, look for the consensus structure of each tracrRNA in the population."
   ]
  },
  {
   "cell_type": "markdown",
   "metadata": {},
   "source": [
    "# Keep this for the generete consensus method, If i want to take Step 3 results and do a deeper search"
   ]
  },
  {
   "cell_type": "code",
   "execution_count": 1,
   "metadata": {},
   "outputs": [
    {
     "name": "stdout",
     "output_type": "stream",
     "text": [
      "Number of Cas9s: 2023\n"
     ]
    }
   ],
   "source": [
    "%load_ext autoreload\n",
    "%autoreload 2\n",
    "\n",
    "#Imports\n",
    "import sys\n",
    "sys.path.append(\"scripts/\")\n",
    "from AnnotateTree import AnnotateTree\n",
    "from Bio import pairwise2\n",
    "from Bio.Seq import Seq\n",
    "from Bio.SeqIO import parse, write\n",
    "from collections import Counter\n",
    "from easyFunctions import *\n",
    "from InfernalResults import TRACR_RNA, ProcessInfernal\n",
    "from StructureSearch import Main as StructureSearch\n",
    "from os import chdir,system\n",
    "from pickle import load,dump\n",
    "from random import randint\n",
    "\n",
    "#Global processes\n",
    "def generate_consensus_struct_seqs_from_struct_results(infSearch,round_num):\n",
    "    print \"Generating Consensus Seqs For Round %i:\" % (round_num)\n",
    "    system(\"mkdir data/conseqs%i\" % (round_num))\n",
    "    structs = {}\n",
    "    count = 0\n",
    "    for ID,info in infSearch.iteritems():\n",
    "        for hitset in info:\n",
    "            for hit in hitset:\n",
    "                if hit.location.start < hit.location.end:\n",
    "                    try: structs[hit.structName].append(records[ID][hit.location.start-1:hit.location.end])\n",
    "                    except: structs[hit.structName]= [records[ID][hit.location.start-1:hit.location.end]]\n",
    "                else:\n",
    "                    try: structs[hit.structName].append(records[ID][hit.location.end-1:hit.location.start])\n",
    "                    except: structs[hit.structName]= [records[ID][hit.location.end-1:hit.location.start]]\n",
    "    print \"TracrName\",\"#Seqs\", \"#UniqSeqs\"\n",
    "    for sName, seqs in structs.iteritems():\n",
    "        newFasta = MakeFasta(\"data/conseqs%i/%s.fa\" % (round_num, sName))\n",
    "        counter = 0\n",
    "        uniqSeqs = set(seqs)\n",
    "        for seq in uniqSeqs:\n",
    "            newFasta.write(sName.replace(\"_consensus\",\"\") + \"_%i\" % counter,seq)\n",
    "            counter += 1\n",
    "        print \"\\t\",sName,len(seqs),len(uniqSeqs)\n",
    "        newFasta.close()\n",
    "    return \"data/conseqs%i\" % (round_num)\n",
    "\n",
    "def FilterConSeqs(seqSet,referenceSeq,name):\n",
    "    retSet = set()\n",
    "    for seq in seqSet:\n",
    "        percIdent1 = CalcPercIdent(referenceSeq,seq)\n",
    "        percIdent2 = CalcPercIdent(referenceSeq,str(Seq(seq).reverse_complement()))\n",
    "        if percIdent1 > 65.0 or percIdent2 > 65.0:\n",
    "            if percIdent2 > percIdent1:seq = str(Seq(seq).reverse_complement())\n",
    "            retSet.add(seq)       \n",
    "    return retSet\n",
    "r = lambda: randint(0,255)\n",
    "def color():return '#%02X%02X%02X' % (r(),r(),r())\n",
    "\n",
    "#Global variables \n",
    "records={}\n",
    "for rec in parse(\"data/CasRelatedAssemblies.fasta\", \"fasta\"): records[rec.id] = str(rec.seq)           \n",
    "print \"Number of Cas9s:\",len(records)    "
   ]
  },
  {
   "cell_type": "code",
   "execution_count": 2,
   "metadata": {},
   "outputs": [
    {
     "name": "stdout",
     "output_type": "stream",
     "text": [
      "Running Structural search\n",
      "Parsing structural result output\n",
      "Dumping /mnt/research/germs/shane/transActRNA/data/pickles/InfernalResults02.p Number of results: 833\n"
     ]
    }
   ],
   "source": [
    "print \"Running Structural search\"\n",
    "#StructureSearch(0) \n",
    "print \"Parsing structural result output\"\n",
    "chdir(\"/mnt/research/germs/shane/transActRNA/data\")\n",
    "infernalResults = ProcessInfernal(2)\n",
    "chdir(\"/mnt/research/germs/shane/transActRNA/data\")\n",
    "\n",
    "# for roundNum in range(2,5):\n",
    "#     print \"Starting Round:\",roundNum + 1\n",
    "#     #Load the previous round results\n",
    "#     fileName = \"data/pickles/InfernalResults0%i.p\" % (roundNum)\n",
    "#     infernalSearch = load(open(fileName,\"rb\"))\n",
    "#     dupHitsInAssembly = 0\n",
    "#     for ID,structResults in infernalSearch.iteritems():\n",
    "#         if len(structResults)>1: dupHitsInAssembly+=1\n",
    "#     print \"Round %i Results\" % (roundNum)\n",
    "# #     print \"\\t\",file\n",
    "#     print \"\\tNumber of assemblies covered:\", len(infernalSearch.keys())\n",
    "#     print \"\\tNumber of assemblies w/more than one struct hit:\",dupHitsInAssembly\n",
    "#     break\n",
    "#     #Generate new consensus seqs\n",
    "#     newConsDir = generate_consensus_struct_seqs_from_struct_results(infernalSearch,roundNum+1)\n",
    "#     chdir(newConsDir)\n",
    "#     #Process the next round of infernal results from the conseqs\n",
    "#     print \"Running Structural search\"\n",
    "#     StructureSearch(roundNum+1)\n",
    "#     print \"Parsing structural result output\"\n",
    "#     ProcessInfernal(roundNum+1)\n",
    "#     chdir(\"\")"
   ]
  },
  {
   "cell_type": "code",
   "execution_count": 8,
   "metadata": {},
   "outputs": [],
   "source": [
    "chdir(\"../../\")"
   ]
  },
  {
   "cell_type": "code",
   "execution_count": 3,
   "metadata": {},
   "outputs": [
    {
     "name": "stdout",
     "output_type": "stream",
     "text": [
      "/mnt/research/germs/shane/transActRNA\n"
     ]
    }
   ],
   "source": [
    "%%bash\n",
    "pwd"
   ]
  },
  {
   "cell_type": "code",
   "execution_count": 3,
   "metadata": {},
   "outputs": [],
   "source": [
    "colorCodes={}\n",
    "TreeColors={}\n",
    "for res in infernalResults:\n",
    "    hitList = list(infernalResults[res])\n",
    "    hitList.sort()\n",
    "    try:TreeColors[res] = colorCodes[hitList[0]]\n",
    "    except:\n",
    "        colorCodes[hitList[0]] = color()\n",
    "        TreeColors[res] = colorCodes[hitList[0]]\n",
    "import pickle\n",
    "pickle.dump(TreeColors, open(\"pickles/CondensedTreeColors.p\",\"wb\"))"
   ]
  },
  {
   "cell_type": "code",
   "execution_count": null,
   "metadata": {},
   "outputs": [],
   "source": [
    "CasTree = AnnotateTree([],tree=\"data/Cas9-Like-clustered.faa.tree\",colors=TreeColors)\n",
    "CasTree.tree.render(file_name=\"InitResults.jpeg\", w=1000, tree_style=CasTree.ts)\n",
    "print \"dsfsf\""
   ]
  }
 ],
 "metadata": {
  "kernelspec": {
   "display_name": "Python 2",
   "language": "python",
   "name": "python2"
  },
  "language_info": {
   "codemirror_mode": {
    "name": "ipython",
    "version": 2
   },
   "file_extension": ".py",
   "mimetype": "text/x-python",
   "name": "python",
   "nbconvert_exporter": "python",
   "pygments_lexer": "ipython2",
   "version": "2.7.14"
  }
 },
 "nbformat": 4,
 "nbformat_minor": 2
}
