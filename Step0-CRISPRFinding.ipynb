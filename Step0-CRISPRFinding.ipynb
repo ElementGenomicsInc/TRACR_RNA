{
 "cells": [
  {
   "cell_type": "markdown",
   "metadata": {},
   "source": [
    "#### Step 1. Find all assemblies"
   ]
  },
  {
   "cell_type": "code",
   "execution_count": 1,
   "metadata": {},
   "outputs": [],
   "source": [
    "from datetime import datetime\n",
    "from glob import glob\n",
    "from os import chdir, listdir, path, stat, system\n",
    "from pandas import Series\n",
    "from pickle import dump, load\n",
    "from sys import path as spath\n",
    "spath.append(\"scripts/\")\n",
    "from CRISPRtools import CasOperon\n",
    "chdir(\"data\")\n",
    "def baseAssembly(fname): return fname[:fname.rfind(\".\")], fname[fname.rfind(\".\"):]"
   ]
  },
  {
   "cell_type": "code",
   "execution_count": 2,
   "metadata": {},
   "outputs": [
    {
     "name": "stdout",
     "output_type": "stream",
     "text": [
      "Checking NCBI/refseq/archaea\n",
      "Checking NCBI/refseq/bacteria\n",
      "Checking NCBI/genbank/bacteria\n",
      "Checking NCBI/genbank/archaea\n",
      "Checking PATRIC2/fastas\n",
      "Ready to dump\n",
      "Number of assemblies on 2019-05-14 11:55:14.287848: 619349\n"
     ]
    }
   ],
   "source": [
    "theDate = datetime.now()\n",
    "allAssemblies = {}\n",
    "refDatabases = [\"NCBI/refseq/archaea\",\"NCBI/refseq/bacteria\",\"NCBI/genbank/bacteria\",\"NCBI/genbank/archaea\",\"PATRIC2/fastas\"]\n",
    "baseDbsDir = \"/mnt/research/germs/shane/databases/assemblies/\"\n",
    "validExts = set([\".fasta\",\".fna\",\".fa\"])\n",
    "for db in refDatabases:\n",
    "    print(\"Checking\",db)\n",
    "    for assembly in listdir(baseDbsDir+db):\n",
    "        asmID, ext = baseAssembly(assembly)\n",
    "        if ext not in validExts: continue\n",
    "        allAssemblies[asmID] = baseDbsDir + db + \"/\" + assembly\n",
    "print(\"Ready to dump\")\n",
    "dump(allAssemblies,open(\"pickles/allAssemblies.p\",\"wb\"))     \n",
    "print(\"Number of assemblies on %s: %i\" % (theDate, len(allAssemblies)))"
   ]
  },
  {
   "cell_type": "code",
   "execution_count": 2,
   "metadata": {},
   "outputs": [
    {
     "name": "stdout",
     "output_type": "stream",
     "text": [
      "Number of assemblies from all sources as of 17:10:53 05-13-2019: 619349 assemblies\n"
     ]
    }
   ],
   "source": [
    "tStamp = path.getmtime(\"pickles/allAssemblies.p\")\n",
    "theDate = datetime.fromtimestamp(tStamp).strftime('%H:%M:%S %m-%d-%Y')\n",
    "allAssemblies = load(open(\"pickles/allAssemblies.p\",\"rb\"))\n",
    "print(\"Number of assemblies from all sources as of %s: %i assemblies\" % (theDate, len(allAssemblies)))"
   ]
  },
  {
   "cell_type": "markdown",
   "metadata": {},
   "source": [
    "#### Step 2. Process the CRISPR results\n",
    "1. Check to see if the assembly related to file has a crispr array\n",
    "2. Add any assembly with a crispr array to a master list"
   ]
  },
  {
   "cell_type": "code",
   "execution_count": 3,
   "metadata": {},
   "outputs": [
    {
     "name": "stdout",
     "output_type": "stream",
     "text": [
      "Working on checking 216439 CRISPRs from /mnt/research/germs/shane/databases/crisprs/pilerCR/pat2/\n",
      "\t14% of the way through with 18011 CRISPRs found\n",
      "\t29% of the way through with 36017 CRISPRs found\n",
      "\t44% of the way through with 54121 CRISPRs found\n",
      "\t59% of the way through with 72164 CRISPRs found\n",
      "\t74% of the way through with 90322 CRISPRs found\n",
      "\t89% of the way through with 108534 CRISPRs found\n",
      "Working on checking 462727 CRISPRs from /mnt/research/germs/shane/databases/crisprs/pilerCR/genbank/\n",
      "\t14% of the way through with 141872 CRISPRs found\n",
      "\t29% of the way through with 163164 CRISPRs found\n",
      "\t44% of the way through with 184595 CRISPRs found\n",
      "\t59% of the way through with 205849 CRISPRs found\n",
      "\t74% of the way through with 227070 CRISPRs found\n",
      "\t89% of the way through with 248362 CRISPRs found\n",
      "Working on checking 160687 CRISPRs from /mnt/research/germs/shane/databases/crisprs/pilerCR/refseq/\n",
      "\t14% of the way through with 277003 CRISPRs found\n",
      "\t29% of the way through with 291255 CRISPRs found\n",
      "\t44% of the way through with 305521 CRISPRs found\n",
      "\t59% of the way through with 319779 CRISPRs found\n",
      "\t74% of the way through with 333657 CRISPRs found\n",
      "\t89% of the way through with 347268 CRISPRs found\n",
      "Working on checking 216411 CRISPRs from /mnt/research/germs/shane/databases/crisprs/minCED/pat2/\n",
      "\t14% of the way through with 358796 CRISPRs found\n",
      "\t29% of the way through with 361152 CRISPRs found\n",
      "\t44% of the way through with 363563 CRISPRs found\n",
      "\t59% of the way through with 366014 CRISPRs found\n",
      "\t74% of the way through with 368535 CRISPRs found\n",
      "\t89% of the way through with 370850 CRISPRs found\n",
      "Working on checking 245862 CRISPRs from /mnt/research/germs/shane/databases/crisprs/minCED/genbank/\n",
      "\t14% of the way through with 376062 CRISPRs found\n",
      "\t29% of the way through with 379568 CRISPRs found\n",
      "\t44% of the way through with 383012 CRISPRs found\n",
      "\t59% of the way through with 386689 CRISPRs found\n",
      "\t74% of the way through with 390297 CRISPRs found\n",
      "\t89% of the way through with 393839 CRISPRs found\n",
      "Working on checking 156999 CRISPRs from /mnt/research/germs/shane/databases/crisprs/minCED/refseq/\n",
      "\t14% of the way through with 398259 CRISPRs found\n",
      "\t29% of the way through with 400430 CRISPRs found\n",
      "\t44% of the way through with 402613 CRISPRs found\n",
      "\t59% of the way through with 404799 CRISPRs found\n",
      "\t74% of the way through with 406874 CRISPRs found\n",
      "\t89% of the way through with 408947 CRISPRs found\n",
      "Saving progress for 410307 crisprs from 1459125 assemblies\n"
     ]
    }
   ],
   "source": [
    "from CRISPRtools import CasOperons\n",
    "crisprDir = \"/mnt/research/germs/shane/databases/crisprs/\"\n",
    "tools = [\"pilerCR/\", \"minCED/\"]\n",
    "dbs = ['pat2','genbank','refseq']\n",
    "crisprFiles = CasOperons()\n",
    "for tool in tools:\n",
    "    for db in dbs:\n",
    "        filePath = crisprDir+tool+db+\"/\"\n",
    "        crisprFiles.hasCrispr(listdir(filePath), tool == \"pilerCR/\",filePath,allAssemblies)\n",
    "crisprFiles.saveProgress()\n",
    "dump(crisprFiles, open(\"pickles/casOperonDataStructure.p\",\"wb\")) "
   ]
  },
  {
   "cell_type": "code",
   "execution_count": 9,
   "metadata": {},
   "outputs": [
    {
     "data": {
      "text/plain": [
       "'/mnt/research/germs/shane/databases/crisprs/pilerCR/pat2/'"
      ]
     },
     "execution_count": 9,
     "metadata": {},
     "output_type": "execute_result"
    }
   ],
   "source": [
    "filePath = crisprDir+tools[0]+dbs[1]+\"/\"\n",
    "filePath"
   ]
  },
  {
   "cell_type": "code",
   "execution_count": 16,
   "metadata": {},
   "outputs": [
    {
     "name": "stdout",
     "output_type": "stream",
     "text": [
      "Working on checking 216439 CRISPRs from /mnt/research/germs/shane/databases/crisprs/pilerCR/pat2/\n",
      "\t14% of the way through with 18011 CRISPRs found\n",
      "\t29% of the way through with 36017 CRISPRs found\n",
      "\t44% of the way through with 54121 CRISPRs found\n",
      "\t59% of the way through with 72164 CRISPRs found\n",
      "\t74% of the way through with 90322 CRISPRs found\n",
      "\t89% of the way through with 108534 CRISPRs found\n"
     ]
    }
   ],
   "source": [
    "casop.hasCrispr(listdir(filePath), True, filePath,allAssemblies)\n"
   ]
  },
  {
   "cell_type": "code",
   "execution_count": 4,
   "metadata": {},
   "outputs": [],
   "source": [
    "dump(crisprFiles, open(\"pickles/casOperonDataStructure.p\",\"wb\")) "
   ]
  },
  {
   "cell_type": "code",
   "execution_count": 14,
   "metadata": {},
   "outputs": [],
   "source": [
    "def baseFile(fname): return fname[:fname.rfind(\".\")], fname[fname.rfind(\".\"):]\n",
    "class CasOperons:\n",
    "    def __init__(self):\n",
    "        self.casOperon = {}\n",
    "        self.crisprs = {}\n",
    "        self.numCrisprFiles = 0\n",
    "        self.revMap = {}\n",
    "        self.uniqNukSeqs = {}\n",
    "        self.uniqNukSeqMap = {}\n",
    "    \n",
    "    def hasCrispr(self,crisprFiles,toolType,crisprPath,assemblyPath):\n",
    "        nCrisprs = len(crisprFiles)\n",
    "        print(\"Working on checking %i CRISPRs from %s\" % (nCrisprs,crisprPath))\n",
    "        validExts = set([\".pcrout\",\".mnout\"])\n",
    "        percCutoff = int(nCrisprs*.15)\n",
    "        counter = 0\n",
    "        self.numCrisprFiles += nCrisprs\n",
    "        if toolType: minSize = 200 #PilerCR File\n",
    "        else: minSize = 0 #MinCED File\n",
    "        for fileName in crisprFiles:\n",
    "            counter += 1\n",
    "            if counter % percCutoff == 0: print(\"\\t%i%% of the way through with %i CRISPRs found\" % (int((counter/float(nCrisprs))*100),len(self.crisprs)))\n",
    "            fsize = stat(crisprPath+\"/\"+fileName).st_size\n",
    "            baseAsmName, ext = baseFile(fileName)\n",
    "            if fsize <= minSize or ext not in validExts:continue\n",
    "            try: self.crisprs[baseAsmName].addCRISPR(crisprPath + fileName)\n",
    "            except: self.crisprs[baseAsmName] = CasOperon(assemblyPath[baseAsmName],crisprPath + fileName)"
   ]
  },
  {
   "cell_type": "code",
   "execution_count": 15,
   "metadata": {},
   "outputs": [],
   "source": [
    "casop = CasOperons()"
   ]
  },
  {
   "cell_type": "code",
   "execution_count": null,
   "metadata": {},
   "outputs": [],
   "source": [
    "\n",
    "\n",
    "\n",
    "\n",
    "\n",
    "\n",
    "\n",
    "\n",
    "\n",
    "\n",
    "\n",
    "\n",
    "\n",
    "\n",
    "\n",
    "\n",
    "\n",
    "\n",
    "\n",
    "\n",
    "\n",
    "\n",
    "\n",
    "\n",
    "\n",
    "\n",
    "\n",
    "\n"
   ]
  },
  {
   "cell_type": "code",
   "execution_count": 8,
   "metadata": {},
   "outputs": [
    {
     "name": "stdout",
     "output_type": "stream",
     "text": [
      "Number of CRISPRs detected: 353602\n",
      "Not in db: 0\n",
      "353602\n"
     ]
    }
   ],
   "source": [
    "assembliesWCrisprs = allAssemblies # copy.deepcopy(allAssemblies)\n",
    "seqHashes,notInDB,nf = set(),set(),[]\n",
    "sizeDist = []\n",
    "samples = []\n",
    "for db in dbs:\n",
    "    for fileName in pilerCRFiles[db]:\n",
    "        fsize = stat(pilerCRDir+db+\"/\"+fileName).st_size\n",
    "        assemblyID = fileName[:fileName.rfind(\".\")] \n",
    "        if (fsize <= 200): \n",
    "            del assembliesWCrisprs[assemblyID]\n",
    "        else: \n",
    "            sizeDist.append(fsize)\n",
    "            samples.append(assemblyID)\n",
    "print(\"Number of CRISPRs detected:\",len(assembliesWCrisprs))\n",
    "print(\"Not in db:\", len(notInDB))\n",
    "print(len(sizeDist))\n",
    "assembliesWCrisprs = dump(open(\"pickles/allAssemblyW_CRISPRs.p\",\"rb\")) \n",
    "\n",
    "dump(assembliesWCrisprs,open(\"data/pickles/allAssemblyCRISPRs.p\",\"wb\"))     "
   ]
  },
  {
   "cell_type": "code",
   "execution_count": 10,
   "metadata": {},
   "outputs": [
    {
     "data": {
      "text/plain": [
       "count    353602.000000\n",
       "mean       6349.021241\n",
       "std        6234.788022\n",
       "min        1419.000000\n",
       "25%        1964.000000\n",
       "50%        4302.000000\n",
       "75%        8160.000000\n",
       "max      166672.000000\n",
       "dtype: float64"
      ]
     },
     "execution_count": 10,
     "metadata": {},
     "output_type": "execute_result"
    }
   ],
   "source": [
    "sizeDist= Series(sizeDist,index=samples)\n",
    "sizeDist.describe()"
   ]
  },
  {
   "cell_type": "code",
   "execution_count": 18,
   "metadata": {},
   "outputs": [
    {
     "data": {
      "text/plain": [
       "6940"
      ]
     },
     "execution_count": 18,
     "metadata": {},
     "output_type": "execute_result"
    }
   ],
   "source": [
    "# from os import system,path\n",
    "# from pickle import load\n",
    "# count = 0\n",
    "# assembliesWCrisprs = load(open(\"data/pickles/allAssemblyW_CRISPRs.p\",\"rb\"))\n",
    "# asmLinkPath = \"/mnt/research/germs/shane/transActRNA/data/assemblies/assemblies_W_CRISPRs\"\n",
    "# for asmName, asmPath in assembliesWCrisprs.items():\n",
    "#     cmd = \"ln -s %s %s/%s.fasta\" % (asmPath,asmLinkPath,asmName)\n",
    "#     if not path.exists(\"%s/%s.fasta\" % (asmLinkPath,asmName)): \n",
    "#         count+=1\n",
    "# #         system(cmd)    \n",
    "# count"
   ]
  },
  {
   "cell_type": "code",
   "execution_count": null,
   "metadata": {},
   "outputs": [],
   "source": []
  },
  {
   "cell_type": "code",
   "execution_count": null,
   "metadata": {},
   "outputs": [],
   "source": [
    "pilerCR_results[protID] = PilerCRReader(pilerCRFileName)"
   ]
  },
  {
   "cell_type": "code",
   "execution_count": null,
   "metadata": {},
   "outputs": [],
   "source": [
    "for fileName in files:\n",
    "    if (\".pcrout\" not in fileName):continue\n",
    "    system(\"mv %s /mnt/research/germs/shane/databases/crisprs/pilerCR/pat2/\" % (fileName))"
   ]
  },
  {
   "cell_type": "code",
   "execution_count": null,
   "metadata": {},
   "outputs": [],
   "source": [
    "import hashlib\n",
    "def get_md5(filePath):\n",
    "    with open(filePath, 'rb') as fh:\n",
    "        m = hashlib.md5()\n",
    "        while True:\n",
    "            data = fh.read(8192)\n",
    "            if not data:\n",
    "                break\n",
    "            m.update(data)\n",
    "        return m.hexdigest()"
   ]
  },
  {
   "cell_type": "code",
   "execution_count": 17,
   "metadata": {},
   "outputs": [
    {
     "data": {
      "text/plain": [
       "(97286, 440288)"
      ]
     },
     "execution_count": 17,
     "metadata": {},
     "output_type": "execute_result"
    }
   ],
   "source": [
    "count =0\n",
    "linkpaths = listdir(asmLinkPath)\n",
    "for fname in linkpaths:\n",
    "    if fname.replace(\".fasta\",\"\") not in allAssemblies:\n",
    "        system(\"unlink %s/%s\" %(asmLinkPath,fname))\n",
    "        count +=1\n",
    "count,len(linkpaths)"
   ]
  },
  {
   "cell_type": "code",
   "execution_count": null,
   "metadata": {},
   "outputs": [],
   "source": [
    "%%bash\n",
    "ls"
   ]
  }
 ],
 "metadata": {
  "kernelspec": {
   "display_name": "Python 3",
   "language": "python",
   "name": "python3"
  },
  "language_info": {
   "codemirror_mode": {
    "name": "ipython",
    "version": 3
   },
   "file_extension": ".py",
   "mimetype": "text/x-python",
   "name": "python",
   "nbconvert_exporter": "python",
   "pygments_lexer": "ipython3",
   "version": "3.6.7"
  }
 },
 "nbformat": 4,
 "nbformat_minor": 2
}
