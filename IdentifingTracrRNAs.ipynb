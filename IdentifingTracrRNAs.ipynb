{
 "cells": [
  {
   "cell_type": "markdown",
   "metadata": {},
   "source": [
    "<div class=\"alert alert-block alert-success\">\n",
    "    \n",
    "## Python libraries used by this module\n",
    "    \n",
    "</div>"
   ]
  },
  {
   "cell_type": "code",
   "execution_count": null,
   "metadata": {},
   "outputs": [],
   "source": [
    "%matplotlib inline\n",
    "from sys import path as spath\n",
    "spath.append(\"scripts/\") #Location of the modules created for this pipeline\n",
    "\n",
    "#Modules created for this pipeline\n",
    "from CRISPRtools import * #MakeFasta, PilerCRReader, MinCEDReader\n",
    "from easyFunctions import BLAST_short, Coordinate, dump\n",
    "from InfernalResults import *\n",
    "from HMMParser import *\n",
    "from Rho import *\n",
    "\n",
    "#Native and conda installed modules\n",
    "from Bio.Seq import Seq\n",
    "from Bio.SeqFeature import SeqFeature, FeatureLocation\n",
    "from Bio.SeqIO import index as fasta_index, parse, write\n",
    "from Bio.SeqRecord import SeqRecord\n",
    "from os import chdir, path, stat, system\n",
    "from pandas import Series\n",
    "from pickle import load\n",
    "from RNA import fold as fold_rna\n",
    "import IPython.display as ipd\n",
    "done = ipd.Audio('DoneSound.wav',autoplay=True)\n",
    "print(\"Loaded libraries\")\n",
    "\n",
    "done"
   ]
  },
  {
   "cell_type": "markdown",
   "metadata": {},
   "source": [
    "<div class=\"alert alert-block alert-danger\">\n",
    "    \n",
    "## Load the assembly pseudochromosomes that have a CRISPR array and a Cas9\n",
    "    \n",
    "</div>"
   ]
  },
  {
   "cell_type": "code",
   "execution_count": null,
   "metadata": {},
   "outputs": [],
   "source": [
    "chdir(\"data\") # path to the data folder from the git repo\n",
    "allAssemblies = dict(fasta_index(\"proteins/All_Cas9-Like-filtered.faa\",'fasta')) \n",
    "erpEXE_Path = \"../scripts/Arnold/erpin\"\n",
    "rhoDatabase = \"../scripts/Arnold/rho-indep.epn\"\n",
    "casOperons = load(open(\"pickles/Cas9_Operons.p\",\"rb\"))"
   ]
  },
  {
   "cell_type": "markdown",
   "metadata": {},
   "source": [
    "<div class=\"alert alert-block alert-success\">\n",
    "    \n",
    "## Output files, counts, and data structures\n",
    "    \n",
    "</div>"
   ]
  },
  {
   "cell_type": "code",
   "execution_count": null,
   "metadata": {},
   "outputs": [],
   "source": [
    "noPredictedTracr = {} # {ID:Reason it didn't have a tracr}\n",
    "totalSols, erpSols, breakCount, hadToGetSeq = 0, 0, 0, 0\n",
    "sgFolds = open(\"tables/AllPredictedSgRNA_folds.tsv\",\"w\")\n",
    "sgFolds.write(\"\\t\".join([\"Seq Name\",\"Repeat Folding Count\",\"Repeat Length\",\"tracr strand\",\"tracrSeq\",\"sgRNA\",\"Fold\",\"Consensus Repeat\",\"Repeat Dir\"])+'\\n')\n",
    "sgRNASols = open(\"sequences/AllPredictedSgRNAs.fasta\",\"w\")\n",
    "possibleSol = open(\"sequences/AllPredicted_TracrRNAs.fasta\",\"w\")\n",
    "breakPoints = set(range(0,len(allAssemblies),100))"
   ]
  },
  {
   "cell_type": "markdown",
   "metadata": {},
   "source": [
    "<div class=\"alert alert-block alert-success\">\n",
    "    \n",
    "## Search through each pseudochromosome\n",
    "    \n",
    "</div>"
   ]
  },
  {
   "cell_type": "code",
   "execution_count": null,
   "metadata": {},
   "outputs": [],
   "source": [
    "print(\"Searching through %i assemblies for tracrRNAs.\\n\" % (len(allAssemblies)))\n",
    "for i, protID in enumerate(allAssemblies):\n",
    "    if i in breakPoints: print(i,end=' ')\n",
    "\n",
    "    # Step 1. Get the CRISPR \n",
    "    operon = casOperons[protID]\n",
    "    crispr = operon.getCRISPR(protID)\n",
    "\n",
    "    # Step 2. Write all consensus repeats to a file\n",
    "    if not path.exists(operon.getRepeatPath(protID)): crispr.repeatSeqs(protID,open(operon.getRepeatPath(protID),'w'))\n",
    "\n",
    "    # Step 3. Blast the consensus repeats against the Cas-like protein-containing chromosome\n",
    "    try:\n",
    "        if not path.exists(\"blastout/conRepeats/%s.xml\" % (protID)):\n",
    "            blastResults = parseBLAST(BLAST_short(operon.getRepeatPath(protID), operon.getFastaPointer(protID), \"blastout/conRepeats/%s.xml\" % (protID)))\n",
    "        blastResults = parseBLAST(NCBIXML.parse(open(\"blastout/conRepeats/%s.xml\" % (protID),'r')))\n",
    "    except:\n",
    "        print('\\nBlast error for '+protID,operon.getFastaPointer(protID),operon.getRepeatPath(protID))\n",
    "        blastResults = []\n",
    "    if len(blastResults) == 0: \n",
    "        noPredictedTracr[protID] = 'No BLAST results'\n",
    "        continue\n",
    "\n",
    "    #Step 4. Narrow the blast results down by removing crRNAs\n",
    "    crispr.clusterBLASTResults(blastResults,protID)\n",
    "     \n",
    "    # Step 5. Get the approriate flanking sequence for each anti-repeat candidate\n",
    "    if len(crispr.antiRepeats) == 0:\n",
    "        noPredictedTracr[protID] = 'No Anti-repeats'\n",
    "        continue\n",
    "    antiPath = \"sequences/antiCandidates/%s.fasta\" % (protID)\n",
    "    if not path.exists(antiPath):\n",
    "        crispr.getAntiRepeatCandidates(open(antiPath,\"w\"), operon.getSeq())\n",
    "        strSeq = operon.getSeq()\n",
    "        with open(antiPath,\"w\") as fh:\n",
    "            for anti in crispr.antiRepeats.values():\n",
    "                anti.name =protID\n",
    "                fh.write(anti.getSeq(strSeq)+'\\n')\n",
    "\n",
    "    # Step 6. Look for termination signals\n",
    "    terminalPath = \"sequences/rhoTerms/%s.out\" % (protID)\n",
    "    if not path.exists(terminalPath):\n",
    "        res = system(\"%s %s %s -1,4 -add 2 4 2 -pcw 3.0 -cutoff 100%% > %s\" % (erpEXE_Path, rhoDatabase, antiPath, terminalPath))\n",
    "    if res != 0:\n",
    "        noPredictedTracr[protID] = 'Erpin Failed %i' % (res)\n",
    "        continue\n",
    "    \n",
    "    # Step 7. Read the termination signals\n",
    "    erpOut = ErpinOut(outfile=terminalPath,inputfile=antiPath)\n",
    "    erpSols += len(erpOut.terminators)\n",
    "\n",
    "    # Step 8. Get tracrRNA candidates with rho-ind signals\n",
    "    numNewTracrs = crispr.getTracrRNA_Candidates(erpOut,possibleSol,sgRNASols,sgFolds)\n",
    "    if numNewTracrs == 0: noPredictedTracr[protID] = 'No terminators'\n",
    "    \n",
    "    # Keep track of how many solutions have been found so far and print\n",
    "    totalSols += numNewTracrs\n",
    "\n",
    "possibleSol.close()\n",
    "sgFolds.close()\n",
    "sgRNASols.close()\n",
    "print(\"\\nErpin Solutions:\", erpSols)\n",
    "print(\"Found %i possible tracr solutions from %i assmeblies\" % (totalSols,i-len(noPredictedTracr)))\n",
    "done"
   ]
  },
  {
   "cell_type": "markdown",
   "metadata": {},
   "source": [
    "<div class=\"alert alert-block alert-success\">\n",
    "    \n",
    "<h2><a id=\"round0Prep\">Profile predicted tracrRNA results</a></h2>\n",
    "\n",
    "#### Cluster tracrRNA predictions\n",
    "#### Q1. How many systems have a possible solution?\n",
    "#### Q2. How many systems have only 1?\n",
    "    \n",
    "</div>"
   ]
  },
  {
   "cell_type": "code",
   "execution_count": null,
   "metadata": {},
   "outputs": [],
   "source": [
    "%%bash \n",
    "cd-hit-est -i sequences/AllPredicted_TracrRNAs -o sequences/AllPredictedTracrRNAs.grouped.fasta -T 0 -M 0 -d 0 -c .95 -s .9 -sc 1 >logs/Cas9_tracrClusterLog.log\n",
    "tail -n 8 logs/Cas9_tracrClusterLog.log > logs/clusterInfo\n",
    "head -n 1 logs/clusterInfo; rm logs/clusterInfo\n",
    "rm sequences/AllPredictedTracrRNAs.grouped.fasta\n",
    "mv sequences/AllPredictedTracrRNAs.grouped.fasta.clstr clusters/"
   ]
  },
  {
   "cell_type": "code",
   "execution_count": null,
   "metadata": {},
   "outputs": [],
   "source": [
    "allPredictedTracrs = fasta_index(\"sequences/AllPredictedTracrRNAs.fasta\",\"fasta\")\n",
    "allSgRNA_Sols = fasta_index(\"sequences/AllPredictedSgRNAs.fasta\",\"fasta\")\n",
    "clusterInfo = processClusterFile(\"clusters/AllPredictedTracrRNAs.grouped.fasta.clstr\")\n",
    "dist={}\n",
    "allSeqCounter = Counter()\n",
    "for cluster in clusterInfo: \n",
    "    sub = count_members(clusterInfo[cluster].members)\n",
    "    dist[cluster]={\"Total\":len(sub),\"Sequences\":len(clusterInfo[cluster].members)} \n",
    "    for member,count in sub.most_common(len(sub)): allSeqCounter[member]+=count\n",
    "singleMaps = set()\n",
    "for member,count in allSeqCounter.most_common(len(allSeqCounter)): \n",
    "    if count==1: singleMaps.add(member)\n",
    "print(\"A1. There are %s systems with 1 or more potential TracrRNA out of %s systems\"% (comma(len(allSeqCounter)),comma(len(allAssemblies))))\n",
    "print(\"A2. There are %s systems that have only 1 predicted BlastHit+Rho sequence\" % comma(len(singleMaps)))"
   ]
  },
  {
   "cell_type": "markdown",
   "metadata": {},
   "source": [
    "<div class=\"alert alert-block alert-success\">\n",
    "    \n",
    "<h2>Build Covariance Models for clusters that:</h2>\n",
    "<font color=blue>\n",
    "\n",
    "1. contain a sequence from at least 5 other assemblies OR\n",
    "2. has a sequence for a system that only has a single potential TracrRNA\n",
    "\n",
    "</font>\n",
    "</div>"
   ]
  },
  {
   "cell_type": "code",
   "execution_count": null,
   "metadata": {},
   "outputs": [],
   "source": [
    "def count_members(seqIDList):\n",
    "    seqCounter = Counter()\n",
    "    for seqID in seqIDList: seqCounter[base_id(seqID)]+=1\n",
    "    return seqCounter\n",
    "def base_id(seqID): return seqID[:seqID.rfind(\"_\")]\n",
    "\n",
    "removedClusters,singleClusters=set(),set()\n",
    "removedPossibles=0\n",
    "for cluster in clusterInfo:\n",
    "    clMembers = count_members(clusterInfo[cluster].members)\n",
    "    if len(clMembers) < 5:\n",
    "        if len(singleMaps.intersection(clMembers)) == 0:\n",
    "            removedClusters.add(cluster)\n",
    "            for member,count in clMembers.most_common(len(clMembers)):\n",
    "                curCount = allSeqCounter[member]\n",
    "                allSeqCounter[member]-=count\n",
    "                removedPossibles += int(allSeqCounter[member]==0)\n",
    "                assert(allSeqCounter[member]>=0)\n",
    "            continue\n",
    "        else: singleClusters.add(cluster)\n",
    "    cluster = cluster.replace(\" \",\"_\")\n",
    "\n",
    "    with open(\"conseqs0/%s.fasta\" %(cluster),'w') as fh:\n",
    "        seqCounter = Counter()\n",
    "        for sID in clusterInfo[cluster.replace(\"_\",\" \")].members:\n",
    "            seq = str(allPredictedTracrs[sID].seq).upper()\n",
    "            seqCounter[seq] +=1\n",
    "            if seqCounter[seq]>2: continue #Don't write the same sequence to the file more than once\n",
    "            write(allPredictedTracrs[sID],fh,\"fasta\")\n",
    "            \n",
    "print(\"Built %i Covariance models from %i Clusters.\\n\\tRemoved: %i\\n\\tWould have been removed but had singles: %i\\n\\tSequences that not longer have a potential Tracr: %i\" % (len(clusterInfo)-len(removedClusters),len(clusterInfo),len(removedClusters),len(singleClusters),removedPossibles))"
   ]
  },
  {
   "cell_type": "markdown",
   "metadata": {},
   "source": [
    "<div class=\"alert alert-block alert-success\">\n",
    "    \n",
    "<h2>Perform the HMMER Search</h2>\n",
    "\n",
    "</div>\n"
   ]
  },
  {
   "cell_type": "code",
   "execution_count": null,
   "metadata": {},
   "outputs": [],
   "source": [
    "%%bash\n",
    "python ../scripts/StructureSearchScriptBuilder.py"
   ]
  },
  {
   "cell_type": "markdown",
   "metadata": {},
   "source": [
    "<div class=\"alert alert-block alert-success\">\n",
    "    \n",
    "<h2>Read the results from the hmm search</h2>\n",
    "\n",
    "</div>"
   ]
  },
  {
   "cell_type": "code",
   "execution_count": null,
   "metadata": {},
   "outputs": [],
   "source": [
    "infernalResults = ProcessInfernal(0,\"Cas9\")"
   ]
  }
 ],
 "metadata": {
  "kernelspec": {
   "display_name": "Python 3",
   "language": "python",
   "name": "python3"
  },
  "language_info": {
   "codemirror_mode": {
    "name": "ipython",
    "version": 3
   },
   "file_extension": ".py",
   "mimetype": "text/x-python",
   "name": "python",
   "nbconvert_exporter": "python",
   "pygments_lexer": "ipython3",
   "version": "3.7.6"
  },
  "widgets": {
   "application/vnd.jupyter.widget-state+json": {
    "state": {},
    "version_major": 2,
    "version_minor": 0
   }
  }
 },
 "nbformat": 4,
 "nbformat_minor": 4
}
