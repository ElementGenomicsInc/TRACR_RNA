{
 "cells": [
  {
   "cell_type": "markdown",
   "metadata": {},
   "source": [
    "<div class=\"alert alert-block alert-success\">\n",
    "    \n",
    "## Python libraries used by this module\n",
    "    \n",
    "</div>"
   ]
  },
  {
   "cell_type": "code",
   "execution_count": 1,
   "metadata": {},
   "outputs": [
    {
     "name": "stdout",
     "output_type": "stream",
     "text": [
      "Loaded libraries\n"
     ]
    }
   ],
   "source": [
    "%matplotlib inline\n",
    "from sys import path as spath\n",
    "spath.append(\"scripts/\") #Location of the modules created for this pipeline\n",
    "\n",
    "#Modules created for this pipeline\n",
    "from CRISPRtools import * #MakeFasta, PilerCRReader, MinCEDReader\n",
    "from easyFunctions import BLAST_short, Coordinate, dump\n",
    "from InfernalResults import *\n",
    "from HMMParser import *\n",
    "from Rho import *\n",
    "\n",
    "#Native and conda installed modules\n",
    "from Bio.Seq import Seq\n",
    "from Bio.SeqFeature import SeqFeature, FeatureLocation\n",
    "from Bio.SeqIO import index as fasta_index, parse, write\n",
    "from Bio.SeqRecord import SeqRecord\n",
    "from os import chdir, path, stat, system\n",
    "from pandas import Series\n",
    "from pickle import load\n",
    "from RNA import fold as fold_rna\n",
    "import IPython.display as ipd\n",
    "#done = ipd.Audio('DoneSound.wav',autoplay=True)\n",
    "print(\"Loaded libraries\")\n",
    "\n",
    "#done"
   ]
  },
  {
   "cell_type": "markdown",
   "metadata": {},
   "source": [
    "<div class=\"alert alert-block alert-danger\">\n",
    "    \n",
    "## Load the assembly pseudochromosomes that have a CRISPR array and a Cas9\n",
    "    \n",
    "</div>"
   ]
  },
  {
   "cell_type": "code",
   "execution_count": 38,
   "metadata": {},
   "outputs": [],
   "source": [
    "chdir(\"/home/ec2-user/TRACR_RNA/data\") # path to the data folder from the git repo\n",
    "allAssemblies = dict(fasta_index(\"proteins/test_Cas12.faa\",'fasta')) \n",
    "protIDs = allAssemblies.keys()\n",
    "erpEXE_Path = \"../scripts/Arnold/erpin\"\n",
    "rhoDatabase = \"../scripts/Arnold/rho-indep.epn\"\n",
    "casOperons = load(open(\"pickles/Cas12_operons.p\",\"rb\"))"
   ]
  },
  {
   "cell_type": "markdown",
   "metadata": {},
   "source": [
    "<div class=\"alert alert-block alert-success\">\n",
    "    \n",
    "## Search through each pseudochromosome\n",
    "    \n",
    "</div>"
   ]
  },
  {
   "cell_type": "code",
   "execution_count": 39,
   "metadata": {},
   "outputs": [
    {
     "name": "stdout",
     "output_type": "stream",
     "text": [
      "Searching through 1 assemblies for tracrRNAs.\n",
      "\n",
      "0 [SeqRecord(seq=Seq('TTTTTGCGATTTCGGAATTTTCGCCCGATA', SingleLetterAlphabet()), id='3300008077.a:Ga0105964_1000553_1:1', name='3300008077.a:Ga0105964_1000553_1:1', description='3300008077.a:Ga0105964_1000553_1:1', dbxrefs=[]), SeqRecord(seq=Seq('TACGTTGATGATTGGGACGCACAAAATCGG', SingleLetterAlphabet()), id='3300008077.a:Ga0105964_1000553_1:2', name='3300008077.a:Ga0105964_1000553_1:2', description='3300008077.a:Ga0105964_1000553_1:2', dbxrefs=[]), SeqRecord(seq=Seq('TGTGTATGATACTGGAGATAATATGCAGA', SingleLetterAlphabet()), id='3300008077.a:Ga0105964_1000553_1:3', name='3300008077.a:Ga0105964_1000553_1:3', description='3300008077.a:Ga0105964_1000553_1:3', dbxrefs=[]), SeqRecord(seq=Seq('TGATATGTATTTCAATGTCGCTTGGCATAA', SingleLetterAlphabet()), id='3300008077.a:Ga0105964_1000553_1:4', name='3300008077.a:Ga0105964_1000553_1:4', description='3300008077.a:Ga0105964_1000553_1:4', dbxrefs=[]), SeqRecord(seq=Seq('CCATGAAAGACGAGGCATTTAAGAATACA', SingleLetterAlphabet()), id='3300008077.a:Ga0105964_1000553_1:5', name='3300008077.a:Ga0105964_1000553_1:5', description='3300008077.a:Ga0105964_1000553_1:5', dbxrefs=[]), SeqRecord(seq=Seq('CAAAACTAAAAGAATTACAAAAAGGACCTA', SingleLetterAlphabet()), id='3300008077.a:Ga0105964_1000553_1:6', name='3300008077.a:Ga0105964_1000553_1:6', description='3300008077.a:Ga0105964_1000553_1:6', dbxrefs=[]), SeqRecord(seq=Seq('TCCTTCTCTTTTAGTTACTTATGCTGATA', SingleLetterAlphabet()), id='3300008077.a:Ga0105964_1000553_1:7', name='3300008077.a:Ga0105964_1000553_1:7', description='3300008077.a:Ga0105964_1000553_1:7', dbxrefs=[]), SeqRecord(seq=Seq('CAGCACTTGAATCATCGTTGAGTACTACTA', SingleLetterAlphabet()), id='3300008077.a:Ga0105964_1000553_1:8', name='3300008077.a:Ga0105964_1000553_1:8', description='3300008077.a:Ga0105964_1000553_1:8', dbxrefs=[]), SeqRecord(seq=Seq('TGGGACCTAGATTTGATGAAACACAAAGAGG', SingleLetterAlphabet()), id='3300008077.a:Ga0105964_1000553_1:9', name='3300008077.a:Ga0105964_1000553_1:9', description='3300008077.a:Ga0105964_1000553_1:9', dbxrefs=[]), SeqRecord(seq=Seq('AAAAAGAACCGGCACAAACATCTGCTACGG', SingleLetterAlphabet()), id='3300008077.a:Ga0105964_1000553_1:10', name='3300008077.a:Ga0105964_1000553_1:10', description='3300008077.a:Ga0105964_1000553_1:10', dbxrefs=[]), SeqRecord(seq=Seq('GGAATGATAGACCACGGCAGTGTCATATGG', SingleLetterAlphabet()), id='3300008077.a:Ga0105964_1000553_1:11', name='3300008077.a:Ga0105964_1000553_1:11', description='3300008077.a:Ga0105964_1000553_1:11', dbxrefs=[]), SeqRecord(seq=Seq('TGACATGACTTCTTTTATCAGAACAGCACC', SingleLetterAlphabet()), id='3300008077.a:Ga0105964_1000553_1:12', name='3300008077.a:Ga0105964_1000553_1:12', description='3300008077.a:Ga0105964_1000553_1:12', dbxrefs=[]), SeqRecord(seq=Seq('CGAGGCATTACATATCAAAGACCAGGCAG', SingleLetterAlphabet()), id='3300008077.a:Ga0105964_1000553_1:13', name='3300008077.a:Ga0105964_1000553_1:13', description='3300008077.a:Ga0105964_1000553_1:13', dbxrefs=[]), SeqRecord(seq=Seq('TCGGATGGTTCGGCAGGAATTGTTGGAATGA', SingleLetterAlphabet()), id='3300008077.a:Ga0105964_1000553_1:14', name='3300008077.a:Ga0105964_1000553_1:14', description='3300008077.a:Ga0105964_1000553_1:14', dbxrefs=[]), SeqRecord(seq=Seq('CTACATATGGGATGTTCCATATCGTCCCCA', SingleLetterAlphabet()), id='3300008077.a:Ga0105964_1000553_1:15', name='3300008077.a:Ga0105964_1000553_1:15', description='3300008077.a:Ga0105964_1000553_1:15', dbxrefs=[])]\n",
      "3300008077.a:Ga0105964_1000553_3\n",
      "\n",
      "Erpin Solutions: 3\n",
      "Found 3 possible tracr solutions from 0 assmeblies\n"
     ]
    }
   ],
   "source": [
    "noPredictedTracr = {} # {ID:Reason it didn't have a tracr}\n",
    "totalSols, erpSols, breakCount, hadToGetSeq = 0, 0, 0, 0\n",
    "sgFolds = open(\"tables/AllPredictedSgRNA_folds.tsv\",\"w\")\n",
    "sgFolds.write(\"\\t\".join([\"Seq Name\",\"Repeat Folding Count\",\"Repeat Length\",\"tracr strand\",\"tracrSeq\",\"sgRNA\",\"Fold\",\"Consensus Repeat\",\"Repeat Dir\"])+'\\n')\n",
    "sgRNASols = open(\"sequences/AllPredictedSgRNAs.fasta\",\"w\")\n",
    "possibleSol = open(\"sequences/AllPredicted_TracrRNAs.fasta\",\"w\")\n",
    "breakPoints = set(range(0,len(allAssemblies),100))\n",
    "\n",
    "print(\"Searching through %i assemblies for tracrRNAs.\\n\" % (len(allAssemblies)))\n",
    "for i, protID in enumerate(allAssemblies):\n",
    "    if i in breakPoints: print(i,end=' ')\n",
    "\n",
    "    # Step 1. Get the CRISPR \n",
    "    operon = casOperons[protID]\n",
    "    crispr = operon.getCRISPR(protID)\n",
    "\n",
    "    # Step 2. Write all consensus repeats to a file\n",
    "    if not path.exists(operon.getRepeatPath(protID)): crispr.repeatSeqs(protID,open(operon.getRepeatPath(protID),'w'))\n",
    "\n",
    "    # Step 3. Blast the consensus repeats against the Cas-like protein-containing chromosome\n",
    "    try:\n",
    "        if not path.exists(\"blastout/conRepeats/%s.xml\" % (protID)):\n",
    "            blast_output = BLAST_short(operon.getRepeatPath(protID), operon.getFastaPointer(protID), \"blastout/conRepeats/%s.xml\" % (protID))\n",
    "            blastResults = parseBLAST(blast_output)\n",
    "        blastResults = parseBLAST(NCBIXML.parse(open(\"blastout/conRepeats/%s.xml\" % (protID),'r')))\n",
    "    except:\n",
    "        print('\\nBlast error for '+protID,operon.getFastaPointer(protID),operon.getRepeatPath(protID))\n",
    "        blastResults = []\n",
    "    if len(blastResults) == 0: \n",
    "        noPredictedTracr[protID] = 'No BLAST results'\n",
    "        continue\n",
    "\n",
    "    #Step 4. Narrow the blast results down by removing crRNAs\n",
    "    crispr.clusterBLASTResults(blastResults,protID)\n",
    "     \n",
    "    # Step 5. Get the approriate flanking sequence for each anti-repeat candidate\n",
    "    if len(crispr.antiRepeats) == 0:\n",
    "        noPredictedTracr[protID] = 'No Anti-repeats'\n",
    "        continue\n",
    "    antiPath = \"sequences/antiCandidates/%s.fasta\" % (protID)\n",
    "    if not path.exists(antiPath):\n",
    "        crispr.getAntiRepeatCandidates(open(antiPath,\"w\"), operon.getSeq())\n",
    "        strSeq = operon.getSeq()\n",
    "        with open(antiPath,\"w\") as fh:\n",
    "            for anti in crispr.antiRepeats.values():\n",
    "                anti.name =protID\n",
    "                fh.write(anti.getSeq(strSeq)+'\\n')\n",
    "\n",
    "    # Step 6. Look for termination signals\n",
    "    terminalPath = \"sequences/rhoTerms/%s.out\" % (protID)\n",
    "    if not path.exists(terminalPath):\n",
    "        res = system(\"%s %s %s -1,4 -add 2 4 2 -pcw 3.0 -cutoff 100%% > %s\" % (erpEXE_Path, rhoDatabase, antiPath, terminalPath))\n",
    "        if res != 0:\n",
    "            noPredictedTracr[protID] = 'Erpin Failed %i' % (res)\n",
    "            continue\n",
    "    \n",
    "    # Step 7. Read the termination signals\n",
    "    erpOut = ErpinOut(outfile=terminalPath,inputfile=antiPath)\n",
    "    erpSols += len(erpOut.terminators)\n",
    "\n",
    "    # Step 8. Get tracrRNA candidates with rho-ind signals\n",
    "    print(crispr.name)\n",
    "    numNewTracrs = crispr.getTracrRNA_Candidates(erpOut,possibleSol,sgRNASols,sgFolds)\n",
    "    if numNewTracrs == 0: noPredictedTracr[protID] = 'No terminators'\n",
    "    \n",
    "    # Keep track of how many solutions have been found so far and print\n",
    "    totalSols += numNewTracrs\n",
    "\n",
    "possibleSol.close()\n",
    "sgFolds.close()\n",
    "sgRNASols.close()\n",
    "print(\"\\nErpin Solutions:\", erpSols)\n",
    "print(\"Found %i possible tracr solutions from %i assmeblies\" % (totalSols,i-len(noPredictedTracr)))\n",
    "#done"
   ]
  },
  {
   "cell_type": "markdown",
   "metadata": {},
   "source": [
    "<div class=\"alert alert-block alert-success\">\n",
    "    \n",
    "<h2><a id=\"round0Prep\">Profile predicted tracrRNA results</a></h2>\n",
    "\n",
    "#### Cluster tracrRNA predictions\n",
    "#### Q1. How many systems have a possible solution?\n",
    "#### Q2. How many systems have only 1?\n",
    "    \n",
    "</div>"
   ]
  },
  {
   "cell_type": "code",
   "execution_count": 40,
   "metadata": {},
   "outputs": [
    {
     "name": "stdout",
     "output_type": "stream",
     "text": [
      "        3  finished          3  clusters\n"
     ]
    }
   ],
   "source": [
    "%%bash \n",
    "cd-hit-est -i sequences/AllPredicted_TracrRNAs.fasta -o sequences/AllPredictedTracrRNAs.grouped.fasta -T 0 -M 0 -d 0 -c .95 -s .9 -sc 1 >logs/Cas9_tracrClusterLog.log\n",
    "tail -n 8 logs/Cas9_tracrClusterLog.log > logs/clusterInfo\n",
    "head -n 1 logs/clusterInfo; rm logs/clusterInfo\n",
    "rm sequences/AllPredictedTracrRNAs.grouped.fasta\n",
    "mv sequences/AllPredictedTracrRNAs.grouped.fasta.clstr clusters/"
   ]
  },
  {
   "cell_type": "code",
   "execution_count": 35,
   "metadata": {},
   "outputs": [],
   "source": [
    "def count_members(seqIDList):\n",
    "    seqCounter = Counter()\n",
    "    for seqID in seqIDList: seqCounter[base_id(seqID)]+=1\n",
    "    return seqCounter\n",
    "\n",
    "def base_id(seqID): return seqID[:seqID.rfind(\"_\")]"
   ]
  },
  {
   "cell_type": "code",
   "execution_count": 44,
   "metadata": {},
   "outputs": [
    {
     "name": "stdout",
     "output_type": "stream",
     "text": [
      "3300008077.a:Ga0105964_1000553_3\n",
      "3\n",
      "A1. There are 1 systems with 1 or more potential TracrRNA out of 1 systems\n",
      "A2. There are 0 systems that have only 1 predicted BlastHit+Rho sequence\n",
      "Built 0 Covariance models from 3 Clusters.\n",
      "\tRemoved: 3\n",
      "\tWould have been removed but had singles: 0\n",
      "\tSequences that not longer have a potential Tracr: 1\n"
     ]
    }
   ],
   "source": [
    "allPredictedTracrs = fasta_index(\"sequences/AllPredicted_TracrRNAs.fasta\",\"fasta\")\n",
    "allSgRNA_Sols = fasta_index(\"sequences/AllPredictedSgRNAs.fasta\",\"fasta\")\n",
    "clusterInfo = processClusterFile(\"clusters/AllPredictedTracrRNAs.grouped.fasta.clstr\")\n",
    "dist={}\n",
    "allSeqCounter = Counter()\n",
    "for cluster in clusterInfo: \n",
    "    sub = count_members(clusterInfo[cluster].members)\n",
    "    dist[cluster]={\"Total\":len(sub),\"Sequences\":len(clusterInfo[cluster].members)} \n",
    "    for member,count in sub.most_common(len(sub)): allSeqCounter[member]+=count\n",
    "singleMaps = set()\n",
    "for member,count in allSeqCounter.most_common(len(allSeqCounter)): \n",
    "    if count==1: singleMaps.add(member)\n",
    "print(\"A1. There are %s systems with 1 or more potential TracrRNA out of %s systems\"% (comma(len(allSeqCounter)),comma(len(allAssemblies))))\n",
    "print(\"A2. There are %s systems that have only 1 predicted BlastHit+Rho sequence\" % comma(len(singleMaps)))\n",
    "\n",
    "removedClusters,singleClusters=set(),set()\n",
    "removedPossibles=0\n",
    "for cluster in clusterInfo:\n",
    "    clMembers = count_members(clusterInfo[cluster].members)\n",
    "    if len(clMembers) < 5:\n",
    "        if len(singleMaps.intersection(clMembers)) == 0:\n",
    "            removedClusters.add(cluster)\n",
    "            for member,count in clMembers.most_common(len(clMembers)):\n",
    "                curCount = allSeqCounter[member]\n",
    "                allSeqCounter[member]-=count\n",
    "                removedPossibles += int(allSeqCounter[member]==0)\n",
    "                assert(allSeqCounter[member]>=0)\n",
    "            continue\n",
    "        else: singleClusters.add(cluster)\n",
    "    cluster = cluster.replace(\" \",\"_\")\n",
    "\n",
    "    with open(\"conseqs0/%s.fasta\" %(cluster),'w') as fh:\n",
    "        seqCounter = Counter()\n",
    "        for sID in clusterInfo[cluster.replace(\"_\",\" \")].members:\n",
    "            seq = str(allPredictedTracrs[sID].seq).upper()\n",
    "            seqCounter[seq] +=1\n",
    "            if seqCounter[seq]>2: continue #Don't write the same sequence to the file more than once\n",
    "            write(allPredictedTracrs[sID],fh,\"fasta\")\n",
    "            \n",
    "print(\"Built %i Covariance models from %i Clusters.\\n\\tRemoved: %i\\n\\tWould have been removed but had singles: %i\\n\\tSequences that not longer have a potential Tracr: %i\" % (len(clusterInfo)-len(removedClusters),len(clusterInfo),len(removedClusters),len(singleClusters),removedPossibles))"
   ]
  },
  {
   "cell_type": "markdown",
   "metadata": {},
   "source": [
    "<div class=\"alert alert-block alert-success\">\n",
    "    \n",
    "<h2>Build Covariance Models for clusters that:</h2>\n",
    "<font color=blue>\n",
    "\n",
    "1. contain a sequence from at least 5 other assemblies OR\n",
    "2. has a sequence for a system that only has a single potential TracrRNA\n",
    "\n",
    "</font>\n",
    "</div>"
   ]
  },
  {
   "cell_type": "markdown",
   "metadata": {},
   "source": [
    "<div class=\"alert alert-block alert-success\">\n",
    "    \n",
    "<h2>Perform the HMMER Search</h2>\n",
    "\n",
    "</div>\n"
   ]
  },
  {
   "cell_type": "code",
   "execution_count": 46,
   "metadata": {},
   "outputs": [
    {
     "name": "stdout",
     "output_type": "stream",
     "text": [
      "Running conseqs1\n"
     ]
    },
    {
     "name": "stderr",
     "output_type": "stream",
     "text": [
      "Traceback (most recent call last):\n",
      "  File \"../scripts/StructureSearchScriptBuilder.py\", line 83, in <module>\n",
      "    Main(int(argv[1]))\n",
      "  File \"../scripts/StructureSearchScriptBuilder.py\", line 30, in Main\n",
      "    chdir(\"/mnt/research/germs/shane/transActRNA/data/conseqs%i\" % (runNum))\n",
      "FileNotFoundError: [Errno 2] No such file or directory: '/mnt/research/germs/shane/transActRNA/data/conseqs1'\n"
     ]
    },
    {
     "ename": "CalledProcessError",
     "evalue": "Command 'b'python ../scripts/StructureSearchScriptBuilder.py 1\\n'' returned non-zero exit status 1.",
     "output_type": "error",
     "traceback": [
      "\u001b[0;31m---------------------------------------------------------------------------\u001b[0m",
      "\u001b[0;31mCalledProcessError\u001b[0m                        Traceback (most recent call last)",
      "\u001b[0;32m<ipython-input-46-6ea9fd76aaa6>\u001b[0m in \u001b[0;36m<module>\u001b[0;34m\u001b[0m\n\u001b[0;32m----> 1\u001b[0;31m \u001b[0mget_ipython\u001b[0m\u001b[0;34m(\u001b[0m\u001b[0;34m)\u001b[0m\u001b[0;34m.\u001b[0m\u001b[0mrun_cell_magic\u001b[0m\u001b[0;34m(\u001b[0m\u001b[0;34m'bash'\u001b[0m\u001b[0;34m,\u001b[0m \u001b[0;34m''\u001b[0m\u001b[0;34m,\u001b[0m \u001b[0;34m'python ../scripts/StructureSearchScriptBuilder.py 1\\n'\u001b[0m\u001b[0;34m)\u001b[0m\u001b[0;34m\u001b[0m\u001b[0;34m\u001b[0m\u001b[0m\n\u001b[0m",
      "\u001b[0;32m~/anaconda3/lib/python3.7/site-packages/IPython/core/interactiveshell.py\u001b[0m in \u001b[0;36mrun_cell_magic\u001b[0;34m(self, magic_name, line, cell)\u001b[0m\n\u001b[1;32m   2350\u001b[0m             \u001b[0;32mwith\u001b[0m \u001b[0mself\u001b[0m\u001b[0;34m.\u001b[0m\u001b[0mbuiltin_trap\u001b[0m\u001b[0;34m:\u001b[0m\u001b[0;34m\u001b[0m\u001b[0;34m\u001b[0m\u001b[0m\n\u001b[1;32m   2351\u001b[0m                 \u001b[0margs\u001b[0m \u001b[0;34m=\u001b[0m \u001b[0;34m(\u001b[0m\u001b[0mmagic_arg_s\u001b[0m\u001b[0;34m,\u001b[0m \u001b[0mcell\u001b[0m\u001b[0;34m)\u001b[0m\u001b[0;34m\u001b[0m\u001b[0;34m\u001b[0m\u001b[0m\n\u001b[0;32m-> 2352\u001b[0;31m                 \u001b[0mresult\u001b[0m \u001b[0;34m=\u001b[0m \u001b[0mfn\u001b[0m\u001b[0;34m(\u001b[0m\u001b[0;34m*\u001b[0m\u001b[0margs\u001b[0m\u001b[0;34m,\u001b[0m \u001b[0;34m**\u001b[0m\u001b[0mkwargs\u001b[0m\u001b[0;34m)\u001b[0m\u001b[0;34m\u001b[0m\u001b[0;34m\u001b[0m\u001b[0m\n\u001b[0m\u001b[1;32m   2353\u001b[0m             \u001b[0;32mreturn\u001b[0m \u001b[0mresult\u001b[0m\u001b[0;34m\u001b[0m\u001b[0;34m\u001b[0m\u001b[0m\n\u001b[1;32m   2354\u001b[0m \u001b[0;34m\u001b[0m\u001b[0m\n",
      "\u001b[0;32m~/anaconda3/lib/python3.7/site-packages/IPython/core/magics/script.py\u001b[0m in \u001b[0;36mnamed_script_magic\u001b[0;34m(line, cell)\u001b[0m\n\u001b[1;32m    140\u001b[0m             \u001b[0;32melse\u001b[0m\u001b[0;34m:\u001b[0m\u001b[0;34m\u001b[0m\u001b[0;34m\u001b[0m\u001b[0m\n\u001b[1;32m    141\u001b[0m                 \u001b[0mline\u001b[0m \u001b[0;34m=\u001b[0m \u001b[0mscript\u001b[0m\u001b[0;34m\u001b[0m\u001b[0;34m\u001b[0m\u001b[0m\n\u001b[0;32m--> 142\u001b[0;31m             \u001b[0;32mreturn\u001b[0m \u001b[0mself\u001b[0m\u001b[0;34m.\u001b[0m\u001b[0mshebang\u001b[0m\u001b[0;34m(\u001b[0m\u001b[0mline\u001b[0m\u001b[0;34m,\u001b[0m \u001b[0mcell\u001b[0m\u001b[0;34m)\u001b[0m\u001b[0;34m\u001b[0m\u001b[0;34m\u001b[0m\u001b[0m\n\u001b[0m\u001b[1;32m    143\u001b[0m \u001b[0;34m\u001b[0m\u001b[0m\n\u001b[1;32m    144\u001b[0m         \u001b[0;31m# write a basic docstring:\u001b[0m\u001b[0;34m\u001b[0m\u001b[0;34m\u001b[0m\u001b[0;34m\u001b[0m\u001b[0m\n",
      "\u001b[0;32m</home/ec2-user/anaconda3/lib/python3.7/site-packages/decorator.py:decorator-gen-110>\u001b[0m in \u001b[0;36mshebang\u001b[0;34m(self, line, cell)\u001b[0m\n",
      "\u001b[0;32m~/anaconda3/lib/python3.7/site-packages/IPython/core/magic.py\u001b[0m in \u001b[0;36m<lambda>\u001b[0;34m(f, *a, **k)\u001b[0m\n\u001b[1;32m    185\u001b[0m     \u001b[0;31m# but it's overkill for just that one bit of state.\u001b[0m\u001b[0;34m\u001b[0m\u001b[0;34m\u001b[0m\u001b[0;34m\u001b[0m\u001b[0m\n\u001b[1;32m    186\u001b[0m     \u001b[0;32mdef\u001b[0m \u001b[0mmagic_deco\u001b[0m\u001b[0;34m(\u001b[0m\u001b[0marg\u001b[0m\u001b[0;34m)\u001b[0m\u001b[0;34m:\u001b[0m\u001b[0;34m\u001b[0m\u001b[0;34m\u001b[0m\u001b[0m\n\u001b[0;32m--> 187\u001b[0;31m         \u001b[0mcall\u001b[0m \u001b[0;34m=\u001b[0m \u001b[0;32mlambda\u001b[0m \u001b[0mf\u001b[0m\u001b[0;34m,\u001b[0m \u001b[0;34m*\u001b[0m\u001b[0ma\u001b[0m\u001b[0;34m,\u001b[0m \u001b[0;34m**\u001b[0m\u001b[0mk\u001b[0m\u001b[0;34m:\u001b[0m \u001b[0mf\u001b[0m\u001b[0;34m(\u001b[0m\u001b[0;34m*\u001b[0m\u001b[0ma\u001b[0m\u001b[0;34m,\u001b[0m \u001b[0;34m**\u001b[0m\u001b[0mk\u001b[0m\u001b[0;34m)\u001b[0m\u001b[0;34m\u001b[0m\u001b[0;34m\u001b[0m\u001b[0m\n\u001b[0m\u001b[1;32m    188\u001b[0m \u001b[0;34m\u001b[0m\u001b[0m\n\u001b[1;32m    189\u001b[0m         \u001b[0;32mif\u001b[0m \u001b[0mcallable\u001b[0m\u001b[0;34m(\u001b[0m\u001b[0marg\u001b[0m\u001b[0;34m)\u001b[0m\u001b[0;34m:\u001b[0m\u001b[0;34m\u001b[0m\u001b[0;34m\u001b[0m\u001b[0m\n",
      "\u001b[0;32m~/anaconda3/lib/python3.7/site-packages/IPython/core/magics/script.py\u001b[0m in \u001b[0;36mshebang\u001b[0;34m(self, line, cell)\u001b[0m\n\u001b[1;32m    243\u001b[0m             \u001b[0msys\u001b[0m\u001b[0;34m.\u001b[0m\u001b[0mstderr\u001b[0m\u001b[0;34m.\u001b[0m\u001b[0mflush\u001b[0m\u001b[0;34m(\u001b[0m\u001b[0;34m)\u001b[0m\u001b[0;34m\u001b[0m\u001b[0;34m\u001b[0m\u001b[0m\n\u001b[1;32m    244\u001b[0m         \u001b[0;32mif\u001b[0m \u001b[0margs\u001b[0m\u001b[0;34m.\u001b[0m\u001b[0mraise_error\u001b[0m \u001b[0;32mand\u001b[0m \u001b[0mp\u001b[0m\u001b[0;34m.\u001b[0m\u001b[0mreturncode\u001b[0m\u001b[0;34m!=\u001b[0m\u001b[0;36m0\u001b[0m\u001b[0;34m:\u001b[0m\u001b[0;34m\u001b[0m\u001b[0;34m\u001b[0m\u001b[0m\n\u001b[0;32m--> 245\u001b[0;31m             \u001b[0;32mraise\u001b[0m \u001b[0mCalledProcessError\u001b[0m\u001b[0;34m(\u001b[0m\u001b[0mp\u001b[0m\u001b[0;34m.\u001b[0m\u001b[0mreturncode\u001b[0m\u001b[0;34m,\u001b[0m \u001b[0mcell\u001b[0m\u001b[0;34m,\u001b[0m \u001b[0moutput\u001b[0m\u001b[0;34m=\u001b[0m\u001b[0mout\u001b[0m\u001b[0;34m,\u001b[0m \u001b[0mstderr\u001b[0m\u001b[0;34m=\u001b[0m\u001b[0merr\u001b[0m\u001b[0;34m)\u001b[0m\u001b[0;34m\u001b[0m\u001b[0;34m\u001b[0m\u001b[0m\n\u001b[0m\u001b[1;32m    246\u001b[0m \u001b[0;34m\u001b[0m\u001b[0m\n\u001b[1;32m    247\u001b[0m     \u001b[0;32mdef\u001b[0m \u001b[0m_run_script\u001b[0m\u001b[0;34m(\u001b[0m\u001b[0mself\u001b[0m\u001b[0;34m,\u001b[0m \u001b[0mp\u001b[0m\u001b[0;34m,\u001b[0m \u001b[0mcell\u001b[0m\u001b[0;34m,\u001b[0m \u001b[0mto_close\u001b[0m\u001b[0;34m)\u001b[0m\u001b[0;34m:\u001b[0m\u001b[0;34m\u001b[0m\u001b[0;34m\u001b[0m\u001b[0m\n",
      "\u001b[0;31mCalledProcessError\u001b[0m: Command 'b'python ../scripts/StructureSearchScriptBuilder.py 1\\n'' returned non-zero exit status 1."
     ]
    }
   ],
   "source": [
    "%%bash\n",
    "python ../scripts/StructureSearchScriptBuilder.py 1"
   ]
  },
  {
   "cell_type": "markdown",
   "metadata": {},
   "source": [
    "<div class=\"alert alert-block alert-success\">\n",
    "    \n",
    "<h2>Read the results from the hmm search</h2>\n",
    "\n",
    "</div>"
   ]
  },
  {
   "cell_type": "code",
   "execution_count": null,
   "metadata": {},
   "outputs": [],
   "source": [
    "infernalResults = ProcessInfernal(0,\"Cas9\")"
   ]
  }
 ],
 "metadata": {
  "kernelspec": {
   "display_name": "Python 3",
   "language": "python",
   "name": "python3"
  },
  "language_info": {
   "codemirror_mode": {
    "name": "ipython",
    "version": 3
   },
   "file_extension": ".py",
   "mimetype": "text/x-python",
   "name": "python",
   "nbconvert_exporter": "python",
   "pygments_lexer": "ipython3",
   "version": "3.7.3"
  },
  "widgets": {
   "application/vnd.jupyter.widget-state+json": {
    "state": {},
    "version_major": 2,
    "version_minor": 0
   }
  }
 },
 "nbformat": 4,
 "nbformat_minor": 4
}
