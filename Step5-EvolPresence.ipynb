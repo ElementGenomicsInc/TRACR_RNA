{
 "cells": [
  {
   "cell_type": "markdown",
   "metadata": {},
   "source": [
    "# Evolutionary History\n",
    "#### Do all certain tracrRNA structural families appear in different environments together or does it follow more of a species model?\n",
    "#### How do the cas9/tracrRNA pairs compare across environments?"
   ]
  },
  {
   "cell_type": "code",
   "execution_count": 1,
   "metadata": {},
   "outputs": [
    {
     "data": {
      "text/html": [
       "<div>\n",
       "<style scoped>\n",
       "    .dataframe tbody tr th:only-of-type {\n",
       "        vertical-align: middle;\n",
       "    }\n",
       "\n",
       "    .dataframe tbody tr th {\n",
       "        vertical-align: top;\n",
       "    }\n",
       "\n",
       "    .dataframe thead th {\n",
       "        text-align: right;\n",
       "    }\n",
       "</style>\n",
       "<table border=\"1\" class=\"dataframe\">\n",
       "  <thead>\n",
       "    <tr style=\"text-align: right;\">\n",
       "      <th></th>\n",
       "      <th>qseqid</th>\n",
       "      <th>sseqid</th>\n",
       "      <th>pident</th>\n",
       "      <th>length</th>\n",
       "      <th>mismatch</th>\n",
       "      <th>gapopen</th>\n",
       "      <th>qstart</th>\n",
       "      <th>qend</th>\n",
       "      <th>sstart</th>\n",
       "      <th>send</th>\n",
       "      <th>evalue</th>\n",
       "      <th>bitscore</th>\n",
       "      <th>q_length</th>\n",
       "    </tr>\n",
       "  </thead>\n",
       "  <tbody>\n",
       "    <tr>\n",
       "      <th>0</th>\n",
       "      <td>NZ_NDGA01000017.1_ORF1</td>\n",
       "      <td>k87_11656578_manure</td>\n",
       "      <td>88.095</td>\n",
       "      <td>42</td>\n",
       "      <td>5</td>\n",
       "      <td>0</td>\n",
       "      <td>63</td>\n",
       "      <td>104</td>\n",
       "      <td>74</td>\n",
       "      <td>115</td>\n",
       "      <td>0.000214</td>\n",
       "      <td>51.0</td>\n",
       "      <td>78.0</td>\n",
       "    </tr>\n",
       "    <tr>\n",
       "      <th>1</th>\n",
       "      <td>NZ_NDGA01000017.1_ORF1</td>\n",
       "      <td>k87_5723229_manure</td>\n",
       "      <td>86.957</td>\n",
       "      <td>46</td>\n",
       "      <td>5</td>\n",
       "      <td>1</td>\n",
       "      <td>60</td>\n",
       "      <td>104</td>\n",
       "      <td>3808</td>\n",
       "      <td>3853</td>\n",
       "      <td>0.000214</td>\n",
       "      <td>51.0</td>\n",
       "      <td>78.0</td>\n",
       "    </tr>\n",
       "    <tr>\n",
       "      <th>2</th>\n",
       "      <td>NZ_NDGA01000017.1_ORF1</td>\n",
       "      <td>k87_368414_soil</td>\n",
       "      <td>95.652</td>\n",
       "      <td>23</td>\n",
       "      <td>1</td>\n",
       "      <td>0</td>\n",
       "      <td>50</td>\n",
       "      <td>72</td>\n",
       "      <td>2090</td>\n",
       "      <td>2112</td>\n",
       "      <td>1.700000</td>\n",
       "      <td>38.1</td>\n",
       "      <td>78.0</td>\n",
       "    </tr>\n",
       "    <tr>\n",
       "      <th>3</th>\n",
       "      <td>NZ_NDGA01000017.1_ORF1</td>\n",
       "      <td>k87_4643681_manure</td>\n",
       "      <td>95.652</td>\n",
       "      <td>23</td>\n",
       "      <td>1</td>\n",
       "      <td>0</td>\n",
       "      <td>66</td>\n",
       "      <td>88</td>\n",
       "      <td>144</td>\n",
       "      <td>122</td>\n",
       "      <td>1.700000</td>\n",
       "      <td>38.1</td>\n",
       "      <td>78.0</td>\n",
       "    </tr>\n",
       "    <tr>\n",
       "      <th>4</th>\n",
       "      <td>NZ_NDGA01000017.1_ORF1</td>\n",
       "      <td>k87_3463353_manure</td>\n",
       "      <td>92.308</td>\n",
       "      <td>26</td>\n",
       "      <td>2</td>\n",
       "      <td>0</td>\n",
       "      <td>15</td>\n",
       "      <td>40</td>\n",
       "      <td>5767</td>\n",
       "      <td>5792</td>\n",
       "      <td>1.700000</td>\n",
       "      <td>38.1</td>\n",
       "      <td>78.0</td>\n",
       "    </tr>\n",
       "  </tbody>\n",
       "</table>\n",
       "</div>"
      ],
      "text/plain": [
       "                   qseqid               sseqid  pident  length  mismatch  \\\n",
       "0  NZ_NDGA01000017.1_ORF1  k87_11656578_manure  88.095      42         5   \n",
       "1  NZ_NDGA01000017.1_ORF1   k87_5723229_manure  86.957      46         5   \n",
       "2  NZ_NDGA01000017.1_ORF1      k87_368414_soil  95.652      23         1   \n",
       "3  NZ_NDGA01000017.1_ORF1   k87_4643681_manure  95.652      23         1   \n",
       "4  NZ_NDGA01000017.1_ORF1   k87_3463353_manure  92.308      26         2   \n",
       "\n",
       "   gapopen  qstart  qend  sstart  send    evalue  bitscore  q_length  \n",
       "0        0      63   104      74   115  0.000214      51.0      78.0  \n",
       "1        1      60   104    3808  3853  0.000214      51.0      78.0  \n",
       "2        0      50    72    2090  2112  1.700000      38.1      78.0  \n",
       "3        0      66    88     144   122  1.700000      38.1      78.0  \n",
       "4        0      15    40    5767  5792  1.700000      38.1      78.0  "
      ]
     },
     "execution_count": 1,
     "metadata": {},
     "output_type": "execute_result"
    }
   ],
   "source": [
    "%matplotlib inline\n",
    "import pandas as pd\n",
    "from Bio.SeqIO import parse\n",
    "from pandas import Series\n",
    "\n",
    "tracrHits = pd.read_csv(\"data/CombinedTracr.blastout_dustno\",delimiter=\"\\t\")\n",
    "#Add qseqid's original length\n",
    "tracrMap = {}\n",
    "for rec in parse(\"data/TracrRNAs.fa\",\"fasta\"): tracrMap[rec.id]=len(rec.seq)*0.75\n",
    "tracrHits[\"q_length\"] = tracrHits[\"qseqid\"].map(tracrMap)\n",
    "tracrHits.head()"
   ]
  },
  {
   "cell_type": "code",
   "execution_count": 2,
   "metadata": {},
   "outputs": [
    {
     "name": "stdout",
     "output_type": "stream",
     "text": [
      "Number of hits before filtering: 185,729\n",
      "Remaining hits: 2,395\n"
     ]
    }
   ],
   "source": [
    "print \"Number of hits before filtering:\", \"{:,}\".format(len(tracrHits))\n",
    "tracrHits = tracrHits[tracrHits.length>=tracrHits.q_length]\n",
    "print \"Remaining hits:\", \"{:,}\".format(len(tracrHits))"
   ]
  },
  {
   "cell_type": "code",
   "execution_count": 3,
   "metadata": {},
   "outputs": [
    {
     "name": "stdout",
     "output_type": "stream",
     "text": [
      "Number of unique tracrs Found: 131\n"
     ]
    }
   ],
   "source": [
    "abundance = pd.read_csv(\"data/counts.tsv\",delimiter=\"\\t\")\n",
    "print \"Number of unique tracrs Found:\",len(tracrHits.sseqid.unique())"
   ]
  },
  {
   "cell_type": "code",
   "execution_count": 4,
   "metadata": {},
   "outputs": [
    {
     "data": {
      "text/html": [
       "<div>\n",
       "<style scoped>\n",
       "    .dataframe tbody tr th:only-of-type {\n",
       "        vertical-align: middle;\n",
       "    }\n",
       "\n",
       "    .dataframe tbody tr th {\n",
       "        vertical-align: top;\n",
       "    }\n",
       "\n",
       "    .dataframe thead th {\n",
       "        text-align: right;\n",
       "    }\n",
       "</style>\n",
       "<table border=\"1\" class=\"dataframe\">\n",
       "  <thead>\n",
       "    <tr style=\"text-align: right;\">\n",
       "      <th></th>\n",
       "      <th>ID</th>\n",
       "      <th>M1_S1_L001</th>\n",
       "      <th>M1_S1_L003</th>\n",
       "      <th>M1_S1_L004</th>\n",
       "      <th>M2_S2_L001</th>\n",
       "      <th>M2_S2_L003</th>\n",
       "      <th>M2_S2_L004</th>\n",
       "      <th>S1_S3_L003</th>\n",
       "      <th>S1_S3_L004</th>\n",
       "      <th>S1_S99_L004</th>\n",
       "      <th>S2_S100_L004</th>\n",
       "      <th>S2_S4_L003</th>\n",
       "      <th>S2_S4_L004</th>\n",
       "      <th>ManureTotal</th>\n",
       "      <th>SoilTotal</th>\n",
       "    </tr>\n",
       "  </thead>\n",
       "  <tbody>\n",
       "    <tr>\n",
       "      <th>0</th>\n",
       "      <td>k87_8447395_manure</td>\n",
       "      <td>35</td>\n",
       "      <td>12</td>\n",
       "      <td>13</td>\n",
       "      <td>20</td>\n",
       "      <td>5</td>\n",
       "      <td>8</td>\n",
       "      <td>0</td>\n",
       "      <td>0</td>\n",
       "      <td>0</td>\n",
       "      <td>0</td>\n",
       "      <td>0</td>\n",
       "      <td>0</td>\n",
       "      <td>15.500000</td>\n",
       "      <td>0.0</td>\n",
       "    </tr>\n",
       "    <tr>\n",
       "      <th>1</th>\n",
       "      <td>k87_3519059_soil</td>\n",
       "      <td>0</td>\n",
       "      <td>0</td>\n",
       "      <td>0</td>\n",
       "      <td>0</td>\n",
       "      <td>0</td>\n",
       "      <td>0</td>\n",
       "      <td>0</td>\n",
       "      <td>3</td>\n",
       "      <td>0</td>\n",
       "      <td>1</td>\n",
       "      <td>2</td>\n",
       "      <td>3</td>\n",
       "      <td>0.000000</td>\n",
       "      <td>1.5</td>\n",
       "    </tr>\n",
       "    <tr>\n",
       "      <th>2</th>\n",
       "      <td>k87_10590011_soil</td>\n",
       "      <td>0</td>\n",
       "      <td>0</td>\n",
       "      <td>0</td>\n",
       "      <td>0</td>\n",
       "      <td>0</td>\n",
       "      <td>0</td>\n",
       "      <td>1</td>\n",
       "      <td>4</td>\n",
       "      <td>5</td>\n",
       "      <td>8</td>\n",
       "      <td>3</td>\n",
       "      <td>6</td>\n",
       "      <td>0.000000</td>\n",
       "      <td>4.5</td>\n",
       "    </tr>\n",
       "    <tr>\n",
       "      <th>3</th>\n",
       "      <td>k87_4355985_manure</td>\n",
       "      <td>2</td>\n",
       "      <td>2</td>\n",
       "      <td>0</td>\n",
       "      <td>0</td>\n",
       "      <td>0</td>\n",
       "      <td>0</td>\n",
       "      <td>0</td>\n",
       "      <td>0</td>\n",
       "      <td>0</td>\n",
       "      <td>0</td>\n",
       "      <td>0</td>\n",
       "      <td>0</td>\n",
       "      <td>0.666667</td>\n",
       "      <td>0.0</td>\n",
       "    </tr>\n",
       "    <tr>\n",
       "      <th>4</th>\n",
       "      <td>k87_3574396_soil</td>\n",
       "      <td>0</td>\n",
       "      <td>0</td>\n",
       "      <td>0</td>\n",
       "      <td>0</td>\n",
       "      <td>0</td>\n",
       "      <td>0</td>\n",
       "      <td>0</td>\n",
       "      <td>0</td>\n",
       "      <td>0</td>\n",
       "      <td>10</td>\n",
       "      <td>3</td>\n",
       "      <td>5</td>\n",
       "      <td>0.000000</td>\n",
       "      <td>3.0</td>\n",
       "    </tr>\n",
       "  </tbody>\n",
       "</table>\n",
       "</div>"
      ],
      "text/plain": [
       "                   ID  M1_S1_L001  M1_S1_L003  M1_S1_L004  M2_S2_L001  \\\n",
       "0  k87_8447395_manure          35          12          13          20   \n",
       "1    k87_3519059_soil           0           0           0           0   \n",
       "2   k87_10590011_soil           0           0           0           0   \n",
       "3  k87_4355985_manure           2           2           0           0   \n",
       "4    k87_3574396_soil           0           0           0           0   \n",
       "\n",
       "   M2_S2_L003  M2_S2_L004  S1_S3_L003  S1_S3_L004  S1_S99_L004  S2_S100_L004  \\\n",
       "0           5           8           0           0            0             0   \n",
       "1           0           0           0           3            0             1   \n",
       "2           0           0           1           4            5             8   \n",
       "3           0           0           0           0            0             0   \n",
       "4           0           0           0           0            0            10   \n",
       "\n",
       "   S2_S4_L003  S2_S4_L004  ManureTotal  SoilTotal  \n",
       "0           0           0    15.500000        0.0  \n",
       "1           2           3     0.000000        1.5  \n",
       "2           3           6     0.000000        4.5  \n",
       "3           0           0     0.666667        0.0  \n",
       "4           3           5     0.000000        3.0  "
      ]
     },
     "execution_count": 4,
     "metadata": {},
     "output_type": "execute_result"
    }
   ],
   "source": [
    "#Average of the 6 soil and 6 manure sample counts \n",
    "abundance[\"ManureTotal\"] = (abundance[\"M1_S1_L001\"] + abundance[\"M1_S1_L003\"]+ abundance[\"M1_S1_L004\"]+ abundance[\"M2_S2_L001\"]+ abundance[\"M2_S2_L003\"]+ abundance[\"M2_S2_L004\"])/6.0\n",
    "abundance[\"SoilTotal\"] = (abundance[\"S1_S3_L003\"] + abundance[\"S1_S3_L004\"]+ abundance[\"S1_S99_L004\"]+ abundance[\"S2_S100_L004\"]+ abundance[\"S2_S4_L003\"]+ abundance[\"S2_S4_L004\"])/6.0\n",
    "abundance.head()"
   ]
  },
  {
   "cell_type": "code",
   "execution_count": 5,
   "metadata": {},
   "outputs": [
    {
     "name": "stdout",
     "output_type": "stream",
     "text": [
      "Total Contigs: 13,285,680\n",
      "# Contigs in neither: 4,259,733\n",
      "# Contigs only in Soil: 6,454,632\n",
      "# Contigs only in Manure: 2,562,754\n",
      "# Contigs only in Both: 6,053\n"
     ]
    }
   ],
   "source": [
    "abdCount = len(abundance)\n",
    "print \"Total Contigs:\", \"{:,}\".format(abdCount)\n",
    "abundance = abundance[~((abundance.SoilTotal<=1) & (abundance.ManureTotal <= 1))]\n",
    "print \"# Contigs in neither:\", \"{:,}\".format(abdCount - len(abundance))\n",
    "soilOnly = abundance[(abundance.SoilTotal>1) & (abundance.ManureTotal < 1)]\n",
    "manureOnly = abundance[(abundance.SoilTotal<1) & (abundance.ManureTotal > 1)]\n",
    "both = abundance[(abundance.SoilTotal>1) & (abundance.ManureTotal>1)]\n",
    "neither = abundance[(abundance.SoilTotal<1) & (abundance.ManureTotal < 1)]\n",
    "print \"# Contigs only in Soil:\",\"{:,}\".format(len(soilOnly))\n",
    "print \"# Contigs only in Manure:\",\"{:,}\".format(len(manureOnly))\n",
    "print \"# Contigs only in Both:\",\"{:,}\".format(len(both))\n"
   ]
  },
  {
   "cell_type": "code",
   "execution_count": 6,
   "metadata": {},
   "outputs": [
    {
     "name": "stdout",
     "output_type": "stream",
     "text": [
      "# of unique TRACRs in the soil contigs: 19\n",
      "# of unique TRACRs in the manure contigs: 385\n",
      "Tracr in both: 19\n",
      "Only in soil: 0\n",
      "Only in manure: 366\n"
     ]
    }
   ],
   "source": [
    "soilTracrs   = set(tracrHits[tracrHits.sseqid.isin(soilOnly.ID)].qseqid)\n",
    "manureTracrs = set(tracrHits[tracrHits.sseqid.isin(manureOnly.ID)].qseqid)\n",
    "tracrsInBoth = soilTracrs.intersection(manureTracrs)\n",
    "print \"# of unique TRACRs in the soil contigs:\", len(soilTracrs)\n",
    "print \"# of unique TRACRs in the manure contigs:\", len(manureTracrs)\n",
    "print \"Tracr in both:\", len(tracrsInBoth)\n",
    "print \"Only in soil:\", len(soilTracrs.difference(manureTracrs))\n",
    "print \"Only in manure:\", len(manureTracrs.difference(soilTracrs))"
   ]
  },
  {
   "cell_type": "code",
   "execution_count": 8,
   "metadata": {},
   "outputs": [],
   "source": [
    "soilAbundance, manureAbundance = 0,0\n",
    "dist = []\n",
    "fh = open(\"AbundanceData.txt\",\"w\")\n",
    "fh.write(\"%s\\t%s\\t%s\\t%s\\n\" % (\"ID\",\"ManureCount\",\"SoilCount\",\"Difference\"))\n",
    "for tracrName in tracrsInBoth:\n",
    "    hits = tracrHits[tracrHits.qseqid == tracrName]\n",
    "    abundanceHits = abundance[abundance.ID.isin(hits.sseqid.unique())]\n",
    "    manureSum, soilSum = abundanceHits.ManureTotal.sum(), abundanceHits.SoilTotal.sum()\n",
    "    fh.write(\"%s\\t%i\\t%i\\t%i\\n\" % (tracrName,manureSum,soilSum,manureSum-soilSum))\n",
    "    dist.append(manureSum-soilSum)\n",
    "    manureAbundance += manureSum\n",
    "    soilAbundance += soilSum\n",
    "from pandas import Series\n",
    "dist = Series(dist)\n",
    "fh.close()"
   ]
  },
  {
   "cell_type": "code",
   "execution_count": 9,
   "metadata": {},
   "outputs": [
    {
     "name": "stdout",
     "output_type": "stream",
     "text": [
      "count     19.000000\n",
      "mean     110.885965\n",
      "std       46.620448\n",
      "min        1.333333\n",
      "25%       99.083333\n",
      "50%      114.833333\n",
      "75%      149.083333\n",
      "max      158.000000\n",
      "dtype: float64\n"
     ]
    },
    {
     "data": {
      "image/png": "[encoded data removed]",
      "text/plain": [
       "<matplotlib.figure.Figure at 0x2b4dbc54f310>"
      ]
     },
     "metadata": {},
     "output_type": "display_data"
    }
   ],
   "source": [
    "dist.plot.hist();\n",
    "print dist.describe()"
   ]
  },
  {
   "cell_type": "code",
   "execution_count": 10,
   "metadata": {},
   "outputs": [
    {
     "data": {
      "text/plain": [
       "Series([], dtype: float64)"
      ]
     },
     "execution_count": 10,
     "metadata": {},
     "output_type": "execute_result"
    }
   ],
   "source": [
    "dist[dist<0]"
   ]
  },
  {
   "cell_type": "code",
   "execution_count": 11,
   "metadata": {},
   "outputs": [
    {
     "data": {
      "text/plain": [
       "5     1.333333\n",
       "17    6.333333\n",
       "dtype: float64"
      ]
     },
     "execution_count": 11,
     "metadata": {},
     "output_type": "execute_result"
    }
   ],
   "source": [
    "dist[dist<10]"
   ]
  },
  {
   "cell_type": "code",
   "execution_count": null,
   "metadata": {},
   "outputs": [],
   "source": []
  }
 ],
 "metadata": {
  "kernelspec": {
   "display_name": "Python 2",
   "language": "python",
   "name": "python2"
  },
  "language_info": {
   "codemirror_mode": {
    "name": "ipython",
    "version": 3
   },
   "file_extension": ".py",
   "mimetype": "text/x-python",
   "name": "python",
   "nbconvert_exporter": "python",
   "pygments_lexer": "ipython3",
   "version": "3.6.7"
  }
 },
 "nbformat": 4,
 "nbformat_minor": 2
}
