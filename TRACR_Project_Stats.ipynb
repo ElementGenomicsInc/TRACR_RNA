{
 "cells": [
  {
   "cell_type": "markdown",
   "metadata": {},
   "source": [
    "#### Diverse Cas9 stats\n",
    "\n",
    "$\\begin{array}{rr} \\hline\n",
    "Statistic &Value \\\\ \\hline\n",
    "\\# Proteins &84 \\\\ \\hline\n",
    "Mean\\ AA &1243 \\\\ \\hline\n",
    "STD &160 \\\\ \\hline\n",
    "Min &984 \\\\ \\hline\n",
    "Max &1688 \\\\ \\hline\n",
    "\\end{array}$"
   ]
  },
  {
   "cell_type": "markdown",
   "metadata": {},
   "source": [
    "![](data/images/DiverseCas9Lengths.png)"
   ]
  },
  {
   "cell_type": "markdown",
   "metadata": {},
   "source": [
    "#### Cas9 Protein Detection Results (Based on the search results from the Diverse Cas9 HMM against public assemblies)\n",
    "\n",
    "$\\begin{array}{rr} \\hline\n",
    "Number\\ of\\ Public\\ Assemblies &595,521 \\\\ \\hline\n",
    "Proteins\\ Detected &35,773 \\\\ \\hline\n",
    "Unique\\ Protein\\ Sequences &7,033 \\\\ \\hline\n",
    "\\end{array}$\n",
    "\n",
    "![](data/images/UniqueCas9Lengths.png)\n"
   ]
  },
  {
   "cell_type": "markdown",
   "metadata": {},
   "source": [
    "#### Domain Search Results\n",
    "<table align='left'>\n",
    "    <tr style='background-color:#9B7E46;color:white'><td>Number of Proteins:</td><td>48431</td></tr><tr style='background-color:#373D20;color:white'><td>Has all domains</td><td>42206</td></tr><tr style='background-color:#BCBD8B;color:white'><td>Number of sequences with no detected RuvCI domain</td><td>3712</td></tr><tr style='background-color:#717744;color:white'><td>Number of sequences with no detected RuvCII domain</td><td>4086</td></tr><tr style='background-color:#766153;color:white'><td>Number of sequences with no detected RuvCIII domain</td><td>2677</td></tr><tr style='background-color:#F4B266;color:white'><td>Number of sequences with no detected HnH</td><td>1230</td></tr>\n",
    "    </table>\n"
   ]
  },
  {
   "cell_type": "markdown",
   "metadata": {},
   "source": [
    "![](data/images/Cas9_RuvC3_DomainLengths.png)"
   ]
  },
  {
   "cell_type": "markdown",
   "metadata": {},
   "source": [
    "#### Profile of domains matching the domain HMM, and their locations in their respective proteins\n",
    "\n",
    "<h6 style=\"color:red\">Outliers are defined as distances that are &gt; mean distance + (2 * STD) </h6>\n",
    "<table align='left'>\n",
    "    <tr style='background-color:#373D20;color:white'><td>No outlier domains</td><td>40706</td></tr><tr style='background-color:#BCBD8B;color:white'><td>Number of RuvC1 outliers</td><td>887</td></tr><tr style='background-color:#717744;color:white'><td>Number of RuvC3 outliers</td><td>632</td></tr><tr style='background-color:#766153;color:white'><td>Outlier Intersection</td><td>19</td></tr>\n",
    "    </table>"
   ]
  },
  {
   "cell_type": "markdown",
   "metadata": {},
   "source": [
    "#### CRISPR Repeat Information"
   ]
  },
  {
   "cell_type": "markdown",
   "metadata": {},
   "source": [
    "![](data/images/Cas9_CRISPR_Repeats.png)"
   ]
  },
  {
   "cell_type": "markdown",
   "metadata": {},
   "source": [
    "![](data/images/Cas9_CRISPR_GC.png)"
   ]
  },
  {
   "cell_type": "code",
   "execution_count": null,
   "metadata": {},
   "outputs": [],
   "source": []
  }
 ],
 "metadata": {
  "kernelspec": {
   "display_name": "Python 3",
   "language": "python",
   "name": "python3"
  },
  "language_info": {
   "codemirror_mode": {
    "name": "ipython",
    "version": 3
   },
   "file_extension": ".py",
   "mimetype": "text/x-python",
   "name": "python",
   "nbconvert_exporter": "python",
   "pygments_lexer": "ipython3",
   "version": "3.6.7"
  }
 },
 "nbformat": 4,
 "nbformat_minor": 2
}
