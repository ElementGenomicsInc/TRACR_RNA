{
 "cells": [
  {
   "cell_type": "markdown",
   "metadata": {},
   "source": [
    "# Ortholog Finding\n",
    "#### This module was originally created for cas9 but could extended to any protein.\n",
    "\n",
    "## Step 1: Profile the Protein\n",
    "    1. Mean, max, min length of already known orthologs\n",
    "## Step 2: HMM Seach\n",
    "    1. Align orthologs\n",
    "    2. build hmm profile\n",
    "    3. hmm search against a database\n",
    "## Step 3: Profile Results\n",
    "    1. Read hmm results\n",
    "    2. cluster results by percent identity\n",
    "    3. remove proteins without required domains\n"
   ]
  },
  {
   "cell_type": "markdown",
   "metadata": {},
   "source": [
    "### Env"
   ]
  },
  {
   "cell_type": "markdown",
   "metadata": {},
   "source": [
    "<p>\n",
    "conda create --name casenv <br/>\n",
    "conda install -n casenv libgcc hmmer mafft biopython <br/>\n",
    "source activate casenv\n",
    "</p>"
   ]
  },
  {
   "cell_type": "code",
   "execution_count": 1,
   "metadata": {},
   "outputs": [],
   "source": [
    "%matplotlib inline\n",
    "import re\n",
    "from sys import path as spath\n",
    "spath.append(\"scripts/\")\n",
    "\n",
    "from Bio.SeqIO import write, parse\n",
    "from collections import Counter\n",
    "from CRISPRtools import *\n",
    "from easyFunctions import *\n",
    "from HMMParser import *\n",
    "from IPython.display import display, HTML\n",
    "from matplotlib import pyplot as plt\n",
    "from os import chdir, listdir,system\n",
    "from pandas import Series\n",
    "from pickle import load #Dump has been wrapped aournd a function from easyFunctions\n",
    "\n",
    "chdir(\"data\")"
   ]
  },
  {
   "cell_type": "markdown",
   "metadata": {},
   "source": [
    "### Gene Orthologs Fasta File"
   ]
  },
  {
   "cell_type": "code",
   "execution_count": 2,
   "metadata": {},
   "outputs": [],
   "source": [
    "gene = \"Cas9\"\n",
    "geneProfile = \"proteins/DiverseCas9s.faa\" #File containing the seed proteins for the hmmsearch\n",
    "geneFile = \"proteins/%s.faa\" % gene\n",
    "alnName  = \"alignments/%s.aln\" % gene\n",
    "hmmName  = \"hmm/%s.hmm\" % gene\n",
    "hmmResultsDir = \"hmm/results\"\n",
    "baseDbsDir = \"/mnt/research/germs/shane/databases/assemblies/\"\n",
    "refDatabases = [\"NCBI/refseq/bacteria\",\"NCBI/refseq/archaea\",\"NCBI/genbank/bacteria\",\"NCBI/genbank/archaea\",\"PATRIC2/fastas\"]"
   ]
  },
  {
   "cell_type": "markdown",
   "metadata": {},
   "source": [
    "### Profile the gene"
   ]
  },
  {
   "cell_type": "code",
   "execution_count": 3,
   "metadata": {},
   "outputs": [
    {
     "name": "stdout",
     "output_type": "stream",
     "text": [
      "count      84.000000\n",
      "mean     1243.547619\n",
      "std       160.535955\n",
      "min       984.000000\n",
      "25%      1099.750000\n",
      "50%      1207.500000\n",
      "75%      1376.500000\n",
      "max      1688.000000\n",
      "dtype: float64\n",
      "Finding proteins that match the protein profile and are between 673 and 1998\n"
     ]
    }
   ],
   "source": [
    "dists = []\n",
    "for rec in parse(geneProfile,\"fasta\"):dists.append(len(rec.seq))\n",
    "dists = Series(dists)\n",
    "minSeqLen = int(dists.min() - (dists.mean() * .25))\n",
    "maxSeqLen = int(dists.max() + (dists.mean() * .25))\n",
    "print (dists.describe());\n",
    "print (\"Finding proteins that match the protein profile and are between %i and %i\" % (minSeqLen, maxSeqLen))"
   ]
  },
  {
   "cell_type": "code",
   "execution_count": 4,
   "metadata": {},
   "outputs": [
    {
     "data": {
      "image/png": "[encoded data removed]",
      "text/plain": [
       "<Figure size 432x288 with 1 Axes>"
      ]
     },
     "metadata": {
      "needs_background": "light"
     },
     "output_type": "display_data"
    }
   ],
   "source": [
    "import matplotlib.pyplot as plt\n",
    "dists.plot(kind='hist',grid=True,title=\"Diverse Cas9 Length Distribution\",figsize=(6,4))\n",
    "plt.savefig(\"images/DiverseCas9Lengths.png\")\n",
    "plt.show()"
   ]
  },
  {
   "cell_type": "markdown",
   "metadata": {},
   "source": [
    "### Make HMM"
   ]
  },
  {
   "cell_type": "code",
   "execution_count": 5,
   "metadata": {},
   "outputs": [
    {
     "name": "stdout",
     "output_type": "stream",
     "text": [
      "# hmmbuild :: profile HMM construction from multiple sequence alignments\n",
      "# HMMER 3.2.1 (June 2018); http://hmmer.org/\n",
      "# Copyright (C) 2018 Howard Hughes Medical Institute.\n",
      "# Freely distributed under the BSD open source license.\n",
      "# - - - - - - - - - - - - - - - - - - - - - - - - - - - - - - - - - - - -\n",
      "# input alignment file:             alignments/Cas9.aln\n",
      "# output HMM file:                  hmm/Cas9.hmm\n",
      "# - - - - - - - - - - - - - - - - - - - - - - - - - - - - - - - - - - - -\n",
      "\n",
      "# idx name                  nseq  alen  mlen eff_nseq re/pos description\n",
      "#---- -------------------- ----- ----- ----- -------- ------ -----------\n",
      "1     Cas9                    84  4084  1039     7.01  0.590 \n",
      "\n",
      "# CPU time: 2.13u 0.00s 00:00:02.13 Elapsed: 00:00:02.16\n"
     ]
    },
    {
     "name": "stderr",
     "output_type": "stream",
     "text": [
      "outputhat23=16\n",
      "treein = 0\n",
      "compacttree = 0\n",
      "stacksize: -1 kb\n",
      "All-to-all alignment.\n",
      "tbfast-pair (aa) Version 7.407\n",
      "alg=L, model=BLOSUM62, 2.00, -0.10, +0.10, noshift, amax=0.0\n",
      "15 thread(s)\n",
      "\n",
      "outputhat23=16\n",
      "Loading 'hat3.seed' ... \n",
      "done.\n",
      "Writing hat3 for iterative refinement\n",
      "Gap Penalty = -1.53, +0.00, +0.00\n",
      "tbutree = 1, compacttree = 0\n",
      "Constructing a UPGMA tree ... \n",
      "   80 / 84\n",
      "done.\n",
      "\n",
      "Progressive alignment ... \n",
      "STEP    36 /83 (thread    7) \n",
      "Reallocating (by thread 12) ..done. *alloclen = 4507\n",
      "STEP    55 /83 (thread    6) \n",
      "Reallocating (by thread 14) ..done. *alloclen = 5536\n",
      "STEP    79 /83 (thread   12) \n",
      "Reallocating (by thread 2) ..done. *alloclen = 6590\n",
      "STEP    83 /83 (thread    4) \n",
      "done.\n",
      "tbfast (aa) Version 7.407\n",
      "alg=A, model=BLOSUM62, 1.53, -0.00, -0.00, noshift, amax=0.0\n",
      "15 thread(s)\n",
      "\n",
      "minimumweight = 0.000010\n",
      "autosubalignment = 0.000000\n",
      "nthread = 8\n",
      "randomseed = 0\n",
      "blosum 62 / kimura 200\n",
      "poffset = 0\n",
      "niter = 16\n",
      "sueff_global = 0.100000\n",
      "nadd = 16\n",
      "Loading 'hat3' ... done.\n",
      "\n",
      "   80 / 84\n",
      "Segment   1/  1    1-4441\n",
      "016-0164-1 (thread    3) worse      \n",
      "Reached 16\n",
      "done\n",
      "dvtditr (aa) Version 7.407\n",
      "alg=A, model=BLOSUM62, 1.53, -0.00, -0.00, noshift, amax=0.0\n",
      "8 thread(s)\n",
      "\n",
      "\n",
      "Strategy:\n",
      " L-INS-i (Probably most accurate, very slow)\n",
      " Iterative refinement method (<16) with LOCAL pairwise alignment information\n",
      "\n",
      "If unsure which option to use, try 'mafft --auto input > output'.\n",
      "For more information, see 'mafft --help', 'mafft --man' and the mafft page.\n",
      "\n",
      "The default gap scoring scheme has been changed in version 7.110 (2013 Oct).\n",
      "It tends to insert more gaps into gap-rich regions than previous versions.\n",
      "To disable this change, add the --leavegappyregion option.\n",
      "\n"
     ]
    }
   ],
   "source": [
    "%%bash -s $geneProfile $alnName $hmmName\n",
    "mafft --thread 15 --maxiterate 1000 --retree 100 --localpair --reorder --treeout $1 > $2 #Assuming there are <200 sequences in the profile\n",
    "hmmbuild $3 $2 2>&1 >/dev/null"
   ]
  },
  {
   "cell_type": "code",
   "execution_count": 3,
   "metadata": {},
   "outputs": [
    {
     "name": "stdout",
     "output_type": "stream",
     "text": [
      "Loaded 453958 HMM files\n",
      "Loaded 453958 CRISPR files\n",
      "\n",
      "Dumping pickles/HMMFiles_Cas9.p\n"
     ]
    }
   ],
   "source": [
    "from os import listdir\n",
    "hmmFiles = listdir(hmmResultsDir)\n",
    "print(\"Loaded %i HMM files\" % (len(hmmFiles)))\n",
    "results = set()\n",
    "for fname in hmmFiles: results.add(\"%s/%s\" % (hmmResultsDir,fname))\n",
    "hmmFiles = results\n",
    "assembliesWCrisprs = load(open(\"pickles/CRISPRs.p\",\"rb\")) #From ProcessCRISPRs.ipynb\n",
    "print(\"Loaded %i CRISPR files\" % (len(assembliesWCrisprs)))\n",
    "dump(hmmFiles, \"pickles/HMMFiles_%s.p\" % gene)"
   ]
  },
  {
   "cell_type": "code",
   "execution_count": 3,
   "metadata": {},
   "outputs": [
    {
     "name": "stdout",
     "output_type": "stream",
     "text": [
      "Loaded 442759 HMM files\n",
      "Loaded CRISPR files\n"
     ]
    }
   ],
   "source": [
    "hmmFiles = load(open(\"pickles/HMMFiles_%s.p\" % gene, \"rb\"))\n",
    "print(\"Loaded %i HMM files\" % (len(hmmFiles)))\n",
    "assembliesWCrisprs = load(open(\"pickles/CRISPRs.p\",\"rb\")) #From ProcessCRISPRs.ipynb\n",
    "print(\"Loaded %i CRISPR files\" % (len(assembliesWCrisprs)))"
   ]
  },
  {
   "cell_type": "markdown",
   "metadata": {},
   "source": [
    "### Build hpc scripts for all assemblies with a CRISPR"
   ]
  },
  {
   "cell_type": "code",
   "execution_count": 4,
   "metadata": {},
   "outputs": [
    {
     "name": "stdout",
     "output_type": "stream",
     "text": [
      "There are 453958 CRISPR related assemblies\n",
      "There are 61 files for 6005 assemblies\n"
     ]
    }
   ],
   "source": [
    "system(\"rm ../scripts/hpc/hmmSearch/*\")\n",
    "print(\"There are %i CRISPR related assemblies\" % (len(assembliesWCrisprs)))\n",
    "fh = open(\"../scripts/hpc/hmmSearch/HMMSearch_0.sb\",\"w\")\n",
    "header = \"\"\n",
    "for line in open(\"../scripts/hpc/header.sb\"): header+=line\n",
    "fh.write(header)\n",
    "cmdCount, fileCounter = 0,1\n",
    "getOrfsCMD = \"python /mnt/research/germs/shane/transActRNA/scripts/GetOrfs.py %s sequences/orfs/%s.orfs 673 >/dev/null\"\n",
    "hmmSearchCMD = \"hmmsearch hmm/%s.hmm sequences/orfs/%s.orfs >%s/%s.hmmout\"\n",
    "\n",
    "for asmName, operon in assembliesWCrisprs.items():\n",
    "    asmFilePath = operon.assembly\n",
    "    if \"%s/%s.hmmout\" % (hmmResultsDir,asmName) in hmmFiles: continue\n",
    "    cmdCount += 1\n",
    "    fh.write(\"if [ ! -f %s/%s.hmmout ]; then\\n\" % (hmmResultsDir,asmName)) #Check to see if the hmm profile already exists\n",
    "    fh.write(\"\\t\"+getOrfsCMD % (asmFilePath,asmName) + \"\\n\")\n",
    "    fh.write(\"\\t\"+hmmSearchCMD % (gene,asmName,hmmResultsDir,asmName)+\"\\n\")\n",
    "    fh.write(\"\\thmmsize=$(wc -l <\\\"%s/%s.hmmout\\\") \\n\" % (hmmResultsDir,asmName))\n",
    "    fh.write(\"\\tif [ $hmmsize -le 40 ]; then \\n\")\n",
    "    fh.write(\"\\t\\trm sequences/orfs/%s.orfs \\n\" % (asmName))\n",
    "    fh.write(\"\\tfi\\n\")\n",
    "    fh.write(\"fi\\n\\n\")\n",
    "    if cmdCount % 50 == 0:\n",
    "        fh.close()\n",
    "        fh = open(\"../scripts/hpc/hmmSearch/HMMSearch_%i.sb\" % (fileCounter),\"w\")\n",
    "        fh.write(header)\n",
    "        fileCounter += 1\n",
    "fh.close()\n",
    "print(\"There are %i files for %i assemblies\" % (fileCounter,cmdCount))"
   ]
  },
  {
   "cell_type": "markdown",
   "metadata": {},
   "source": [
    "### Do HMM search on each assembly"
   ]
  },
  {
   "cell_type": "code",
   "execution_count": null,
   "metadata": {},
   "outputs": [],
   "source": [
    "%%bash \n",
    "bash ../scripts/hpc/LaunchHMMSearch.sh"
   ]
  },
  {
   "cell_type": "markdown",
   "metadata": {},
   "source": [
    "### Read the HMM Results and create fasta files"
   ]
  },
  {
   "cell_type": "code",
   "execution_count": 7,
   "metadata": {},
   "outputs": [
    {
     "name": "stdout",
     "output_type": "stream",
     "text": [
      "Submitted batch job 24156860\n"
     ]
    }
   ],
   "source": [
    "%%bash \n",
    "sbatch ../scripts/hpc/ReadHMM_Results.sb # This script does the same thing as the cell below\n",
    "#cat ../scripts/hpc/ReadHMM_Results.sb"
   ]
  },
  {
   "cell_type": "code",
   "execution_count": null,
   "metadata": {},
   "outputs": [],
   "source": [
    "from CRISPRtools import CasOperons\n",
    "crisprFiles = load(open(\"pickles/CRISPRs.p\",\"rb\")) \n",
    "casOperons = CasOperons(gene)\n",
    "casOperons.hasCas9(hmmResultsDir+\"/\",crisprFiles)\n",
    "dump(casOperons, \"pickles/%s_Operons.p\" % gene)\n",
    "\n",
    "# Sort through all the results and make a file with all of the Cas proteins of interest. \n",
    "# If there are duplicates only keep the duplicates that come from a unique chromosome\n",
    "casOperons = load(open(\"pickles/%s_Operons.p\" % gene,\"rb\"))\n",
    "allCasAsmFile = \"assemblies/All_%s_Representative_Assemblies.fasta\" % (gene)\n",
    "allCasAAsFile = \"proteins/All_%s-Like.faa\" % (gene)\n",
    "casOperons.uniqueNukeSeqs(allCasAsmFile,allCasAAsFile,gene)\n",
    "dump(casOperons, \"pickles/casOperonDataStructureW%s.p\" % gene) \n",
    "system(\"sbatch ../scripts/hpc/DomainSearch.sb\")"
   ]
  },
  {
   "cell_type": "markdown",
   "metadata": {},
   "source": [
    "## Profile domains of the Cas protein of interest"
   ]
  },
  {
   "cell_type": "code",
   "execution_count": 11,
   "metadata": {},
   "outputs": [
    {
     "name": "stdout",
     "output_type": "stream",
     "text": [
      "Total number of unique proteins: 5269\n"
     ]
    },
    {
     "data": {
      "image/png": "[encoded data removed]",
      "text/plain": [
       "<Figure size 432x288 with 1 Axes>"
      ]
     },
     "metadata": {
      "needs_background": "light"
     },
     "output_type": "display_data"
    }
   ],
   "source": [
    "dist,prots = [],set()\n",
    "protSeqs = dict(fasta_index(\"proteins/All_Cas9-Like-filtered.faa\",'fasta')) #All_%s-Like.faa\" % gene))\n",
    "seqCounter = {}\n",
    "for rec in parse(\"proteins/All_Cas9-Like-filtered.faa\",\"fasta\"): \n",
    "    seq = str(rec.seq).strip().upper()\n",
    "#     if len(seq)>2000:continue\n",
    "    if seq not in prots:\n",
    "        prots.add(seq)\n",
    "        dist.append(len(seq))\n",
    "        seqCounter[seq] = [rec.id]\n",
    "    else:\n",
    "        seqCounter[seq].append(rec.id)\n",
    "dist = Series(dist)\n",
    "plt.title(\"Lengths of Unique Protein Coding Sequences matching the %s HMM\" % gene)\n",
    "plt.xlabel(\"Amino Acid Lengths\")\n",
    "plt.ylabel(\"Frequency Count\")\n",
    "hist = dist.hist(grid=True,figsize=(6,4))\n",
    "print (\"Total number of unique proteins:\", len(dist))\n",
    "plt.savefig(\"images/Unique%sLengths.png\" %(gene))\n",
    "plt.show()"
   ]
  },
  {
   "cell_type": "code",
   "execution_count": 4,
   "metadata": {},
   "outputs": [
    {
     "name": "stdout",
     "output_type": "stream",
     "text": [
      "#!/bin/bash --login\n",
      "########## Define Resources Needed with SBATCH Lines ##########\n",
      " \n",
      "#SBATCH --time=6:00:00             # limit of wall clock time - how long the job will run (same as -t)\n",
      "#SBATCH --ntasks=1                  # number of tasks - how many tasks (nodes) that you require (same as -n)\n",
      "#SBATCH --cpus-per-task=20           # number of CPUs (or cores) per task (same as -c)\n",
      "#SBATCH --mem=20G                    # memory required per node - amount of memory (in bytes)\n",
      "#SBATCH --job-name DomainSearch      # you can give your job a name for easier identification (same as -J)\n",
      "#SBATCH --account shadeash-colej \n",
      "#SBATCH --mail-type=END                      # Mail type:\n",
      "#SBATCH --mail-user=dooley.shanek@gmail.com  # Mail user:\n",
      "\n",
      "\n",
      "MY_PATH=/mnt/research/germs/shane/transActRNA/data\n",
      "cd $MY_PATH\n",
      "\n",
      "hmmsearch --max --cpu 20 --pfamtblout $MY_PATH/hmm/Cas9-Like_phi.pfamtbl --tblout $MY_PATH/hmm/Cas9-Like_phi.tbl --domtblout $MY_PATH/hmm/Cas9-Like_phi.faa.domtbl $MY_PATH/hmm/phi_domains.hmm $MY_PATH/proteins/All_Cas9-Like.faa > $MY_PATH/hmm/Cas9-Like_phi.faa.log\n",
      "\n",
      "\n",
      "##hmmsearch --max --cpu 20 --pfamtblout $MY_PATH/domains/DiverseCas9s_uniref.pfamtbl --tblout $MY_PATH/domains/DiverseCas9s_uniref.tbl --domtblout $MY_PATH/domains/DiverseCas9s_uniref.domtbl $MY_PATH/DiverseCas9s.faa.hmm $MY_PATH/domains/uniref90.fasta > $MY_PATH/domains/DiverseCas9s_uniref.log\n",
      "\n",
      "#hmmsearch --max --cpu 20 --pfamtblout $MY_PATH/domains/DiverseCas9s_uniref.pfamtbl --tblout $MY_PATH/domains/DiverseCas9s_uniref.tbl --domtblout $MY_PATH/domains/DiverseCas9s_uniref.domtbl $MY_PATH/DiverseCas9s.faa.hmm $MY_PATH/domains/uniref90.fasta > $MY_PATH/domains/DiverseCas9s_uniref.log\n",
      "\n",
      "##hmmsearch --max --cpu 20 --pfamtblout $MY_PATH/domains/Cas9-Like-clustered.pfamtbl --tblout $MY_PATH/domains/Cas9-Like-clustered.tbl --domtblout $MY_PATH/domains/Cas9-Like-clustered.faa.domtbl $MY_PATH/domains/Pfam-A.full.hmm $MY_PATH/Cas9-Like-clustered.faa > $MY_PATH/domains/Cas9-Like-clustered.faa.log\n",
      "\n",
      "##hmmsearch --max --cpu 20 --pfamtblout $MY_PATH/domains/DiverseCas9s1.pfamtbl       --tblout $MY_PATH/domains/DiverseCas9s1.tbl       --domtblout $MY_PATH/domains/DiverseCas9s1.domtbl           $MY_PATH/domains/Pfam-A.full.hmm $MY_PATH/DiverseCas9s.faa        > $MY_PATH/domains/DiverseCas9s_Log_1.log\n"
     ]
    }
   ],
   "source": [
    "%%bash\n",
    "cat ../scripts/hpc/DomainSearch.sb"
   ]
  },
  {
   "cell_type": "markdown",
   "metadata": {},
   "source": [
    "### Profile the domains"
   ]
  },
  {
   "cell_type": "code",
   "execution_count": null,
   "metadata": {},
   "outputs": [],
   "source": [
    "%%bash\n",
    "sbatch ../scripts/hpc/DomainSearch.sb"
   ]
  },
  {
   "cell_type": "markdown",
   "metadata": {},
   "source": [
    "## Read the results"
   ]
  },
  {
   "cell_type": "code",
   "execution_count": 5,
   "metadata": {},
   "outputs": [
    {
     "name": "stdout",
     "output_type": "stream",
     "text": [
      "Reading Table Definitions\n",
      "28671\n",
      "\n",
      "Dumping pickles/Cas9_HMM_DOMAIN_Search_Results.p\n"
     ]
    }
   ],
   "source": [
    "spacePat = re.compile( r'^[\\t ]*$')\n",
    "hits=SamplesDict()\n",
    "print(\"Reading Table Definitions\")\n",
    "for line in open(\"hmm/Cas9-Like_phi.faa.domtbl\"):\n",
    "    if line.startswith( '#' ):continue\n",
    "    fields = re.split( r'(\\[[^\\[]*[^\\S]+[^\\]]*\\]|[^\\t ]+)', line.strip() )\n",
    "    fields = DomainHit(list(filter(lambda i: not spacePat.search(i), fields)))\n",
    "    hits[fields.hit]=fields\n",
    "print(len(hits.samples))\n",
    "dump(hits,\"pickles/%s_HMM_DOMAIN_Search_Results.p\" % (gene))"
   ]
  },
  {
   "cell_type": "markdown",
   "metadata": {},
   "source": [
    "# Newest Run"
   ]
  },
  {
   "cell_type": "code",
   "execution_count": 12,
   "metadata": {},
   "outputs": [
    {
     "data": {
      "text/html": [
       "<table align='left'>\n",
       "    <tr style='background-color:#9B7E46;color:white'><td>Number of Proteins:</td><td>28671</td></tr><tr style='background-color:#373D20;color:white'><td>Has all domains</td><td>27026</td></tr><tr style='background-color:#BCBD8B;color:white'><td>Number of sequences with no detected RuvCI domain</td><td>921</td></tr><tr style='background-color:#717744;color:white'><td>Number of sequences with no detected RuvCII domain</td><td>971</td></tr><tr style='background-color:#766153;color:white'><td>Number of sequences with no detected RuvCIII domain</td><td>432</td></tr><tr style='background-color:#F4B266;color:white'><td>Number of sequences with no detected HnH</td><td>186</td></tr>\n",
       "    </table>\n"
      ],
      "text/plain": [
       "<IPython.core.display.HTML object>"
      ]
     },
     "metadata": {},
     "output_type": "display_data"
    },
    {
     "name": "stdout",
     "output_type": "stream",
     "text": [
      "<table align='left'>\n",
      "    <tr style='background-color:#9B7E46;color:white'><td>Number of Proteins:</td><td>28671</td></tr><tr style='background-color:#373D20;color:white'><td>Has all domains</td><td>27026</td></tr><tr style='background-color:#BCBD8B;color:white'><td>Number of sequences with no detected RuvCI domain</td><td>921</td></tr><tr style='background-color:#717744;color:white'><td>Number of sequences with no detected RuvCII domain</td><td>971</td></tr><tr style='background-color:#766153;color:white'><td>Number of sequences with no detected RuvCIII domain</td><td>432</td></tr><tr style='background-color:#F4B266;color:white'><td>Number of sequences with no detected HnH</td><td>186</td></tr>\n",
      "    </table>\n",
      "\n"
     ]
    }
   ],
   "source": [
    "hits = load(open(\"pickles/%s_HMM_DOMAIN_Search_Results.p\" % (gene),\"rb\"))\n",
    "hasAllDomains = hits[\"RuvC_1_Cas9\"].intersection(hits[\"RuvC_2_Cas9\"].intersection(hits[\"RuvC_3_Cas9\"].intersection(hits[\"HNH_Cas\"])))\n",
    "allSamples = set(hits.samples.keys())\n",
    "nSamples = len(allSamples)\n",
    "noRuvC1 = allSamples.difference(hits[\"RuvC_1_Cas9\"])\n",
    "noRuvC2 = allSamples.difference(hits[\"RuvC_2_Cas9\"])\n",
    "noRuvC3 = allSamples.difference(hits[\"RuvC_3_Cas9\"])\n",
    "noHNH   = allSamples.difference(hits[\"HNH_Cas\"])\n",
    "\n",
    "htmlString =\"\"\"<table align='left'>\n",
    "    \"\"\"\\\n",
    "    \"<tr style='background-color:#9B7E46;color:white'><td>Number of Proteins:</td><td>%i</td></tr>\" % (nSamples) +\\\n",
    "    \"<tr style='background-color:#373D20;color:white'><td>Has all domains</td><td>%i</td></tr>\" % (len(hasAllDomains)) +\\\n",
    "    \"<tr style='background-color:#BCBD8B;color:white'><td>Number of sequences with no detected RuvCI domain</td><td>%i</td></tr>\" % (len(noRuvC1)) +\\\n",
    "    \"<tr style='background-color:#717744;color:white'><td>Number of sequences with no detected RuvCII domain</td><td>%i</td></tr>\" % (len(noRuvC2)) +\\\n",
    "    \"<tr style='background-color:#766153;color:white'><td>Number of sequences with no detected RuvCIII domain</td><td>%i</td></tr>\" % (len(noRuvC3)) +\\\n",
    "    \"<tr style='background-color:#F4B266;color:white'><td>Number of sequences with no detected HnH</td><td>%i</td></tr>\" % (len(noHNH)) +\\\n",
    "    \"\"\"\n",
    "    </table>\n",
    "\"\"\"\n",
    "display(HTML(htmlString))\n",
    "#    \"<tr style='background-color:#766153;color:white'><td>Number of proteins with neither an RuvCI nor a RuvCIII</td><td>%i</td></tr>\" % (len(neitherDomain)) +\\\n",
    "print(htmlString)"
   ]
  },
  {
   "cell_type": "markdown",
   "metadata": {},
   "source": [
    "# Old Run"
   ]
  },
  {
   "cell_type": "code",
   "execution_count": 4,
   "metadata": {},
   "outputs": [
    {
     "data": {
      "text/html": [
       "<table align='left'>\n",
       "    <tr style='background-color:#9B7E46;color:white'><td>Number of Proteins:</td><td>30782</td></tr><tr style='background-color:#373D20;color:white'><td>Has all domains</td><td>29050</td></tr><tr style='background-color:#BCBD8B;color:white'><td>Number of sequences with no detected RuvCI domain</td><td>964</td></tr><tr style='background-color:#717744;color:white'><td>Number of sequences with no detected RuvCII domain</td><td>1014</td></tr><tr style='background-color:#766153;color:white'><td>Number of sequences with no detected RuvCIII domain</td><td>450</td></tr><tr style='background-color:#F4B266;color:white'><td>Number of sequences with no detected HnH</td><td>181</td></tr>\n",
       "    </table>\n"
      ],
      "text/plain": [
       "<IPython.core.display.HTML object>"
      ]
     },
     "metadata": {},
     "output_type": "display_data"
    },
    {
     "name": "stdout",
     "output_type": "stream",
     "text": [
      "<table align='left'>\n",
      "    <tr style='background-color:#9B7E46;color:white'><td>Number of Proteins:</td><td>30782</td></tr><tr style='background-color:#373D20;color:white'><td>Has all domains</td><td>29050</td></tr><tr style='background-color:#BCBD8B;color:white'><td>Number of sequences with no detected RuvCI domain</td><td>964</td></tr><tr style='background-color:#717744;color:white'><td>Number of sequences with no detected RuvCII domain</td><td>1014</td></tr><tr style='background-color:#766153;color:white'><td>Number of sequences with no detected RuvCIII domain</td><td>450</td></tr><tr style='background-color:#F4B266;color:white'><td>Number of sequences with no detected HnH</td><td>181</td></tr>\n",
      "    </table>\n",
      "\n"
     ]
    }
   ],
   "source": [
    "#hits = load(open(\"pickles/%s_HMM_DOMAIN_Search_Results.p\" % (gene),\"rb\"))\n",
    "hasAllDomains = hits[\"RuvC_1_Cas9\"].intersection(hits[\"RuvC_2_Cas9\"].intersection(hits[\"RuvC_3_Cas9\"].intersection(hits[\"HNH_Cas\"])))\n",
    "allSamples = set(hits.samples.keys())\n",
    "nSamples = len(allSamples)\n",
    "noRuvC1 = allSamples.difference(hits[\"RuvC_1_Cas9\"])\n",
    "noRuvC2 = allSamples.difference(hits[\"RuvC_2_Cas9\"])\n",
    "noRuvC3 = allSamples.difference(hits[\"RuvC_3_Cas9\"])\n",
    "noHNH   = allSamples.difference(hits[\"HNH_Cas\"])\n",
    "\n",
    "htmlString =\"\"\"<table align='left'>\n",
    "    \"\"\"\\\n",
    "    \"<tr style='background-color:#9B7E46;color:white'><td>Number of Proteins:</td><td>%i</td></tr>\" % (nSamples) +\\\n",
    "    \"<tr style='background-color:#373D20;color:white'><td>Has all domains</td><td>%i</td></tr>\" % (len(hasAllDomains)) +\\\n",
    "    \"<tr style='background-color:#BCBD8B;color:white'><td>Number of sequences with no detected RuvCI domain</td><td>%i</td></tr>\" % (len(noRuvC1)) +\\\n",
    "    \"<tr style='background-color:#717744;color:white'><td>Number of sequences with no detected RuvCII domain</td><td>%i</td></tr>\" % (len(noRuvC2)) +\\\n",
    "    \"<tr style='background-color:#766153;color:white'><td>Number of sequences with no detected RuvCIII domain</td><td>%i</td></tr>\" % (len(noRuvC3)) +\\\n",
    "    \"<tr style='background-color:#F4B266;color:white'><td>Number of sequences with no detected HnH</td><td>%i</td></tr>\" % (len(noHNH)) +\\\n",
    "    \"\"\"\n",
    "    </table>\n",
    "\"\"\"\n",
    "display(HTML(htmlString))\n",
    "#    \"<tr style='background-color:#766153;color:white'><td>Number of proteins with neither an RuvCI nor a RuvCIII</td><td>%i</td></tr>\" % (len(neitherDomain)) +\\\n",
    "print(htmlString)"
   ]
  },
  {
   "cell_type": "markdown",
   "metadata": {},
   "source": [
    "#### Profile the lengths of where the domains are located in the protein"
   ]
  },
  {
   "cell_type": "code",
   "execution_count": 13,
   "metadata": {},
   "outputs": [
    {
     "name": "stdout",
     "output_type": "stream",
     "text": [
      "\n",
      "Mean distance from RuvC_1 to start of protein: 11 std: 9\n"
     ]
    },
    {
     "data": {
      "image/png": "[encoded data removed]",
      "text/plain": [
       "<Figure size 432x288 with 1 Axes>"
      ]
     },
     "metadata": {
      "needs_background": "light"
     },
     "output_type": "display_data"
    }
   ],
   "source": [
    "from pandas import Series\n",
    "ruvC1Coords = []\n",
    "ruvC3Coords = []\n",
    "samples = []\n",
    "difs = []\n",
    "for sample in hasAllDomains:\n",
    "    ruc1Start = hits.samples[sample][\"RuvC_1_Cas9\"].start\n",
    "    ruc3End = hits.samples[sample][\"RuvC_3_Cas9\"].dend\n",
    "    ruvC1Coords.append(ruc1Start)\n",
    "    ruvC3Coords.append(ruc3End)\n",
    "    difs.append(ruc3End-ruc1Start)\n",
    "    samples.append(sample)\n",
    "    \n",
    "ruvC1Dists = Series(ruvC1Coords,index=samples)\n",
    "ruvC3Dists = Series(ruvC3Coords,index=samples)\n",
    "distBetween = Series(difs,index=samples)\n",
    "\n",
    "print (\"\\nMean distance from RuvC_1 to start of protein: %.0f std: %.0f\" % (ruvC1Dists.mean(), ruvC1Dists.std()))\n",
    "\n",
    "# the histogram of the data\n",
    "n, bins, patches = plt.hist(ruvC1Dists,facecolor='green')\n",
    "plt.xlabel('Distance to start of protein')\n",
    "plt.ylabel('Number of sequences')\n",
    "plt.title(\"Histogram of distances from RuvC_1 Domain to start of protein\")\n",
    "plt.grid(True)\n",
    "plt.show()"
   ]
  },
  {
   "cell_type": "code",
   "execution_count": 8,
   "metadata": {},
   "outputs": [
    {
     "name": "stdout",
     "output_type": "stream",
     "text": [
      "\n",
      "Mean distance from RuvC_3 to end of protein: 256 std: 57\n"
     ]
    },
    {
     "data": {
      "image/png": "[encoded data removed]",
      "text/plain": [
       "<Figure size 432x288 with 1 Axes>"
      ]
     },
     "metadata": {
      "needs_background": "light"
     },
     "output_type": "display_data"
    }
   ],
   "source": [
    "print (\"\\nMean distance from RuvC_3 to end of protein: %.0f std: %.0f\" % (ruvC3Dists.mean(), ruvC3Dists.std()))\n",
    "\n",
    "# the histogram of the data\n",
    "n, bins, patches = plt.hist(ruvC3Dists,facecolor='blue')\n",
    "plt.xlabel('Distance To End')\n",
    "plt.ylabel('Number of sequences')\n",
    "plt.title(\"Distance From RuvC_3 Domain to End of Sequence\")\n",
    "plt.grid(True)\n",
    "plt.savefig(\"images/%s_RuvC3_DomainLengths.png\" % gene)\n",
    "plt.show()"
   ]
  },
  {
   "cell_type": "code",
   "execution_count": null,
   "metadata": {},
   "outputs": [],
   "source": [
    "f, (ax1, ax2) = plt.subplots(1, 2,figsize=(12, 4))\n",
    "ax1.hist(ruvC1Coords,facecolor='green')\n",
    "ax1.grid(True)\n",
    "ax2.hist(ruvC3Coords,facecolor='blue') \n",
    "plt.grid(True)\n",
    "plt.show();"
   ]
  },
  {
   "cell_type": "code",
   "execution_count": 9,
   "metadata": {},
   "outputs": [
    {
     "data": {
      "text/html": [
       "<table align='left'>\n",
       "    <tr style='background-color:#373D20;color:white'><td>No outlier domains</td><td>27001</td></tr><tr style='background-color:#BCBD8B;color:white'><td>Number of RuvC1 outliers</td><td>24</td></tr><tr style='background-color:#717744;color:white'><td>Number of RuvC3 outliers</td><td>1</td></tr><tr style='background-color:#766153;color:white'><td>Outlier Intersection</td><td>0</td></tr>\n",
       "    </table>\n"
      ],
      "text/plain": [
       "<IPython.core.display.HTML object>"
      ]
     },
     "metadata": {},
     "output_type": "display_data"
    },
    {
     "name": "stdout",
     "output_type": "stream",
     "text": [
      "<table align='left'>\n",
      "    <tr style='background-color:#373D20;color:white'><td>No outlier domains</td><td>27001</td></tr><tr style='background-color:#BCBD8B;color:white'><td>Number of RuvC1 outliers</td><td>24</td></tr><tr style='background-color:#717744;color:white'><td>Number of RuvC3 outliers</td><td>1</td></tr><tr style='background-color:#766153;color:white'><td>Outlier Intersection</td><td>0</td></tr>\n",
      "    </table>\n",
      "\n",
      "\n",
      "Dumping pickles/Cas9_CorrectDomains.p\n"
     ]
    }
   ],
   "source": [
    "import numpy as np\n",
    "start_outliers = set(ruvC1Dists[ruvC1Dists > ruvC1Dists.mean()+8*ruvC1Dists.std()].index) #RuvC1 outlier\n",
    "end_outliers = set(ruvC3Dists[ruvC3Dists > ruvC3Dists.mean()+5*ruvC3Dists.std()].index) #RuvC3 outlier\n",
    "hasGoodDomains = hasAllDomains.difference(start_outliers.union(end_outliers))\n",
    "htmlString =\"\"\"<table align='left'>\n",
    "    \"\"\"\\\n",
    "    \"<tr style='background-color:#373D20;color:white'><td>No outlier domains</td><td>%i</td></tr>\" % (len(hasGoodDomains)) +\\\n",
    "    \"<tr style='background-color:#BCBD8B;color:white'><td>Number of RuvC1 outliers</td><td>%i</td></tr>\" % (len(start_outliers)) +\\\n",
    "    \"<tr style='background-color:#717744;color:white'><td>Number of RuvC3 outliers</td><td>%i</td></tr>\" % (len(end_outliers)) +\\\n",
    "    \"<tr style='background-color:#766153;color:white'><td>Outlier Intersection</td><td>%i</td></tr>\" % (len(start_outliers.intersection(end_outliers))) +\\\n",
    "    \"\"\"\n",
    "    </table>\n",
    "\"\"\"\n",
    "\n",
    "#\"<tr style='background-color:#766153;color:white'><td>Outlier Intersection</td><td>%i</td></tr>\" % (len(start_outliers.intersection(end_outliers))) +\\\n",
    "# htmlString += \"<br/><img src='nwks/%s.png' style='width:1000px;height:1000px;'>\" % (\"Cas9-Subtree1.V2\")\n",
    "display(HTML(htmlString))  \n",
    "print(htmlString)\n",
    "dump(hasGoodDomains,\"pickles/%s_CorrectDomains.p\" % gene)"
   ]
  },
  {
   "cell_type": "markdown",
   "metadata": {},
   "source": [
    "## Remove chrs that have more than 1 Cas9"
   ]
  },
  {
   "cell_type": "code",
   "execution_count": 10,
   "metadata": {},
   "outputs": [
    {
     "name": "stdout",
     "output_type": "stream",
     "text": [
      "27001\n",
      "26857\n"
     ]
    }
   ],
   "source": [
    "#Checked domains, removed outliers, now remove chrs that have more than 1 Cas9\n",
    "hasGoodDomains = load(open(\"pickles/%s_CorrectDomains.p\" % gene,\"rb\"))\n",
    "corrected = {}\n",
    "remove,baseMap = set(),{}\n",
    "print(len(hasGoodDomains))\n",
    "for orfName in hasGoodDomains:\n",
    "    baseCHR = orfName[:orfName.rfind(\"_\")]\n",
    "    if baseCHR in corrected:\n",
    "        try: \n",
    "            baseMap[baseCHR].add(orfName)\n",
    "            baseMap[baseCHR].add(corrected[baseCHR])\n",
    "        except: baseMap[baseCHR] =set([corrected[baseCHR],orfName])\n",
    "        remove.add(orfName)\n",
    "        remove.add(corrected[baseCHR])\n",
    "    corrected[baseCHR] = orfName\n",
    "\n",
    "hasGoodDomains = hasGoodDomains.difference(remove)\n",
    "print(len(hasGoodDomains))"
   ]
  },
  {
   "cell_type": "markdown",
   "metadata": {},
   "source": [
    "#### Cluster the sequences to choose a representative sequence"
   ]
  },
  {
   "cell_type": "code",
   "execution_count": 13,
   "metadata": {},
   "outputs": [
    {
     "name": "stdout",
     "output_type": "stream",
     "text": [
      "    26857  finished       2147  clusters\n"
     ]
    }
   ],
   "source": [
    "%%bash -s $gene\n",
    "cd-hit -i proteins/All_$1-Like-filtered.faa -M 0 -d 0 -c .90 -sc 1 -o proteins/$1-Like-clustered.faa >logs/$1_ClusterLog.log\n",
    "tail -n 8 logs/$1_ClusterLog.log > logs/clusterInfo\n",
    "head -n 1 logs/clusterInfo; rm logs/clusterInfo\n",
    "mv proteins/$1-Like-clustered.faa.clstr clusters/"
   ]
  },
  {
   "cell_type": "code",
   "execution_count": 12,
   "metadata": {},
   "outputs": [
    {
     "name": "stdout",
     "output_type": "stream",
     "text": [
      "Saved 26857 sequences to proteins/All_Cas9-Like-filtered.faa\n",
      "\n",
      "Dumping pickles/Cas9_Operons.p\n"
     ]
    }
   ],
   "source": [
    "casOperons = load(open(\"pickles/%s_Operons.p\" % gene,\"rb\"))\n",
    "casOperons.getRepSeqs(hasGoodDomains,\"proteins/All_%s-Like-filtered.faa\" %(gene),\"proteins/All_%s-Like.faa\" % (gene)) #TODO add clean to remove non good domains\n",
    "dump(casOperons, \"pickles/%s_Operons.p\" % gene)"
   ]
  },
  {
   "cell_type": "markdown",
   "metadata": {},
   "source": [
    "## Create the file with just the chromosomes related to the representative proteins"
   ]
  },
  {
   "cell_type": "code",
   "execution_count": 6,
   "metadata": {},
   "outputs": [],
   "source": [
    "def getRepSeqs(hasGoodDomains,repSeqsFile,allCasRepsFile):\n",
    "    repSeqs = open(repSeqsFile,'w')\n",
    "    counter = 0\n",
    "    for rec in parse(allCasRepsFile,\"fasta\"):\n",
    "        if rec.id in hasGoodDomains: \n",
    "            counter +=1\n",
    "            write(rec,repSeqs,\"fasta\")\n",
    "    repSeqs.close()\n",
    "    print(\"Saved %i sequences to %s\" % (len(hasGoodDomains),repSeqsFile))\n",
    "    print(counter)"
   ]
  },
  {
   "cell_type": "code",
   "execution_count": 7,
   "metadata": {},
   "outputs": [
    {
     "name": "stdout",
     "output_type": "stream",
     "text": [
      "Saved 2147 sequences to assemblies/Cas9_Representative_Assemblies.fasta\n",
      "2147\n"
     ]
    }
   ],
   "source": [
    "casRelatedProteins = dict(fasta_index(\"proteins/%s-Like-clustered.faa\"%gene,'fasta'))\n",
    "getRepSeqs(casRelatedProteins.keys(),\"assemblies/%s_Representative_Assemblies.fasta\" % gene, \"assemblies/All_Cas9_Representative_Assemblies_copy.fasta\")\n"
   ]
  },
  {
   "cell_type": "markdown",
   "metadata": {},
   "source": [
    "### Align the sequences and create a phylogenetic tree"
   ]
  },
  {
   "cell_type": "code",
   "execution_count": 14,
   "metadata": {},
   "outputs": [
    {
     "name": "stdout",
     "output_type": "stream",
     "text": [
      "Submitted batch job 24126726\n",
      "srun -A shadeash-colej mafft --nomemsave --thread 20 --maxiterate 1000 --reorder --treeout proteins/Cas9-Like-clustered.faa > alignments/Cas9-Like-clustered.aln\n",
      " \n",
      "scontrol show job $SLURM_JOB_ID\n"
     ]
    }
   ],
   "source": [
    "%%bash -s $gene\n",
    "sbatch ../scripts/hpc/Alignment.sb\n",
    "tail -n 3 ../scripts/hpc/Alignment.sb"
   ]
  },
  {
   "cell_type": "code",
   "execution_count": 26,
   "metadata": {},
   "outputs": [
    {
     "name": "stdout",
     "output_type": "stream",
     "text": [
      "Reading rep seqs\n",
      "Making reps\n",
      "\n",
      "Dumping pickles/Cas9_Operons.p\n"
     ]
    }
   ],
   "source": [
    "from types import MethodType\n",
    "repFile = \"assemblies/%s_Representative_Assemblies.fasta\" % (gene) #File already exists\n",
    "allRepAssemblies = \"assemblies/All_%s_Representative_Assemblies.fasta\" % (gene) #The new file we are creating\n",
    "print(\"Reading rep seqs\")\n",
    "# allNukSeqs = fasta_index(allRepAssemblies, \"fasta\")\n",
    "print(\"Making reps\")\n",
    "repSeqs = open(repFile,\"w\")\n",
    "casRelatedProteins = fasta_index(\"proteins/%s-Like-clustered.faa\" % gene, \"fasta\")\n",
    "for protID,rec in casRelatedProteins.items():\n",
    "    baseID = protID[:protID.rfind(\"_\")]\n",
    "    nuceRec = allNukSeqs[baseID]\n",
    "    nuceRec.id = protID\n",
    "    if not path.exists(\"assemblies/pseudoChromos/%s.fasta\" % (protID)):\n",
    "        with open(\"assemblies/pseudoChromos/%s.fasta\" % (protID),'w') as fh: write(nuceRec,fh,\"fasta\")\n",
    "    write(nuceRec,repSeqs,\"fasta\")\n",
    "    locus = casOperons[protID]\n",
    "    setattr(locus,'seq',nuceRec) #TODO comment this out on re-run\n",
    "    locus.seq = nuceRec\n",
    "repSeqs.close()\n",
    "dump(casOperons,\"pickles/%s_Operons.p\" % gene)    \n",
    "# corrected = set()\n",
    "# for id in seqs: corrected.add(id[:id.rfind(\"_\")])\n",
    "# casOperons.getRepSeqs(corrected,repFile,allRepAssemblies)"
   ]
  },
  {
   "cell_type": "code",
   "execution_count": 25,
   "metadata": {},
   "outputs": [
    {
     "name": "stdout",
     "output_type": "stream",
     "text": [
      "137\n"
     ]
    }
   ],
   "source": [
    "allNukSeqs = {}\n",
    "badIDs = {}\n",
    "for rec in parse(allRepAssemblies,\"fasta\"):\n",
    "    if rec.id in allNukSeqs:\n",
    "        badIDs[rec.id] = (allNukSeqs[rec.id].seq.upper() == rec.seq.upper())\n",
    "        continue\n",
    "    allNukSeqs[rec.id] = rec\n",
    "print(len(badIDs)) \n",
    "# sum(badIDs.values())\n",
    "badIDs"
   ]
  },
  {
   "cell_type": "code",
   "execution_count": 29,
   "metadata": {},
   "outputs": [
    {
     "name": "stdout",
     "output_type": "stream",
     "text": [
      "\n",
      "Dumping pickles/Cas9_ClusteringResults.p\n",
      "\n",
      "Dumping pickles/Cas9_RevClusteringResults.p\n",
      "\n",
      "Dumping pickles/Cas9_ClusterPercs.p\n"
     ]
    }
   ],
   "source": [
    "allClusters, allClusterSeqIDs = {},{}\n",
    "clusterPercs = {}\n",
    "for line in open(\"clusters/%s-Like-clustered.faa.clstr\" % (gene)):\n",
    "    line = line.strip()\n",
    "    if \">Cluster\" in line: clusterID = line.replace(\">\",\"\")\n",
    "    else:\n",
    "        sequenceID = line[line.find(\">\")+1:line.find(\".\")] \n",
    "        seqID = line[line.find(\">\")+1:line.find(\"...\")] \n",
    "        perc = line.split(\" \")[-1]\n",
    "        aa_s = line.split(\"\\t\")[1]\n",
    "        aa_s = int(aa_s.split(\"aa,\")[0])\n",
    "        if \"%\" in perc: clusterPercs[seqID] = (aa_s,float(perc.replace(\"%\",\"\")))\n",
    "        try:allClusters[clusterID].add(seqID)\n",
    "        except:allClusters[clusterID]=set([seqID])\n",
    "        try:allClusterSeqIDs[seqID].add(clusterID)\n",
    "        except:allClusterSeqIDs[seqID]=set([clusterID])\n",
    "allClusters, allClusterSeqIDs\n",
    "dump(allClusters,\"pickles/%s_ClusteringResults.p\" % (gene))\n",
    "dump(allClusterSeqIDs,\"pickles/%s_RevClusteringResults.p\" % (gene))\n",
    "dump(clusterPercs,\"pickles/%s_ClusterPercs.p\" % (gene))"
   ]
  },
  {
   "cell_type": "markdown",
   "metadata": {},
   "source": [
    "# Build the Cas9 Finding Report"
   ]
  },
  {
   "cell_type": "code",
   "execution_count": 30,
   "metadata": {},
   "outputs": [],
   "source": [
    "from Rho import *\n",
    "metadata = {}\n",
    "for line in open(\"tables/AllCas9Meta.txt\"):\n",
    "    seqID,description = line.strip().split(\"\\t\")\n",
    "    metadata[seqID]=description\n",
    "\n",
    "casOperons = load(open(\"pickles/%s_Operons.p\" % gene,\"rb\"))\n",
    "clusters = processClusterFile(\"clusters/%s-Like-clustered.faa.clstr\" % (gene))\n",
    "#seqCounter[seq], ruvC1Dists,ruvC3Dists, distBetween\n",
    "allAssemblies = load(open(\"pickles/All_%s_Representative_Assemblies.p\" % (gene),'rb'))\n",
    "allProts = dict(fasta_index(\"proteins/All_Cas9-Like.faa\",'fasta'))"
   ]
  },
  {
   "cell_type": "code",
   "execution_count": 42,
   "metadata": {},
   "outputs": [
    {
     "name": "stdout",
     "output_type": "stream",
     "text": [
      "5693 28855\n"
     ]
    }
   ],
   "source": [
    "report = open(\"tables/Cas9FindingReport.tsv\",'w')\n",
    "\n",
    "columns = ['Protein ID',\"Prot Length\",\"Chr Length\",\"Cluster\",\"Cluster Members\",'Systems with idenditcal protein',\n",
    "           \"RuvC I to Start\",\"RuvC III to End\",\"AAs Between I-III\",\"#CRISPR Arrays\",\"Consensus Repeats Sequence(s)\",\n",
    "           \"Consensus Length\",\"#Repeats in CRISPR Search\",\"#BLAST Repeats\",\"Metadata\"]\n",
    "\n",
    "report.write(\"\\t\".join(columns)+'\\n')\n",
    "skips = 0\n",
    "for protID in allAssemblies:\n",
    "    try:\n",
    "        operon = casOperons.operons[casOperons.seqMap[protID]]\n",
    "        crispr = operon.getCRISPR(protID)\n",
    "    \n",
    "        values = {\n",
    "            \"Protein ID\": protID,\n",
    "            \"Prot Length\": len(allProts[protID]),\n",
    "            \"Chr Length\": len(operon.seq.seq),\n",
    "            \"Cluster\": clusters.revMap[protID],\n",
    "            \"Cluster Members\": len(clusters[clusters.revMap[protID]].members),\n",
    "            \"Systems with idenditcal protein\": len(seqCounter[str(allProts[protID].seq).strip().upper()]),\n",
    "            \"RuvC I to Start\":ruvC1Dists[protID],\n",
    "            \"RuvC III to End\":ruvC3Dists[protID],\n",
    "            \"AAs Between I-III\":distBetween[protID],\n",
    "            \"#CRISPR Arrays\": len(crispr.consensusRepeats),\n",
    "            \"Consensus Repeats Sequence(s)\": \",\".join(crispr.consensusRepeats),\n",
    "            \"Consensus Length\": len(list(crispr.consensusRepeats)[0]),\n",
    "            \"#Repeats in CRISPR Search\":len(crispr.spacers),\n",
    "            \"#BLAST Repeats\":len([]), # will be crispr.numBlastRes\n",
    "            \"Metadata\":metadata[protID]\n",
    "        }\n",
    "    except: \n",
    "        skips+=1\n",
    "        continue\n",
    "    \n",
    "    for col in columns: report.write(str(values[col])+\"\\t\")\n",
    "    report.write('\\n')\n",
    "    \n",
    "print(skips,len(allAssemblies))\n",
    "report.close()"
   ]
  },
  {
   "cell_type": "code",
   "execution_count": null,
   "metadata": {},
   "outputs": [],
   "source": [
    "print(\"Yay Done!!!!!\")"
   ]
  },
  {
   "cell_type": "code",
   "execution_count": 8,
   "metadata": {},
   "outputs": [],
   "source": [
    "from Bio.SeqIO import index\n",
    "gene='Cas9'\n",
    "casRelatedProteins = index(\"proteins/%s-Like-clustered.faa\" % (gene),\"fasta\")\n",
    "fh = open(\"proteins/%s-Like-clustered_copy.faa\" % (gene),'w')\n",
    "for rec in casRelatedProteins.values():\n",
    "    rec.description = ''\n",
    "    write(rec,fh,'fasta')\n",
    "fh.close()"
   ]
  },
  {
   "cell_type": "code",
   "execution_count": 9,
   "metadata": {},
   "outputs": [],
   "source": [
    "%%bash\n",
    "mv proteins/Cas9-Like-clustered_copy.faa proteins/Cas9-Like-clustered.faa #To clean up the descriptions"
   ]
  },
  {
   "cell_type": "code",
   "execution_count": null,
   "metadata": {},
   "outputs": [],
   "source": [
    "\n",
    "\n",
    "\n",
    "\n",
    "\n",
    "\n",
    "\n",
    "\n",
    "\n",
    "\n",
    "\n",
    "\n",
    "\n",
    "\n",
    "\n",
    "\n",
    "\n",
    "\n",
    "\n",
    "\n",
    "\n",
    "\n",
    "\n",
    "\n",
    "\n",
    "\n",
    "\n",
    "\n",
    "\n",
    "\n",
    "\n",
    "\n",
    "\n",
    "\n",
    "\n",
    "\n",
    "\n",
    "\n",
    "\n",
    "\n",
    "\n",
    "\n",
    "\n",
    "\n",
    "\n",
    "\n",
    "\n",
    "\n",
    "\n",
    "\n",
    "\n",
    "\n",
    "\n",
    "\n",
    "\n",
    "\n",
    "\n",
    "\n",
    "\n",
    "\n",
    "\n",
    "\n",
    "\n",
    "\n",
    "\n",
    "\n",
    "\n",
    "\n",
    "\n",
    "\n",
    "\n",
    "\n",
    "\n",
    "\n"
   ]
  },
  {
   "cell_type": "code",
   "execution_count": null,
   "metadata": {},
   "outputs": [],
   "source": [
    "goodDomIDS = set()\n",
    "goodDomMap = {}\n",
    "hasGoodDomains = load(open(\"pickles/%s_CorrectDomains.p\" % gene, \"rb\"))\n",
    "for prot in hasGoodDomains: \n",
    "    baseID = prot[:prot.rfind(\"_\")] # remove the orf identifier\n",
    "    goodDomIDS.add(baseID)\n",
    "    try: goodDomMap[baseID].add(prot)\n",
    "    except: goodDomMap[baseID] = set([prot])\n",
    "print(\"Found %i Cas9-like proteins on the same sequence\" % (len(hasGoodDomains) - len(goodDomIDS)))\n",
    "print(\"Total proteins found %i in (%i == %i) sequences\" % (len(hasGoodDomains),len(goodDomMap),len(goodDomIDS)))\n",
    "dump(goodDomIDS,\"pickles/%s_GoodDomainIDS.p\" %(gene))\n",
    "dump(goodDomMap,\"pickles/%s_GoodDomMap.p\" %(gene))"
   ]
  },
  {
   "cell_type": "markdown",
   "metadata": {},
   "source": [
    "# Now we have assemblies with a crispr and a Cas9. Next we will copy all of the unique seqeuences over to the same place. This will allow the systems with the same protein but different DNA sequences to exist."
   ]
  },
  {
   "cell_type": "code",
   "execution_count": null,
   "metadata": {},
   "outputs": [],
   "source": [
    "assemblyDir = \"assemblies/assemblies_W_%s/\" % (gene)\n",
    "cas9Assemblies = listdir(assemblyDir)\n",
    "goodDomIDS = load(open(\"pickles/%s_GoodDomainIDS.p\" % (gene), \"rb\"))\n",
    "goodDomMap = load(open(\"pickles/%s_GoodDomMap.p\"    % (gene), \"rb\"))\n",
    "hmm_parser = load(open(\"pickles/%s_HMM_Parsing_Results.p\" % (gene), \"rb\"))"
   ]
  },
  {
   "cell_type": "code",
   "execution_count": null,
   "metadata": {},
   "outputs": [],
   "source": [
    "assembliesWCrisprs = load(open(\"pickles/allAssemblyW_CRISPRs.p\",\"rb\"))"
   ]
  },
  {
   "cell_type": "code",
   "execution_count": null,
   "metadata": {},
   "outputs": [],
   "source": [
    "def getDB(aPath): \n",
    "    if \"genbank\" in aPath: return \"genbank\"\n",
    "    if \"refseq\"  in aPath: return \"refseq\"\n",
    "    return \"pat2\"\n",
    "hmm_parser = load(open(\"pickles/%s_HMM_Parsing_Results.p\" % (gene), \"rb\"))\n",
    "len(hmm_parser)"
   ]
  },
  {
   "cell_type": "code",
   "execution_count": null,
   "metadata": {},
   "outputs": [],
   "source": [
    "# Copy unique nucleotide sequence\n",
    "from Bio.SeqIO import index, write\n",
    "from os import system\n",
    "# hmm_parser = load(open(\"pickles/%s_HMM_Parsing_Results.p\" % (gene), \"rb\"))\n",
    "hasGoodDomains = load(open(\"pickles/%s_CorrectDomains.p\" % gene, \"rb\"))\n",
    "# assembliesWCrisprs = load(open(\"pickles/allAssemblyW_CRISPRs.p\",\"rb\"))\n",
    "\n",
    "nukSeqHash, protAssemblyMap, assemblyProtMap = {}, {}, {}\n",
    "# BASEFILENAME eg GCF_0001232342.5.fasta = GCF_0001232342.5\n",
    "# protAssemblyMap = {CHROM_ORF#:BASEFILENAME}\n",
    "\n",
    "counter = 0\n",
    "#casFiltered = open(\"proteins/All_%s-Like-filtered.faa\" % gene, \"w\")\n",
    "crPath = \"/mnt/research/germs/shane/databases/crisprs/pilerCR\"\n",
    "for baseID, proteins in hmm_parser:\n",
    "    assemblyProtMap[baseID] = {}\n",
    "    protIDs = proteins.proteins.keys()\n",
    "    keepers = hasGoodDomains.intersection(protIDs)\n",
    "    if len(keepers) > 0:\n",
    "#         seqs = index(assembliesWCrisprs[baseID], \"fasta\")\n",
    "#         db = getDB(assembliesWCrisprs[baseID])\n",
    "        for protID in keepers:\n",
    "            counter += 1\n",
    "            protAssemblyMap[protID] = baseID\n",
    "            baseProtID = protID[:protID.rfind(\"_\")]\n",
    "            try: assemblyProtMap[baseID][baseProtID].add(protID)\n",
    "            except: assemblyProtMap[baseID] = {baseProtID:set([protID])}\n",
    "#             pchr = seqs[baseProtID]\n",
    "#             nukeSeq = str(pchr.seq).upper()\n",
    "#             if nukeSeq not in nukSeqHash:\n",
    "#                 if not path.exists(\"crisprs/%s.pcrout\" % (protID)):\n",
    "#                     system(\"ln -s %s/%s/%s.pcrout crisprs/%s.pcrout\" % (crPath,db,baseID,protID))\n",
    "#                     with open(\"assemblies/pseudoChromos/%s.fasta\" % protID, \"w\") as seqFH:\n",
    "#                         pchr.id = protID\n",
    "#                         write(pchr, seqFH, \"fasta\")\n",
    "#                 write(proteins.proteins[protID],casFiltered,\"fasta\")\n",
    "#                 nukSeqHash[nukeSeq] = set([protID])\n",
    "#             else: nukSeqHash[nukeSeq].add(protID)\n",
    "            if counter % 1000 == 0: print(counter/1000,end=' ')\n",
    "# casFiltered.close()\n",
    "# dump(nukSeqHash,\"pickles/%s_nukSeqHash.p\" % gene)\n",
    "# dump(protAssemblyMap,\"pickles/%s_protAssemblyMap.p\" % gene)\n",
    "dump(assemblyProtMap,\"pickles/%s_assemblyProMap.p\" % gene)"
   ]
  },
  {
   "cell_type": "markdown",
   "metadata": {},
   "source": [
    "#### Write all proteins to a file ->Cluster proteins -> Align the representatives"
   ]
  },
  {
   "cell_type": "code",
   "execution_count": null,
   "metadata": {},
   "outputs": [],
   "source": [
    "gene = \"Cas9\"\n",
    "clusterID = \"\"\n",
    "allClusters, allClusterSeqIDs = {},{}\n",
    "clusterPercs = {}\n",
    "for line in open(\"clusters/%s-Like-clustered.faa.clstr\" % (gene)):\n",
    "    line = line.strip()\n",
    "    if \">Cluster\" in line: clusterID = line.replace(\">\",\"\")\n",
    "    else:\n",
    "        seqID = line[line.find(\">\")+1:line.find(\"...\")] \n",
    "        perc = line.split(\" \")[-1]\n",
    "        aa_s = line.split(\"\\t\")[1]\n",
    "        aa_s = int(aa_s.split(\"aa,\")[0])\n",
    "        if \"%\" in perc: clusterPercs[seqID] = (aa_s,float(perc.replace(\"%\",\"\")))\n",
    "        try:allClusters[clusterID].add(seqID)\n",
    "        except:allClusters[clusterID]=set([seqID])\n",
    "        try:allClusterSeqIDs[seqID].add(clusterID)\n",
    "        except:allClusterSeqIDs[seqID]=set([clusterID])\n",
    "allClusters, allClusterSeqIDs\n",
    "dump(allClusters,\"pickles/%s_ClusteringResults.p\" % (gene))\n",
    "dump(allClusterSeqIDs,\"pickles/%s_RevClusteringResults.p\" % (gene))\n",
    "dump(clusterPercs,\"pickles/%s_ClusterPercs.p\" % (gene))"
   ]
  },
  {
   "cell_type": "code",
   "execution_count": null,
   "metadata": {},
   "outputs": [],
   "source": [
    "from Bio.SeqIO import index,write\n",
    "from os import listdir\n",
    "gene = \"Cas9\"\n",
    "casAssemblies = index(\"data/proteins/%s-Like-clustered.faa\" % (gene), \"fasta\")\n",
    "casFH = open(\"data/assemblies/%s_Representative_Assemblies.fasta\" % (gene), \"w\")\n",
    "counter = 0\n",
    "for fname in listdir(\"data/assemblies/pseudoChromos/\"):\n",
    "    seqID = fname[:fname.find(\".fasta\")]\n",
    "    if seqID in casAssemblies: \n",
    "        asm = index(\"data/assemblies/pseudoChromos/\"+fname, \"fasta\")\n",
    "        write(asm[seqID],casFH,\"fasta\")\n",
    "        if counter % 100 == 0 : print(counter/100,end=\" \")\n",
    "        counter +=1\n",
    "casFH.close()\n",
    "counter "
   ]
  },
  {
   "cell_type": "code",
   "execution_count": null,
   "metadata": {},
   "outputs": [],
   "source": [
    "dump(nukSeqHash,\"pickles/%s_nukSeqHash.p\" % gene)\n",
    "dump(protAssemblyMap,\"pickles/%s_protAssemblyMap.p\" % gene)"
   ]
  },
  {
   "cell_type": "code",
   "execution_count": null,
   "metadata": {},
   "outputs": [],
   "source": [
    "hmm_parser = HMM_Parser()\n",
    "hmmFiles = os.listdir(hmmResultsDir)\n",
    "counter, numWithCas9Like = 0, 0\n",
    "print (\"Working on the %s directory which contains %i files\" % (hmmResultsDir,len(hmmFiles)))\n",
    "for fileName in hmmFiles:\n",
    "    if \".hmmout\" not in fileName: continue\n",
    "    fileStats = os.stat(os.path.join(hmmResultsDir,fileName)).st_size  \n",
    "    counter+=1\n",
    "    if counter % 100000 == 0: print(counter,numWithCas9Like)\n",
    "    if fileStats < 1900: continue #Less than 1900 means no results were found\n",
    "    hmm_parser.parse(os.path.join(hmmResultsDir,fileName))\n",
    "    numWithCas9Like +=1\n",
    "dump(hmm_parser,\"pickles/%s_HMM_Parsing_Results.p\" % (gene))"
   ]
  },
  {
   "cell_type": "code",
   "execution_count": null,
   "metadata": {},
   "outputs": [],
   "source": [
    "protCounter, fileCounter = 0,1\n",
    "protSeqs = set()\n",
    "IDs, dupes = {},{}\n",
    "casAll = open(\"proteins/All_%s-Like.faa\" % gene,\"w\")\n",
    "casUnique = open(\"proteins/Unique_%ss.faa\" % gene,\"w\")\n",
    "# fh = open(\"../scripts/hpc/hmmSearch/HMMSearch_0.sb\",\"w\")\n",
    "# header = \"\"\n",
    "# for line in open(\"../scripts/hpc/header.sb\"): header+=line\n",
    "# fh.write(header)\n",
    "\n",
    "for baseID,proteins in hmm_parser:\n",
    "    for protID, rec in proteins:\n",
    "        if len(rec.seq) > 2100: continue\n",
    "        if rec.id in IDs: \n",
    "            try: dupes[rec.id].add(baseID)\n",
    "            except: \n",
    "                dupes[rec.id] = set([baseID])\n",
    "                dupes[rec.id].add(IDs[rec.id])\n",
    "            continue\n",
    "        IDs[rec.id]=baseID\n",
    "        seq = str(rec.seq).upper()\n",
    "        protCounter +=1\n",
    "        if seq not in protSeqs:\n",
    "            \n",
    "            protSeqs.add(seq)\n",
    "            write(rec,casUnique,\"fasta\")\n",
    "        write(rec,casAll,\"fasta\")\n",
    "casUnique.close() \n",
    "casAll.close()\n",
    "print(\"Number of dupes: \",len(dupes))\n",
    "print (\"Writing %i proteins from %i assemblies to file: proteins/All_%s-Like.faa\" % (protCounter,numWithCas9Like,gene))\n",
    "print(\"Of the %s proteins, there are %i unique proteins\" % (protCounter,len(protSeqs)))"
   ]
  },
  {
   "cell_type": "code",
   "execution_count": null,
   "metadata": {},
   "outputs": [],
   "source": [
    "\n",
    "\n",
    "\n",
    "\n",
    "\n",
    "\n",
    "\n",
    "\n",
    "\n",
    "\n",
    "\n",
    "\n",
    "\n",
    "\n",
    "\n",
    "\n",
    "\n",
    "\n",
    "\n",
    "\n",
    "\n",
    "\n",
    "\n",
    "\n",
    "\n",
    "\n",
    "\n",
    "\n",
    "\n",
    "\n",
    "\n",
    "\n",
    "\n",
    "\n",
    "\n",
    "\n"
   ]
  },
  {
   "cell_type": "code",
   "execution_count": null,
   "metadata": {},
   "outputs": [],
   "source": [
    "from Bio.SeqIO import index, write\n",
    "seqs = index(\"proteins/All_%s-Like.faa\" % (gene),\"fasta\")\n",
    "fh = open(\"proteins/multiple%ss.faa\" % (gene),\"w\")\n",
    "for baseID, orfList in baseMap.items():\n",
    "    orf1, orf2 = list(orfList)\n",
    "    seq1 = str(seqs[orf1].seq).upper()\n",
    "    seq2 = str(seqs[orf2].seq).upper()\n",
    "    if seq1 != seq2:\n",
    "        print(orf1,orf1)\n",
    "        write(seqs[orf1],fh,\"fasta\")\n",
    "        write(seqs[orf2],fh,\"fasta\")\n",
    "fh.close()       "
   ]
  },
  {
   "cell_type": "code",
   "execution_count": null,
   "metadata": {},
   "outputs": [],
   "source": [
    "from Bio.SeqIO import index,write\n",
    "prots = index(\"proteins/All_%s-Like.faa\" % (gene), \"fasta\")\n",
    "fh = open(\"proteins/%s-Like.faa\" % (gene),'w')\n",
    "for fName in listdir(\"assemblies/pseudoChromos/\"):\n",
    "    orfID = fName.replace(\".fasta\",\"\")\n",
    "    prot = prots[orfID]\n",
    "    write(prot,fh,\"fasta\")\n",
    "fh.close()"
   ]
  },
  {
   "cell_type": "code",
   "execution_count": null,
   "metadata": {},
   "outputs": [],
   "source": [
    "from Bio.SeqIO import index\n",
    "fh = open(\"assemblies/%s_Representative_Assemblies.fasta\" % (gene),\"w\")\n",
    "prots = index(\"proteins/%s-Like-clustered.faa\" % (gene), \"fasta\" )\n",
    "for protName in prots.keys():\n",
    "    protAsm = index(\"assemblies/pseudoChromos/%s.fasta\" % (protName), \"fasta\")\n",
    "#     seqID = protName[:protName.rfind(\"_\")]\n",
    "#     rec = protAsm[seqID]\n",
    "#     rec.id = protName\n",
    "    write(protAsm[protName],fh,\"fasta\")\n",
    "fh.close()"
   ]
  },
  {
   "cell_type": "code",
   "execution_count": null,
   "metadata": {},
   "outputs": [],
   "source": [
    "assembliesWCrisprs = load(open(\"pickles/allAssemblyCRISPRs.p\",\"rb\")) "
   ]
  },
  {
   "cell_type": "code",
   "execution_count": null,
   "metadata": {},
   "outputs": [],
   "source": [
    "from os import path, system\n",
    "#fh = open(\"MissingCRISPS.txt\",\"w\")\n",
    "#hmm_parser = load(open(\"pickles/%s_HMM_Parsing_Results.p\"  % (gene), \"rb\"))\n",
    "counter = 0    \n",
    "crisprDir = \"/mnt/research/germs/shane/databases/crisprs/pilerCR/\"  \n",
    "pcmd = \"pilercr -minid 0.85 -mincons 0.8 -noinfo -in %s -out /mnt/research/germs/shane/databases/crisprs/pilerCR/%s/%s.pcrout 2>/dev/null\" # % (assembly, outdir, assembly.replace(\".fasta\",\"\"))\n",
    "for fName, result in hmm_parser:\n",
    "    keepers = prots.intersection(result.proteins.keys())\n",
    "    for protID in keepers:\n",
    "        db = \"genbank\"\n",
    "        if \"refseq\" in assembliesWCrisprs[fName]: db = \"refseq\"\n",
    "        if \"PATRIC2\" in assembliesWCrisprs[fName]: db = \"pat2\"\n",
    "#         if not path.exists(\"crisprs/%s.pcrout\" % protID):\n",
    "#             system(pcmd % (assembliesWCrisprs[fName],db,fName))\n",
    "#             fh.write(protID + \"\\t\" + assembliesWCrisprs[fName] + \"\\n\")\n",
    "        system(\"unlink crisprs/%s.pcrout\" % protID)\n",
    "        system(\"ln -s /mnt/research/germs/shane/databases/crisprs/pilerCR/%s/%s.pcrout crisprs/%s.pcrout\" % (db,fName,protID))\n",
    "        counter +=1\n",
    "counter\n",
    "#fh.close()"
   ]
  },
  {
   "cell_type": "markdown",
   "metadata": {},
   "source": [
    "### Substitutions Substitute any assemblies were no blast results are found because the area repeat is too small and any that don't have a candidate repeat"
   ]
  },
  {
   "cell_type": "code",
   "execution_count": null,
   "metadata": {},
   "outputs": [],
   "source": [
    "\n",
    "\n",
    "\n",
    "\n",
    "\n",
    "\n",
    "\n",
    "\n",
    "\n",
    "\n",
    "\n",
    "\n",
    "\n",
    "\n",
    "\n",
    "\n",
    "\n",
    "\n",
    "\n",
    "\n",
    "\n",
    "\n",
    "\n",
    "\n",
    "\n",
    "\n",
    "\n",
    "\n",
    "\n",
    "\n",
    "\n",
    "\n",
    "\n"
   ]
  },
  {
   "cell_type": "code",
   "execution_count": null,
   "metadata": {},
   "outputs": [],
   "source": [
    "# hmm_parser = load(open(\"pickles/hmm_parsing_results.p\",\"rb\"))\n",
    "# assembliesWCrisprs = load(open(\"pickles/allAssemblyCRISPRs.p\",\"rb\")) \n",
    "from os import system,path\n",
    "counter = 0\n",
    "protMapper = {}\n",
    "for result in hmm_parser.results:\n",
    "    fullHmmPath = result.filePath\n",
    "    baseID = fullHmmPath.replace(\"hmm/results/\",\"\").replace(\".hmmout\",\"\")\n",
    "    if path.exists(\"assemblies/assemblies_W_Cas9s/%s.fasta\" % (baseID)):\n",
    "        counter+=1\n",
    "        if counter % 1000 ==0: print(counter,end=\" \")\n",
    "        continue\n",
    "    for rec in parse(assembliesWCrisprs[baseID],\"fasta\"):\n",
    "        if rec.id in goodDomIDS:\n",
    "            system(\"ln -s %s assemblies/assemblies_W_Cas9s/%s.fasta\" % (assembliesWCrisprs[baseID],baseID))\n",
    "            counter+=1\n",
    "            if counter % 1000 ==0: print(counter,end=\" \")\n",
    "            break\n",
    "\n",
    "#     for prot in result.proteins:\n",
    "        "
   ]
  },
  {
   "cell_type": "code",
   "execution_count": null,
   "metadata": {},
   "outputs": [],
   "source": [
    "from Bio.SeqIO import index as fasta_index\n",
    "allCas9s = fasta_index(\"Cas9-Like-clustered.faa\", \"fasta\")"
   ]
  },
  {
   "cell_type": "markdown",
   "metadata": {},
   "source": [
    "### Alignment"
   ]
  },
  {
   "cell_type": "code",
   "execution_count": null,
   "metadata": {},
   "outputs": [],
   "source": [
    "import glob, os\n",
    "outliers = start_outlierIDs.union(end_outlierIDs)\n",
    "files = glob.glob(\"assemblies/*.fasta\")\n",
    "for fileName in files:\n",
    "    fileName2 = fileName.replace(\"assemblies/\",\"\").replace(\".fasta\",\"\")\n",
    "#     if fileName2 in outliers: \n",
    "#         os.system(\"mv %s* assemblies/NoDomains/\" % (fileName.replace(\".fasta\",\"\")))\n",
    "        \n",
    "removeSeqs = set(hits.samples).difference(hasDomains)\n",
    "\n",
    "print len(hits.samples), len(removeSeqs), len(hits.samples) - len(removeSeqs)\n",
    "files = glob.glob(\"assemblies/*.fasta\")\n",
    "for fileName in files:\n",
    "    fileName2 = fileName.replace(\"assemblies/\",\"\").replace(\".fasta\",\"\")\n",
    "#     if fileName2 not in hits.samples: \n",
    "#         os.system(\"mv %s* assemblies/NoDomains/\" % (fileName.replace(\".fasta\",\"\")))\n",
    "print \"Total Samples:\",len(hits.samples)\n",
    "print \"\\tMissing Domain Samples:\",len(removeSeqs)\n",
    "print \"\\tDomain profile Samples:\",len(outliers)\n",
    "print \"After filtering:\", len(hits.samples) - (len(removeSeqs) + len(outliers))\n",
    "\n",
    "counter=0\n",
    "fh = open(\"Cas9-Like-clustered2.faa\",\"w\")\n",
    "from Bio.SeqIO import parse\n",
    "for rec in parse(\"Cas9-Like-clustered.faa\",\"fasta\"):\n",
    "    if os.path.exists(\"assemblies/%s.fa\" % (rec.id)):\n",
    "        counter += 1\n",
    "        fh.write(\">%s\\n%s\\n\" % (rec.id, str(rec.seq)))\n",
    "fh.close()"
   ]
  },
  {
   "cell_type": "markdown",
   "metadata": {},
   "source": [
    "### Cluster the results to remove duplicates"
   ]
  },
  {
   "cell_type": "code",
   "execution_count": null,
   "metadata": {},
   "outputs": [],
   "source": [
    "%%bash -s $gene\n",
    "cd-hit -i proteins/All_$1-Like.faa -c .9999999 -d 0 -M 0 -T 0 -o proteins/$1-Like-clustered.faa >logs/$1_ClusterLog.log\n",
    "tail -n 8 logs/$1_ClusterLog.log"
   ]
  },
  {
   "cell_type": "code",
   "execution_count": null,
   "metadata": {},
   "outputs": [],
   "source": [
    "from Bio.SeqIO import parse\n",
    "fh = open(\"CasRelatedAssemblies2.fasta\",\"w\")\n",
    "counter = 0\n",
    "for rec in parse(\"CasRelatedAssemblies.fasta\",\"fasta\"):\n",
    "    if os.path.exists(\"assemblies/%s.fa\" % (rec.id)):\n",
    "        counter += 1\n",
    "        fh.write(\">%s\\n%s\\n\" % (rec.id, str(rec.seq)))\n",
    "fh.close()\n",
    "print counter"
   ]
  },
  {
   "cell_type": "code",
   "execution_count": null,
   "metadata": {},
   "outputs": [],
   "source": [
    "\n",
    "\n",
    "\n",
    "\n",
    "\n",
    "\n",
    "\n",
    "\n",
    "\n",
    "\n",
    "\n",
    "\n",
    "\n",
    "\n",
    "\n",
    "\n",
    "\n",
    "\n",
    "\n",
    "\n",
    "\n",
    "\n",
    "\n",
    "\n",
    "\n",
    "\n",
    "\n",
    "\n",
    "\n",
    "\n",
    "\n",
    "\n",
    "\n",
    "\n",
    "\n",
    "\n",
    "\n",
    "\n"
   ]
  },
  {
   "cell_type": "code",
   "execution_count": null,
   "metadata": {},
   "outputs": [],
   "source": [
    "%%bash\n",
    "pwd"
   ]
  },
  {
   "cell_type": "code",
   "execution_count": null,
   "metadata": {},
   "outputs": [],
   "source": [
    "casOperons = load(open(\"pickles/casOperonDataStructureW%s.p\" % gene,\"rb\"))\n",
    "protID = \"NZ_LT906463.1_ORF95365\"\n",
    "protID = \"FNMX01000011_ORF6660\"\n",
    "genomicAsmName = casOperons.revMap[protID] \n",
    "protOperon = casOperons.casOperons[genomicAsmName]\n",
    "protCRISPR = protOperon.crisprs[protID]\n",
    "\n",
    "protOperon.assembly"
   ]
  },
  {
   "cell_type": "code",
   "execution_count": null,
   "metadata": {},
   "outputs": [],
   "source": [
    "files1 = set(glob.glob(\"assemblies/*.fasta\"))\n",
    "files2 = set(glob.glob(\"assemblies/*.fa\"))\n",
    "fastas,fas =set(),set()\n",
    "for f in files2: fas.add(f.replace(\".fa\",\"\"))\n",
    "for f in files1: fastas.add(f.replace(\".fasta\",\"\"))\n",
    "for f in fas.difference(fastas):\n",
    "    os.system(\"rm %s*\" % (f))"
   ]
  },
  {
   "cell_type": "code",
   "execution_count": null,
   "metadata": {},
   "outputs": [],
   "source": [
    "### Remove missing domains and length filtering\n",
    "# Domain database pfam\n",
    "# wget ftp://ftp.ebi.ac.uk/pub/databases/Pfam/releases/Pfam31.0/Pfam-A.full.gz\n",
    "dom_counter = {}\n",
    "for line in open(\"/mnt/research/germs/shane/transActRNA/data/domains/Cas9-Like-clustered.faa.domtbl\"):\n",
    "    if \"#\" in line:continue\n",
    "    rec = line.strip().split(\"    \")\n",
    "#     print rec\n",
    "#     break\n",
    "    try:dom_counter[line.strip()]+=1\n",
    "    except:dom_counter[line.strip()]=1\n",
    "dom_counter = Counter(dom_counter)"
   ]
  },
  {
   "cell_type": "code",
   "execution_count": 3,
   "metadata": {},
   "outputs": [],
   "source": [
    "from Bio.SearchIO import HmmerIO\n",
    "from Bio.SearchIO.HmmerIO import Hmmer3DomtabHmmhitParser as hmmParser"
   ]
  },
  {
   "cell_type": "code",
   "execution_count": 5,
   "metadata": {},
   "outputs": [
    {
     "name": "stdout",
     "output_type": "stream",
     "text": [
      "AACPSW010000030.1_ORF701.fasta\n",
      "alignments\n",
      "annotations\n",
      "assemblies\n",
      "blastDBs\n",
      "blastout\n",
      "Cas9SystemDetails.txt\n",
      "clusters\n",
      "conseqs0\n",
      "conseqs1\n",
      "conseqs10\n",
      "conseqs2\n",
      "conseqs3\n",
      "conseqs4\n",
      "conseqs5\n",
      "FindTracrsLog.txt\n",
      "GCA_005325615.1.hmmout\n",
      "hmm\n",
      "images\n",
      "InfernalResults.py\n",
      "LaunchStructureSearch.sh\n",
      "logs\n",
      "old\n",
      "pickles\n",
      "proteins\n",
      "__pycache__\n",
      "sequences\n",
      "tables\n",
      "test.txt\n",
      "tmp\n",
      "tracrRNA_SearchResults.txt\n",
      "tracrRNA_SearchResults.xlsx\n",
      "trees\n"
     ]
    }
   ],
   "source": [
    "%%bash\n",
    "ls"
   ]
  },
  {
   "cell_type": "code",
   "execution_count": 28,
   "metadata": {},
   "outputs": [
    {
     "name": "stdout",
     "output_type": "stream",
     "text": [
      "Program: hmmsearch (3.2.1)\n",
      "  Query: Cas9 (1039)\n",
      "         <unknown description>\n",
      " Target: sequences/orfs/GCA_005325615.1.orfs\n",
      "   Hits: ----  -----  ----------------------------------------------------------\n",
      "            #  # HSP  ID + description\n",
      "         ----  -----  ----------------------------------------------------------\n",
      "            0      2  AACPSW010000030.1_ORF701  length 991 aa, 2976 bp, from ...\n"
     ]
    }
   ],
   "source": [
    "res = HmmerIO.Hmmer3TextParser(open(\"GCA_005325615.1.hmmout\"))\n",
    "count = 0\n",
    "for val in res:\n",
    "#     print(val.split('\\n'))\n",
    "\n",
    "    print(val)\n",
    "    count+=1"
   ]
  },
  {
   "cell_type": "code",
   "execution_count": 26,
   "metadata": {},
   "outputs": [],
   "source": [
    "hit = val.hits[0]"
   ]
  },
  {
   "cell_type": "code",
   "execution_count": 27,
   "metadata": {},
   "outputs": [
    {
     "data": {
      "text/plain": [
       "Hit(id='AACPSW010000030.1_ORF701', query_id='Cas9', 2 hsps)"
      ]
     },
     "execution_count": 27,
     "metadata": {},
     "output_type": "execute_result"
    }
   ],
   "source": [
    "hit."
   ]
  },
  {
   "cell_type": "code",
   "execution_count": 14,
   "metadata": {},
   "outputs": [
    {
     "data": {
      "text/plain": [
       "['__class__',\n",
       " '__delattr__',\n",
       " '__dict__',\n",
       " '__dir__',\n",
       " '__doc__',\n",
       " '__eq__',\n",
       " '__format__',\n",
       " '__ge__',\n",
       " '__getattribute__',\n",
       " '__gt__',\n",
       " '__hash__',\n",
       " '__init__',\n",
       " '__init_subclass__',\n",
       " '__iter__',\n",
       " '__le__',\n",
       " '__lt__',\n",
       " '__module__',\n",
       " '__ne__',\n",
       " '__new__',\n",
       " '__reduce__',\n",
       " '__reduce_ex__',\n",
       " '__repr__',\n",
       " '__setattr__',\n",
       " '__sizeof__',\n",
       " '__str__',\n",
       " '__subclasshook__',\n",
       " '__weakref__',\n",
       " '_parse_qresult',\n",
       " '_parse_row',\n",
       " 'handle',\n",
       " 'line']"
      ]
     },
     "execution_count": 14,
     "metadata": {},
     "output_type": "execute_result"
    }
   ],
   "source": [
    "dir(res)"
   ]
  },
  {
   "cell_type": "code",
   "execution_count": 16,
   "metadata": {},
   "outputs": [
    {
     "data": {
      "text/plain": [
       "{'handle': <_io.TextIOWrapper name='GCA_005325615.1.hmmout' mode='r' encoding='UTF-8'>,\n",
       " 'line': '\\n'}"
      ]
     },
     "execution_count": 16,
     "metadata": {},
     "output_type": "execute_result"
    }
   ],
   "source": [
    "res.__dict__"
   ]
  },
  {
   "cell_type": "code",
   "execution_count": null,
   "metadata": {},
   "outputs": [],
   "source": [
    "hasHNH, hasRuvC= set(), set()\n",
    "for x in hmmParser(open(\"/mnt/research/germs/shane/transActRNA/data/domains/DiverseCas9s1.domtbl\")):\n",
    "    if \"HNH\" == x.id:\n",
    "        print x.id, len(x.hits)\n",
    "        for hit in x.hits: hasHNH.add(hit.id)\n",
    "    elif \"RuvC\" == x.id:\n",
    "        print x.id, len(x.hits)\n",
    "        for hit in x.hits: hasRuvC.add(hit.id)"
   ]
  },
  {
   "cell_type": "code",
   "execution_count": null,
   "metadata": {},
   "outputs": [],
   "source": [
    "#Copy unique nucleotide sequence\n",
    "from Bio.SeqIO import index\n",
    "nukSeqHash,protSeqHash = set(), set()\n",
    "alreadyGotIt,count = 0, 0\n",
    "for assembly in cas9Assemblies:\n",
    "    baseID = assembly[:-6]\n",
    "    allAssemblySeqs = index(assemblyDir+assembly,\"fasta\")\n",
    "    overlap = goodDomIDS.intersection(allAssemblySeqs.keys())\n",
    "    for recID in overlap:\n",
    "        seq = str(allAssemblySeqs[recID].seq).upper()\n",
    "        if seq in nukSeqHash and len(goodDomMap[recID]) == 1:\n",
    "            alreadyGotIt += 1\n",
    "            continue\n",
    "        nukSeqHash.add(seq)\n",
    "        #There may be more than 1 protein on the pseudochromosome, save both as separate files  \n",
    "        if len(goodDomMap[recID])>1: print(\"%i Cas9s on %s\" %(len(goodDomMap[recID]),recID))\n",
    "        for orfID in goodDomMap[recID]:\n",
    "            with open(\"assemblies/pseudoChromos/%s.fasta\" % (orfID),\"w\") as fh:\n",
    "                write(rec,fh,\"fasta\")\n",
    "                count +=1\n",
    "        if count % 1000 == 0: print(count,end=\" \")"
   ]
  },
  {
   "cell_type": "code",
   "execution_count": null,
   "metadata": {},
   "outputs": [],
   "source": [
    "print \"Number of proteins with both:\", len(hasHNH.intersection(hasRuvC))\n"
   ]
  },
  {
   "cell_type": "code",
   "execution_count": null,
   "metadata": {},
   "outputs": [],
   "source": [
    "for x in hmmParser(open(\"/mnt/research/germs/shane/CRISPR_Cas/data/domains/DiverseCas9s1.domtbl\")):\n",
    "    if \"ruvc\" in x.id.lower():\n",
    "        print x.id, len(x.hits)\n",
    "        for hit in x.hits:\n",
    "            print \"\\t\",hit.id"
   ]
  },
  {
   "cell_type": "code",
   "execution_count": null,
   "metadata": {},
   "outputs": [],
   "source": [
    "definitions, descriptors, AC = {}, set(['AC','DE']), \"\"\n",
    "important = set([\"Cas9\",\"nuclease\",\"endonuclease\", \"HNH\", \"HnH\", \"RuvC\", \"ruvc\", \"RUVC\", \"HNH/ENDO\", \"CRISPR\"])\n",
    "for line in open(\"domains/Pfam-A.full\"):\n",
    "    rec = line.strip().split()\n",
    "    if len(rec)<3 or rec[1] not in descriptors: continue\n",
    "    if rec[1] == 'AC':AC = rec[2]\n",
    "    else: definitions[AC] = \" \".join(rec[2:])\n",
    "print \"Completed Loading %i definitions\" % len(definitions)"
   ]
  },
  {
   "cell_type": "code",
   "execution_count": null,
   "metadata": {},
   "outputs": [],
   "source": [
    "hnhDomainIDs = set()\n",
    "for val in dom_counter.most_common(100):\n",
    "    id,count = val[0], val[1]\n",
    "    print \"%s\\t%i\\t%s\" % (id,count,definitions[id])\n",
    "#     if \"hnh\" in definitions[id].lower():\n",
    "#         hnhDomainIDs.add(id)\n",
    "#         print \"%s\\t%i\\t%s\" % (id,count,definitions[id])\n",
    "#     if \"ruvc\" in definitions[id].lower():\n",
    "#         print \"%s\\t%i\\t%s\" % (id,count,definitions[id])"
   ]
  },
  {
   "cell_type": "code",
   "execution_count": null,
   "metadata": {},
   "outputs": [],
   "source": [
    "def outliers(data,stdsAwayFromMean): return data[data > stdsAwayFromMean * data.std()]\n",
    "start_outliers = outliers(ruvC1Dists,2) \n",
    "len(start_outliers)\n",
    "\n",
    "from Bio.SeqIO import index\n",
    "\n",
    "cas9Like = index(\"proteins/All_%s-Like.faa\" % gene,\"fasta\")\n",
    "allLengths = {}\n",
    "for id,rec in cas9Like.items(): allLengths[id]=len(rec.seq)"
   ]
  },
  {
   "cell_type": "code",
   "execution_count": null,
   "metadata": {},
   "outputs": [],
   "source": [
    "from Bio.SeqIO import parse\n",
    "ids = set()\n",
    "for rec in parse(\"%s-Like-clustered.faa\" % gene,\"fasta\"): ids.add(rec.id[:-5])\n",
    "db_path = \"/mnt/research/germs/shane/databases/assemblies/NCBI/refseq\"\n",
    "for id in ids:\n",
    "    os.system(\"cp %s/%s assemblies/\" % (db_path,assembly_ids[id]))\n"
   ]
  },
  {
   "cell_type": "code",
   "execution_count": null,
   "metadata": {},
   "outputs": [],
   "source": [
    "import pickle\n",
    "from Bio.SeqIO import parse\n",
    "db_path = \"/mnt/research/germs/shane/databases/assemblies/NCBI/refseq\"\n",
    "files = os.listdir(db_path)\n",
    "assembly_ids = {}\n",
    "for fileName in files:\n",
    "    for rec in parse(os.path.join(db_path,fileName),\"fasta\"): assembly_ids[rec.id]=fileName\n",
    "print len(assembly_ids)\n",
    "pickle.dump(assembly_ids,open(\"/mnt/research/germs/shane/databases/assemblies/NCBI/refseq_manifest.p\",\"wb\"))"
   ]
  },
  {
   "cell_type": "markdown",
   "metadata": {},
   "source": [
    "#### Compare alignment methods"
   ]
  },
  {
   "cell_type": "code",
   "execution_count": null,
   "metadata": {},
   "outputs": [],
   "source": [
    "from Bio.SeqIO import index\n",
    "divCas9 = {} #index(geneProfile,\"fasta\")\n",
    "gapCount, baseCount = 0,0\n",
    "for rec in parse(\"alignments/Cas9.aln\",\"fasta\"): #default (more gaps less strict)\n",
    "    for base in rec.seq:\n",
    "        gapCount += int(base == \"-\")\n",
    "        baseCount += int(base != \"-\")\n",
    "    divCas9[rec.id]={'original':[gapCount,baseCount]}   \n",
    "gapCount, baseCount = 0,0\n",
    "for rec in parse(\"alignments/CCas9s.aln\",\"fasta\"): #local (Less gaps more strict)\n",
    "    for base in rec.seq:\n",
    "        gapCount += int(base == \"-\")\n",
    "        baseCount += int(base != \"-\")\n",
    "    divCas9[rec.id][\"local\"] = [gapCount,baseCount]\n",
    "    \n",
    "for id in divCas9:\n",
    "    print(\"%i/%i\\t%i/%i\\t%s\" % (divCas9[id][\"local\"][1],divCas9[id][\"original\"][1],divCas9[id][\"local\"][0],divCas9[id][\"original\"][0],id))\n",
    "    "
   ]
  },
  {
   "cell_type": "code",
   "execution_count": null,
   "metadata": {},
   "outputs": [],
   "source": [
    "from Bio.SeqIO import parse\n",
    "import os\n",
    "import pickle\n",
    "print \"Loading ncbi IDs\"\n",
    "assembly_ids = pickle.load(open(\"/mnt/research/germs/shane/databases/assemblies/NCBI/refseq_manifest.p\",\"rb\"))\n",
    "print \"Loading patric2 IDs\"\n",
    "notInNCBI, ids,fullID = [], [], {}\n",
    "for rec in parse(\"%s-Like-clustered.faa\" % gene,\"fasta\"): \n",
    "    fullID[rec.id[:-5]] = rec.id\n",
    "    ids.append(rec.id[:-5])\n",
    "for id in ids:\n",
    "    if id not in assembly_ids:\n",
    "        notInNCBI.append(id)\n",
    "        continue\n",
    "    os.system(\"cp /mnt/research/germs/shane/databases/assemblies/NCBI/refseq/%s /mnt/research/germs/shane/CRISPR_Cas/data/assemblies/%s.fasta\" % (assembly_ids[id],fullID[id]))\n",
    "    print id,assembly_ids[id]\n"
   ]
  },
  {
   "cell_type": "code",
   "execution_count": null,
   "metadata": {},
   "outputs": [],
   "source": [
    "print \"Loading PATRIC IDs\"\n",
    "assembly_ids = pickle.load(open(\"/mnt/research/germs/shane/databases/assemblies/PATRIC2/pat2_manifest.p\",\"rb\"))\n",
    "print \"Copying Files\"\n",
    "for id in notInNCBI:\n",
    "    os.system(\"cp /mnt/research/germs/shane/databases/assemblies/PATRIC2/fastas/%s /mnt/research/germs/shane/CRISPR_Cas/data/assemblies/%s.fasta\" % (assembly_ids[id],fullID[id]))\n",
    "    print id,assembly_ids[id]"
   ]
  },
  {
   "cell_type": "code",
   "execution_count": null,
   "metadata": {},
   "outputs": [],
   "source": [
    "#assembly_ids = pickle.load(open(\"/mnt/research/germs/shane/databases/assemblies/NCBI/refseq_manifest.p\",\"rb\"))\n",
    "#assembly_ids = pickle.load(open(\"/mnt/research/germs/shane/databases/assemblies/PATRIC2/pat2_manifest.p\",\"rb\"))\n",
    "files = os.listdir(\"assemblies\")\n",
    "ids = set()\n",
    "for fileName in files:ids.add(fileName.replace(\".fasta\",\"\"))\n",
    "for rec in parse(\"%s-Like-clustered.faa\" % gene,\"fasta\"): \n",
    "    if rec.id not in ids:\n",
    "        print rec.id,assembly_ids[rec.id[:-5]]"
   ]
  },
  {
   "cell_type": "code",
   "execution_count": null,
   "metadata": {},
   "outputs": [],
   "source": [
    "# Teasing out on the same chr but uniq vs duplication event (ie found orfs)\n",
    "from Bio.SeqIO import index as fasta_index\n",
    "seqs = fasta_index(\"proteins/All_%s-Like.faa\" % (gene),\"fasta\")\n",
    "prots = {}\n",
    "print(len(remove))\n",
    "for orfID in remove: \n",
    "    seq = str(seqs[orfID].seq) \n",
    "    try: prots[seq].add(orfID)\n",
    "    except: prots[seq] = set([orfID])\n",
    "print(len(prots))"
   ]
  },
  {
   "cell_type": "code",
   "execution_count": null,
   "metadata": {},
   "outputs": [],
   "source": [
    "%%bash\n",
    "cd scripts\n",
    "bash pilercrRun.sh &\n",
    "bash pilercrRunFW.sh"
   ]
  },
  {
   "cell_type": "code",
   "execution_count": null,
   "metadata": {},
   "outputs": [],
   "source": [
    "from ete3 import Tree, TreeStyle\n",
    "# casTree=Tree(\"Cas9-Like-clustered.faa.tree\")\n",
    "# ts = TreeStyle()\n",
    "# ts.mode = \"c\"\n",
    "# ts.show_leaf_name = False\n",
    "# casTree.render(\"Cas9.png\",tree_style=ts)\n",
    "#t.write(format=1, outfile=\"new_tree.nw\")"
   ]
  },
  {
   "cell_type": "code",
   "execution_count": null,
   "metadata": {},
   "outputs": [],
   "source": [
    "from ete3 import Tree, TreeStyle\n",
    "rooted_tree = Tree( \"((A,B),(C,D));\" )\n",
    "ts = TreeStyle()\n",
    "ts.mode = \"c\"\n",
    "rooted_tree.render(\"%%inline\",tree_style=ts)"
   ]
  },
  {
   "cell_type": "code",
   "execution_count": null,
   "metadata": {},
   "outputs": [],
   "source": [
    "from pandas import DataFrame, read_csv, Series\n",
    "outfmt6_cols = [\"qseqid\",\"sseqid\",\"pident\",\"length\",\"mismatch\",\"gapopen\",\"qstart\",\"qend\",\"sstart\",\"send\",\"evalue\",\"bitscore\"]\n",
    "blastResults = read_csv(\"data/DiverseCompare.blastout\",delimiter='\\t', names=outfmt6_cols) \n",
    "len(blastResults)\n",
    "blastResults\n",
    "len(blastResults[blastResults.pident>90])"
   ]
  },
  {
   "cell_type": "code",
   "execution_count": null,
   "metadata": {},
   "outputs": [],
   "source": [
    "len(blastResults[blastResults.pident>98])"
   ]
  },
  {
   "cell_type": "markdown",
   "metadata": {},
   "source": [
    "#### Move large number of hmm files to an old run dir"
   ]
  },
  {
   "cell_type": "code",
   "execution_count": null,
   "metadata": {},
   "outputs": [],
   "source": [
    "from os import system\n",
    "files = os.listdir(\"hmm/results\")\n",
    "print(len(files))\n",
    "for fname in files:\n",
    "    mv_CMD = \"mv hmm/results/%s hmm/results/oldRuns/\"\n",
    "    if fname[-4:] == \"orfs\": system(\"rm hmm/results/\"+fname)\n",
    "    elif (fname[-4:] == \".out\"): system(mv_CMD % (fname))\n",
    "    else:\n",
    "        print(fname)"
   ]
  },
  {
   "cell_type": "code",
   "execution_count": null,
   "metadata": {},
   "outputs": [],
   "source": [
    "%%bash\n",
    "ls"
   ]
  },
  {
   "cell_type": "code",
   "execution_count": null,
   "metadata": {},
   "outputs": [],
   "source": [
    "    if len(proteins.proteins) == 0:\n",
    "        proteins.__get_proteins__(hmmResultsDir+baseID+\".hmmout\")\n",
    "        nncount += 1\n",
    "    if len(proteins.proteins) == 0:\n",
    "        fh.write(getOrfsCMD % (assembliesWCrisprs[baseID],hmmResultsDir, baseID) + \"\\n\")\n",
    "        count+=1\n",
    "        if count % 50 == 0:\n",
    "            fh.close()\n",
    "            fh = open(\"../scripts/hpc/hmmSearch/HMMSearch_%i.sb\" % (fileCounter),\"w\")\n",
    "            fileCounter += 1\n",
    "            fh.write(header)\n",
    "            \n",
    "print(count,fileCounter,nncount)\n",
    "fh.close()"
   ]
  },
  {
   "cell_type": "code",
   "execution_count": null,
   "metadata": {},
   "outputs": [],
   "source": [
    "hits = load(open(\"pickles/%s_HMM_DOMAIN_Search_Results.p\" % (gene),\"rb\"))\n",
    "\n",
    "for id in ['NZ_ATLK01000001.1', 'JDTS01000001','SEHM01000008.1', 'NZ_BBNY01000081.1', 'NZ_BBNR01000042.1',\n",
    "           'LOLQ01000035.1', 'NZ_KQ973595.1', 'FJCJ01000024.1', 'NZ_CP017601.1', 'NZ_QFKO01000012.1','ANHY01000014.1']:\n",
    "    for key in hits.samples.keys():\n",
    "        if id in key:  print (key, end=\"','\")\n",
    "\n",
    "for domName, dHit in hits.samples['ANHY01000014.1_ORF1375'].items():\n",
    "    print(domName,dHit.start,dHit.dend)\n",
    "\n",
    "Bifidobacterium_bombi {'NZ_ATLK01000001.1', 'JDTS01000001'}\n",
    "JejTia_pallidilutea {'SEHM01000008.1', 'NZ_BBNY01000081.1', 'NZ_BBNR01000042.1'}\n",
    "\n",
    "print(\"\\t\".join(['stds','numRemoved','meanLen','InHits','ANHY01000014.1_ORF1375']))\n",
    "for i in range(2,10):\n",
    "    newset = ruvC1Dists[ruvC1Dists > ruvC1Dists.mean()+i*ruvC1Dists.std()].index\n",
    "    print(\"\\t\".join([str(i),str(len(newset)), \"%.2f\" % (ruvC1Dists.mean()+i*ruvC1Dists.std()), str('ANHY01000014.1_ORF1375' in newset), str('JDTS01000001_ORF24522' in hasAllDomains)]))\n",
    "\n",
    "print(\"\\t\".join(['stds','numRemoved','meanLen','InHits','ANHY01000014.1_ORF1375']))\n",
    "for i in range(0,10): \n",
    "    newset = set(ruvC3Dists[ruvC3Dists > ruvC3Dists.mean()+i*ruvC3Dists.std()].index)\n",
    "    print(\"\\t\".join([str(i),str(len(newset)), \"%.2f\" % (ruvC3Dists.mean()+i*ruvC3Dists.std()), str('ANHY01000014.1_ORF1375' in newset), str('JDTS01000001_ORF24522' in hasAllDomains)]))\n",
    "    \n",
    "\n",
    "ruvC3Dists.describe()\n",
    "\n",
    "inBadDomains = set()\n",
    "for id in ['NZ_ATLK01000001.1_ORF30490','JDTS01000001_ORF24522','SEHM01000008.1_ORF5944','NZ_BBNY01000081.1_ORF323','NZ_BBNR01000042.1_ORF248','LOLQ01000035.1_ORF225','NZ_KQ973595.1_ORF2960','FJCJ01000024.1_ORF1896','NZ_CP017601.1_ORF13118','NZ_QFKO01000012.1_ORF2328','ANHY01000014.1_ORF1375']:\n",
    "    if (id in noRuvC1 or id in noRuvC2 or id in noRuvC3 or id in noHNH): inBadDomains.add(id)\n",
    "    print(id,id in noRuvC1, id in noRuvC2, id in noRuvC3, id in noHNH, id in start_outliers, id in end_outliers) #   = allSamples.difference(hits[\"HNH_Cas\"])\n",
    "inBadDomains"
   ]
  }
 ],
 "metadata": {
  "kernelspec": {
   "display_name": "Python 3",
   "language": "python",
   "name": "python3"
  },
  "language_info": {
   "codemirror_mode": {
    "name": "ipython",
    "version": 3
   },
   "file_extension": ".py",
   "mimetype": "text/x-python",
   "name": "python",
   "nbconvert_exporter": "python",
   "pygments_lexer": "ipython3",
   "version": "3.6.7"
  }
 },
 "nbformat": 4,
 "nbformat_minor": 2
}
