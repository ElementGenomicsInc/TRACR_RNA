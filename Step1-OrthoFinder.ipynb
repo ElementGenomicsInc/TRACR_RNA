{
 "cells": [
  {
   "cell_type": "markdown",
   "metadata": {},
   "source": [
    "# Ortholog Finding\n",
    "#### This module was originally created for cas9 but could extended to any protein.\n",
    "\n",
    "## Step 1: Profile the Protein\n",
    "    1. Mean, max, min length of already known orthologs\n",
    "## Step 2: HMM Seach\n",
    "    1. Align orthologs\n",
    "    2. build hmm profile\n",
    "    3. hmm search against a database\n",
    "## Step 3: Profile Results\n",
    "    1. Read hmm results\n",
    "    2. cluster results by percent identity\n",
    "    3. remove proteins without required domains\n"
   ]
  },
  {
   "cell_type": "markdown",
   "metadata": {},
   "source": [
    "### Env"
   ]
  },
  {
   "cell_type": "markdown",
   "metadata": {},
   "source": [
    "<p>\n",
    "conda create --name casenv <br/>\n",
    "conda install -n casenv libgcc hmmer mafft biopython <br/>\n",
    "source activate casenv\n",
    "</p>"
   ]
  },
  {
   "cell_type": "code",
   "execution_count": 1,
   "metadata": {},
   "outputs": [],
   "source": [
    "%matplotlib inline\n",
    "import re\n",
    "from sys import path as spath\n",
    "spath.append(\"scripts/\")\n",
    "\n",
    "from Bio.SeqIO import write, parse\n",
    "from collections import Counter\n",
    "from CRISPRtools import CasOperon\n",
    "from easyFunctions import *\n",
    "from HMMParser import *\n",
    "from IPython.display import display, HTML\n",
    "from matplotlib import pyplot as plt\n",
    "from os import chdir, listdir\n",
    "from pandas import Series\n",
    "from pickle import load #Dump has been wrapped aournd a function from easyFunctions\n",
    "\n",
    "chdir(\"data\")"
   ]
  },
  {
   "cell_type": "markdown",
   "metadata": {},
   "source": [
    "### Gene Orthologs Fasta File"
   ]
  },
  {
   "cell_type": "code",
   "execution_count": 2,
   "metadata": {},
   "outputs": [],
   "source": [
    "gene = \"Cas9\"\n",
    "geneProfile = \"proteins/DiverseCas9s.faa\" #File containing the seed proteins for the hmmsearch\n",
    "geneFile = \"proteins/%s.faa\" % gene\n",
    "alnName  = \"alignments/%s.aln\" % gene\n",
    "hmmName  = \"hmm/%s.hmm\" % gene\n",
    "hmmResultsDir = \"hmm/results\"\n",
    "baseDbsDir = \"/mnt/research/germs/shane/databases/assemblies/\"\n",
    "refDatabases = [\"NCBI/refseq/bacteria\",\"NCBI/refseq/archaea\",\"NCBI/genbank/bacteria\",\"NCBI/genbank/archaea\",\"PATRIC2/fastas\"]"
   ]
  },
  {
   "cell_type": "markdown",
   "metadata": {},
   "source": [
    "### Profile the gene"
   ]
  },
  {
   "cell_type": "code",
   "execution_count": 3,
   "metadata": {},
   "outputs": [
    {
     "name": "stdout",
     "output_type": "stream",
     "text": [
      "count      84.000000\n",
      "mean     1243.547619\n",
      "std       160.535955\n",
      "min       984.000000\n",
      "25%      1099.750000\n",
      "50%      1207.500000\n",
      "75%      1376.500000\n",
      "max      1688.000000\n",
      "dtype: float64\n",
      "Finding proteins that match the protein profile and are between 673 and 1998\n"
     ]
    }
   ],
   "source": [
    "dists = []\n",
    "for rec in parse(geneProfile,\"fasta\"):dists.append(len(rec.seq))\n",
    "dists = Series(dists)\n",
    "minSeqLen = int(dists.min() - (dists.mean() * .25))\n",
    "maxSeqLen = int(dists.max() + (dists.mean() * .25))\n",
    "print (dists.describe());\n",
    "print (\"Finding proteins that match the protein profile and are between %i and %i\" % (minSeqLen, maxSeqLen))"
   ]
  },
  {
   "cell_type": "code",
   "execution_count": 4,
   "metadata": {},
   "outputs": [
    {
     "data": {
      "image/png": "[encoded data removed]",
      "text/plain": [
       "<Figure size 432x288 with 1 Axes>"
      ]
     },
     "metadata": {
      "needs_background": "light"
     },
     "output_type": "display_data"
    }
   ],
   "source": [
    "import matplotlib.pyplot as plt\n",
    "dists.plot(kind='hist',grid=True,title=\"Diverse Cas9 Length Distribution\",figsize=(6,4))\n",
    "plt.savefig(\"images/DiverseCas9Lengths.png\")\n",
    "plt.show()"
   ]
  },
  {
   "cell_type": "markdown",
   "metadata": {},
   "source": [
    "### Make HMM"
   ]
  },
  {
   "cell_type": "code",
   "execution_count": null,
   "metadata": {},
   "outputs": [],
   "source": [
    "%%bash -s $geneProfile $alnName $hmmName\n",
    "mafft --thread 15 --maxiterate 1000 --retree 100 --localpair --globalpair --reorder --treeout $1 > $2 #Assuming there are <200 sequences in the profile\n",
    "hmmbuild $3 $2 2>&1"
   ]
  },
  {
   "cell_type": "markdown",
   "metadata": {},
   "source": [
    "### Build hpc scripts for all assemblies with a CRISPR"
   ]
  },
  {
   "cell_type": "code",
   "execution_count": 12,
   "metadata": {},
   "outputs": [
    {
     "name": "stdout",
     "output_type": "stream",
     "text": [
      "There are 410307 CRISPR related assemblies\n",
      "There are 411 files for 410288 assemblies with 0 that don't seem to have a crispr?\n"
     ]
    }
   ],
   "source": [
    "assembliesWCrisprs = load(open(\"pickles/allAssemblyW_CRISPRs.p\",\"rb\")) #From ProcessCRISPRs.ipynb\n",
    "print(\"There are %i CRISPR related assemblies\" % (len(assembliesWCrisprs)))\n",
    "fh = open(\"../scripts/hpc/hmmSearch/HMMSearch_0.sb\",\"w\")\n",
    "header = \"\"\n",
    "for line in open(\"../scripts/hpc/header.sb\"): header+=line\n",
    "fh.write(header)\n",
    "cmdCount, fileCounter = 0,1\n",
    "getOrfsCMD = \"python /mnt/research/germs/shane/transActRNA/scripts/GetOrfs.py %s sequences/orfs/%s.orfs 673 >/dev/null\"\n",
    "hmmSearchCMD = \"hmmsearch hmm/%s.hmm sequences/orfs/%s.orfs >%s/%s.hmmout\"\n",
    "rmORFsCMD = \"rm sequences/orfs/%s.orfs\"\n",
    "\n",
    "for asmName, operon in assembliesWCrisprs.items():\n",
    "    asmFilePath = operon.assembly\n",
    "    if path.exists(\"%s/%s.hmmout\" % (hmmResultsDir,asmName)): continue\n",
    "    cmdCount += 1\n",
    "    fh.write(\"if [ ! -f %s/%s.hmmout ]; then\\n\" % (hmmResultsDir,asmName)) #Check to see if the hmm profile already exists\n",
    "    fh.write(\"\\t\"+getOrfsCMD % (asmFilePath,asmName) + \"\\n\")\n",
    "    fh.write(\"\\t\"+hmmSearchCMD % (gene,asmName,hmmResultsDir,asmName)+\"\\n\")\n",
    "    fh.write(\"\\thmmsize=$(wc -l <\\\"%s/%s.hmmout\\\") \\n\" % (hmmResultsDir,asmName))\n",
    "    fh.write(\"\\tif [ $hmmsize -le 40 ]; then \\n\")\n",
    "    fh.write(\"\\t\\trm sequences/orfs/%s.orfs \\n\" % (asmName))\n",
    "    fh.write(\"\\tfi\\n\")\n",
    "    fh.write(\"fi\\n\\n\")\n",
    "    if cmdCount % 500 == 0:\n",
    "        fh.close()\n",
    "        fh = open(\"../scripts/hpc/hmmSearch/HMMSearch_%i.sb\" % (fileCounter),\"w\")\n",
    "        fh.write(header)\n",
    "        fileCounter += 1\n",
    "fh.close()\n",
    "print(\"There are %i files for %i assemblies with %i that don't seem to have a crispr?\" % (fileCounter,cmdCount,len(hmmFiles)))\n",
    "\n",
    "#     fh.write(\"\\t\\t\"+getOrfsCMD % (asmFilePath,asmName) + \"\\n\")\n",
    "#     fh.write(\"\\tfi\\n\")\n",
    "#         if \"%s.hmmout\" % (asmName) in hmmFiles: hmmFiles.remove(\"%s.hmmout\" % (asmName)); continue\n",
    "#     if path.exists(\"sequences/orfs/%s.orfs\" % (asmName)): continue\n",
    "#hmmFiles = set(listdir(hmmResultsDir))\n"
   ]
  },
  {
   "cell_type": "markdown",
   "metadata": {},
   "source": [
    "### Do HMM search on each assembly"
   ]
  },
  {
   "cell_type": "code",
   "execution_count": null,
   "metadata": {},
   "outputs": [],
   "source": [
    "%%bash \n",
    "bash ../scripts/hpc/launchHMMSearch.sh"
   ]
  },
  {
   "cell_type": "markdown",
   "metadata": {},
   "source": [
    "### Read the HMM Results and create fasta file"
   ]
  },
  {
   "cell_type": "code",
   "execution_count": 1,
   "metadata": {},
   "outputs": [
    {
     "name": "stdout",
     "output_type": "stream",
     "text": [
      "Processing 410307 hmm files\n",
      "\t4% of the way through\n",
      "\t9% of the way through\n",
      "\t14% of the way through\n",
      "\t19% of the way through\n",
      "\t24% of the way through\n",
      "\t29% of the way through\n",
      "\t34% of the way through\n",
      "Duplicate ID: MJTE01000011_ORF5338\t1639.1922\t1639.2204\n",
      "Duplicate ID: CP022354_ORF70540\t1314.517\t1314.497\n",
      "Duplicate ID: CP009313_ORF146949\t40318.3\t40318.5\n",
      "\t39% of the way through\n",
      "\t44% of the way through\n",
      "Duplicate ID: ONBZ01000028_ORF832\t194843.133\t194843.128\n",
      "\t49% of the way through\n",
      "Duplicate ID: CP013242_ORF237869\t1491.733\t1491.736\n",
      "Failed at index 108 for file /mnt/research/germs/shane/databases/crisprs/pilerCR/genbank/GCA_900318505.1.pcrout\n",
      "\t54% of the way through\n",
      "Duplicate ID: FP929042_ORF50784\t657318.12\t657318.4\n",
      "Duplicate ID: FP929042_ORF50924\t657318.12\t657318.4\n",
      "Duplicate ID: NDFM01000003_ORF9579\t1979525.3\t1979525.4\n",
      "Duplicate ID: CYZL01000015_ORF1399\t39488.13\t39488.3\n",
      "\t59% of the way through\n",
      "Duplicate ID: AZMJ01000541_ORF337\t1403949.3\t1403949.9\n",
      "Duplicate ID: CP016453_ORF22339\t1843368.3\t1843368.4\n",
      "\t64% of the way through\n",
      "Duplicate ID: CM001794_ORF28610\t999431.4\t999431.3\n",
      "Duplicate ID: CZBY01000016_ORF3455\t39492.8\t39492.7\n",
      "Duplicate ID: CP017037_ORF69995\t39950.5\t39950.4\n",
      "Duplicate ID: JQNS01000007_ORF24099\t39770.3\t39770.6\n",
      "\t69% of the way through\n",
      "Duplicate ID: NBVL01000020_ORF4909\t47715.311\t47715.314\n",
      "Duplicate ID: MPND01000023_ORF2274\t1916132.4\t1916132.3\n",
      "Duplicate ID: CP020346_ORF4545\t44283.70\t44283.68\n",
      "Duplicate ID: NZ_CP015285.1_ORF20255\tGCF_001639105.1\tGCF_001639105.2\n",
      "\t74% of the way through\n",
      "Duplicate ID: NZ_CP013149.1_ORF7073\tGCF_001880185.2\tGCF_001880185.1\n",
      "Duplicate ID: FO681347_ORF20915\t1318466.4\t1318466.3\n",
      "Duplicate ID: CP014527_ORF6518\t1549855.3\t1549855.6\n",
      "Duplicate ID: NBYO01000001_ORF28681\t1876515.4\t1876515.3\n",
      "Duplicate ID: CP022559_ORF98270\t197.11723\t197.11727\n",
      "Duplicate ID: FLZS01000002_ORF82891\t59310.22\t59310.13\n",
      "\t79% of the way through\n",
      "Duplicate ID: CP022206_ORF70540\t1314.496\t1314.518\n",
      "Duplicate ID: CM001861_ORF134995\t1312920.4\t1312920.5\n",
      "Duplicate ID: CP022527_ORF56549\t655307.3\t655307.4\n",
      "\t84% of the way through\n",
      "Duplicate ID: CYYA01000001_ORF8707\t39490.4\t39490.3\n",
      "\t89% of the way through\n",
      "Duplicate ID: MPMZ01000007_ORF559\t1916149.3\t1916149.4\n",
      "Duplicate ID: CP003239_ORF14802\t1110502.7\t1110502.3\n",
      "Duplicate ID: NZ_AP018335.1_ORF68683\tGCF_002370195.2\tGCF_002370195.1\n",
      "\t94% of the way through\n",
      "Duplicate ID: FUZS01000004_ORF3555\t39498.4\t39498.3\n",
      "\t99% of the way through\n",
      "Saving progress for 410307 crisprs from 1459125 assemblies\n",
      "Saving progress for 46408 Cas Operons\n",
      "Saving progress for 410307 crisprs from 1459125 assemblies\n",
      "Saving progress for 46408 Cas Operons\n"
     ]
    },
    {
     "ename": "NameError",
     "evalue": "name 'dump' is not defined",
     "output_type": "error",
     "traceback": [
      "\u001b[0;31m---------------------------------------------------------------------------\u001b[0m",
      "\u001b[0;31mNameError\u001b[0m                                 Traceback (most recent call last)",
      "\u001b[0;32m<ipython-input-1-a0b28a69144c>\u001b[0m in \u001b[0;36m<module>\u001b[0;34m\u001b[0m\n\u001b[1;32m     10\u001b[0m \u001b[0mcasOperons\u001b[0m\u001b[0;34m.\u001b[0m\u001b[0mhasCas9\u001b[0m\u001b[0;34m(\u001b[0m\u001b[0mhmmResultsDir\u001b[0m\u001b[0;34m+\u001b[0m\u001b[0;34m\"/\"\u001b[0m\u001b[0;34m)\u001b[0m\u001b[0;34m\u001b[0m\u001b[0;34m\u001b[0m\u001b[0m\n\u001b[1;32m     11\u001b[0m \u001b[0mcasOperons\u001b[0m\u001b[0;34m.\u001b[0m\u001b[0msaveProgress\u001b[0m\u001b[0;34m(\u001b[0m\u001b[0;34m)\u001b[0m\u001b[0;34m\u001b[0m\u001b[0;34m\u001b[0m\u001b[0m\n\u001b[0;32m---> 12\u001b[0;31m \u001b[0mdump\u001b[0m\u001b[0;34m(\u001b[0m\u001b[0mcasOperons\u001b[0m\u001b[0;34m,\u001b[0m \u001b[0mopen\u001b[0m\u001b[0;34m(\u001b[0m\u001b[0;34m\"pickles/casOperonDataStructureW%s.p\"\u001b[0m \u001b[0;34m%\u001b[0m \u001b[0mgene\u001b[0m \u001b[0;34m,\u001b[0m\u001b[0;34m\"wb\"\u001b[0m\u001b[0;34m)\u001b[0m\u001b[0;34m)\u001b[0m\u001b[0;34m\u001b[0m\u001b[0;34m\u001b[0m\u001b[0m\n\u001b[0m",
      "\u001b[0;31mNameError\u001b[0m: name 'dump' is not defined"
     ]
    }
   ],
   "source": [
    "casOperons = load(open(\"pickles/casOperonDataStructure.p\",\"rb\")) #all this has is the crisprs\n",
    "casOperons.hasCas9(hmmResultsDir+\"/\")\n",
    "casOperons.saveProgress()\n",
    "dump(casOperons, \"pickles/casOperonDataStructureW%s.p\" % gene)"
   ]
  },
  {
   "cell_type": "code",
   "execution_count": 4,
   "metadata": {},
   "outputs": [
    {
     "ename": "FileNotFoundError",
     "evalue": "[Errno 2] No such file or directory: 'pickles/Cas9_uniqSeqMap.p'",
     "output_type": "error",
     "traceback": [
      "\u001b[0;31m---------------------------------------------------------------------------\u001b[0m",
      "\u001b[0;31mFileNotFoundError\u001b[0m                         Traceback (most recent call last)",
      "\u001b[0;32m<ipython-input-4-c16e475356e3>\u001b[0m in \u001b[0;36m<module>\u001b[0;34m\u001b[0m\n\u001b[1;32m      1\u001b[0m \u001b[0mallCasAsmFile\u001b[0m \u001b[0;34m=\u001b[0m \u001b[0;34m\"assemblies/All_%s_Representative_Assemblies.fasta\"\u001b[0m \u001b[0;34m%\u001b[0m \u001b[0;34m(\u001b[0m\u001b[0mgene\u001b[0m\u001b[0;34m)\u001b[0m\u001b[0;34m\u001b[0m\u001b[0;34m\u001b[0m\u001b[0m\n\u001b[1;32m      2\u001b[0m \u001b[0mallCasAAsFile\u001b[0m \u001b[0;34m=\u001b[0m \u001b[0;34m\"proteins/All_%s-Like.faa\"\u001b[0m \u001b[0;34m%\u001b[0m \u001b[0mgene\u001b[0m\u001b[0;34m\u001b[0m\u001b[0;34m\u001b[0m\u001b[0m\n\u001b[0;32m----> 3\u001b[0;31m \u001b[0mcasOperons\u001b[0m\u001b[0;34m.\u001b[0m\u001b[0muniqueNukeSeqs\u001b[0m\u001b[0;34m(\u001b[0m\u001b[0mallCasAsmFile\u001b[0m\u001b[0;34m,\u001b[0m\u001b[0mallCasAAsFile\u001b[0m\u001b[0;34m,\u001b[0m\u001b[0mgene\u001b[0m\u001b[0;34m)\u001b[0m\u001b[0;34m\u001b[0m\u001b[0;34m\u001b[0m\u001b[0m\n\u001b[0m\u001b[1;32m      4\u001b[0m \u001b[0mprint\u001b[0m\u001b[0;34m(\u001b[0m\u001b[0;34m\"There are %i unique chromosomes\"\u001b[0m \u001b[0;34m%\u001b[0m \u001b[0mlen\u001b[0m\u001b[0;34m(\u001b[0m\u001b[0mcasOperons\u001b[0m\u001b[0;34m.\u001b[0m\u001b[0muniqNukSeqs\u001b[0m\u001b[0;34m)\u001b[0m\u001b[0;34m)\u001b[0m\u001b[0;34m\u001b[0m\u001b[0;34m\u001b[0m\u001b[0m\n",
      "\u001b[0;32m/mnt/research/germs/shane/transActRNA/scripts/CRISPRtools.py\u001b[0m in \u001b[0;36muniqueNukeSeqs\u001b[0;34m(self, allCasAssembliesFile, allCasAminoAcidsFile, gene)\u001b[0m\n\u001b[1;32m    698\u001b[0m                     \u001b[0;32mtry\u001b[0m\u001b[0;34m:\u001b[0m \u001b[0mself\u001b[0m\u001b[0;34m.\u001b[0m\u001b[0muniqNukSeqs\u001b[0m\u001b[0;34m[\u001b[0m\u001b[0mchrSeqHash\u001b[0m\u001b[0;34m]\u001b[0m\u001b[0;34m.\u001b[0m\u001b[0madd\u001b[0m\u001b[0;34m(\u001b[0m\u001b[0mchrName\u001b[0m\u001b[0;34m)\u001b[0m\u001b[0;34m\u001b[0m\u001b[0;34m\u001b[0m\u001b[0m\n\u001b[1;32m    699\u001b[0m                     \u001b[0;32mexcept\u001b[0m\u001b[0;34m:\u001b[0m \u001b[0mself\u001b[0m\u001b[0;34m.\u001b[0m\u001b[0muniqNukSeqs\u001b[0m\u001b[0;34m[\u001b[0m\u001b[0mchrSeqHash\u001b[0m\u001b[0;34m]\u001b[0m \u001b[0;34m=\u001b[0m \u001b[0mset\u001b[0m\u001b[0;34m(\u001b[0m\u001b[0;34m[\u001b[0m\u001b[0mchrName\u001b[0m\u001b[0;34m]\u001b[0m\u001b[0;34m)\u001b[0m\u001b[0;34m\u001b[0m\u001b[0;34m\u001b[0m\u001b[0m\n\u001b[0;32m--> 700\u001b[0;31m                     \u001b[0;32mfor\u001b[0m \u001b[0mprotID\u001b[0m \u001b[0;32min\u001b[0m \u001b[0mprotIDs\u001b[0m\u001b[0;34m:\u001b[0m \u001b[0mwrite\u001b[0m\u001b[0;34m(\u001b[0m\u001b[0moperon\u001b[0m\u001b[0;34m.\u001b[0m\u001b[0mprots\u001b[0m\u001b[0;34m[\u001b[0m\u001b[0mprotID\u001b[0m\u001b[0;34m]\u001b[0m\u001b[0;34m,\u001b[0m\u001b[0mallAASeqs\u001b[0m\u001b[0;34m,\u001b[0m\u001b[0;34m\"fasta\"\u001b[0m\u001b[0;34m)\u001b[0m\u001b[0;34m\u001b[0m\u001b[0;34m\u001b[0m\u001b[0m\n\u001b[0m\u001b[1;32m    701\u001b[0m                 \u001b[0;32melse\u001b[0m\u001b[0;34m:\u001b[0m \u001b[0mself\u001b[0m\u001b[0;34m.\u001b[0m\u001b[0muniqNukSeqs\u001b[0m\u001b[0;34m[\u001b[0m\u001b[0mchrSeqHash\u001b[0m\u001b[0;34m]\u001b[0m\u001b[0;34m.\u001b[0m\u001b[0madd\u001b[0m\u001b[0;34m(\u001b[0m\u001b[0mchrName\u001b[0m\u001b[0;34m)\u001b[0m\u001b[0;34m\u001b[0m\u001b[0;34m\u001b[0m\u001b[0m\n\u001b[1;32m    702\u001b[0m         \u001b[0;31m#allCasSeqs.close()\u001b[0m\u001b[0;34m\u001b[0m\u001b[0;34m\u001b[0m\u001b[0;34m\u001b[0m\u001b[0m\n",
      "\u001b[0;31mFileNotFoundError\u001b[0m: [Errno 2] No such file or directory: 'pickles/Cas9_uniqSeqMap.p'"
     ]
    }
   ],
   "source": [
    "allCasAsmFile = \"assemblies/All_%s_Representative_Assemblies.fasta\" % (gene)\n",
    "allCasAAsFile = \"proteins/All_%s-Like.faa\" % (gene)\n",
    "casOperons.uniqueNukeSeqs(allCasAsmFile,allCasAAsFile,gene)\n",
    "print(\"There are %i unique chromosomes\" % len(casOperons.uniqNukSeqs))\n",
    "dump(casOperons, \"pickles/casOperonDataStructureW%s.p\" % gene) "
   ]
  },
  {
   "cell_type": "code",
   "execution_count": null,
   "metadata": {},
   "outputs": [],
   "source": [
    "dump(casOperons, \"pickles/casOperonDataStructureW%s.p\" % gene) "
   ]
  },
  {
   "cell_type": "markdown",
   "metadata": {},
   "source": [
    "### Profile the Amino Acid results    "
   ]
  },
  {
   "cell_type": "code",
   "execution_count": null,
   "metadata": {},
   "outputs": [],
   "source": [
    "dist = []\n",
    "for rec in parse(\"proteins/All_%s-Like.faa\" % gene,\"fasta\"): dist.append(len(rec.seq))\n",
    "dist = Series(dist)\n",
    "plt.title(\"Lengths of Unique Sequences matching the %s HMM\" % gene)\n",
    "plt.xlabel(\"Amino Acid Lengths\")\n",
    "plt.ylabel(\"Frequency Count\")\n",
    "hist = dist.hist(grid=True,figsize=(6,4))\n",
    "print (\"Total number of diverse proteins:\", len(dist))\n",
    "plt.savefig(\"images/Unique%sLengths.png\" %(gene))\n",
    "plt.show()"
   ]
  },
  {
   "cell_type": "markdown",
   "metadata": {},
   "source": [
    "### Profile the domains"
   ]
  },
  {
   "cell_type": "code",
   "execution_count": 4,
   "metadata": {},
   "outputs": [
    {
     "name": "stdout",
     "output_type": "stream",
     "text": [
      "Submitted batch job 21348159\n"
     ]
    }
   ],
   "source": [
    "%%bash\n",
    "sbatch ../scripts/hpc/DomainSearch.sb"
   ]
  },
  {
   "cell_type": "code",
   "execution_count": null,
   "metadata": {},
   "outputs": [],
   "source": [
    "spacePat = re.compile( r'^[\\t ]*$')\n",
    "hits=SamplesDict()\n",
    "print(\"Reading Table Definitions\")\n",
    "for line in open(\"hmm/Cas9-Like_phi.faa.domtbl\"):\n",
    "    if line.startswith( '#' ):continue\n",
    "    fields = re.split( r'(\\[[^\\[]*[^\\S]+[^\\]]*\\]|[^\\t ]+)', line.strip() )\n",
    "    fields = DomainHit(list(filter(lambda i: not spacePat.search(i), fields)))\n",
    "    hits[fields.hit]=fields\n",
    "dump(hits,\"pickles/%s_HMM_DOMAIN_Search_Results.p\" % (gene))"
   ]
  },
  {
   "cell_type": "code",
   "execution_count": 6,
   "metadata": {},
   "outputs": [],
   "source": [
    "hits = load(open(\"pickles/%s_HMM_DOMAIN_Search_Results.p\" % (gene),\"rb\"))"
   ]
  },
  {
   "cell_type": "code",
   "execution_count": 5,
   "metadata": {},
   "outputs": [
    {
     "data": {
      "text/html": [
       "<table align='left'>\n",
       "    <tr style='background-color:#9B7E46;color:white'><td>Number of Proteins:</td><td>48431</td></tr><tr style='background-color:#373D20;color:white'><td>Has all domains</td><td>42206</td></tr><tr style='background-color:#BCBD8B;color:white'><td>Number of sequences with no detected RuvCI domain</td><td>3712</td></tr><tr style='background-color:#717744;color:white'><td>Number of sequences with no detected RuvCII domain</td><td>4086</td></tr><tr style='background-color:#766153;color:white'><td>Number of sequences with no detected RuvCIII domain</td><td>2677</td></tr><tr style='background-color:#F4B266;color:white'><td>Number of sequences with no detected HnH</td><td>1230</td></tr>\n",
       "    </table>\n"
      ],
      "text/plain": [
       "<IPython.core.display.HTML object>"
      ]
     },
     "metadata": {},
     "output_type": "display_data"
    },
    {
     "name": "stdout",
     "output_type": "stream",
     "text": [
      "<table align='left'>\n",
      "    <tr style='background-color:#9B7E46;color:white'><td>Number of Proteins:</td><td>48431</td></tr><tr style='background-color:#373D20;color:white'><td>Has all domains</td><td>42206</td></tr><tr style='background-color:#BCBD8B;color:white'><td>Number of sequences with no detected RuvCI domain</td><td>3712</td></tr><tr style='background-color:#717744;color:white'><td>Number of sequences with no detected RuvCII domain</td><td>4086</td></tr><tr style='background-color:#766153;color:white'><td>Number of sequences with no detected RuvCIII domain</td><td>2677</td></tr><tr style='background-color:#F4B266;color:white'><td>Number of sequences with no detected HnH</td><td>1230</td></tr>\n",
      "    </table>\n",
      "\n"
     ]
    }
   ],
   "source": [
    "hasAllDomains = hits[\"RuvC_1_Cas9\"].intersection(hits[\"RuvC_2_Cas9\"].intersection(hits[\"RuvC_3_Cas9\"].intersection(hits[\"HNH_Cas\"])))\n",
    "allSamples = set(hits.samples.keys())\n",
    "nSamples = len(allSamples)\n",
    "noRuvC1 = allSamples.difference(hits[\"RuvC_1_Cas9\"])\n",
    "noRuvC2 = allSamples.difference(hits[\"RuvC_2_Cas9\"])\n",
    "noRuvC3 = allSamples.difference(hits[\"RuvC_3_Cas9\"])\n",
    "noHNH   = allSamples.difference(hits[\"HNH_Cas\"])\n",
    "\n",
    "htmlString =\"\"\"<table align='left'>\n",
    "    \"\"\"\\\n",
    "    \"<tr style='background-color:#9B7E46;color:white'><td>Number of Proteins:</td><td>%i</td></tr>\" % (nSamples) +\\\n",
    "    \"<tr style='background-color:#373D20;color:white'><td>Has all domains</td><td>%i</td></tr>\" % (len(hasAllDomains)) +\\\n",
    "    \"<tr style='background-color:#BCBD8B;color:white'><td>Number of sequences with no detected RuvCI domain</td><td>%i</td></tr>\" % (len(noRuvC1)) +\\\n",
    "    \"<tr style='background-color:#717744;color:white'><td>Number of sequences with no detected RuvCII domain</td><td>%i</td></tr>\" % (len(noRuvC2)) +\\\n",
    "    \"<tr style='background-color:#766153;color:white'><td>Number of sequences with no detected RuvCIII domain</td><td>%i</td></tr>\" % (len(noRuvC3)) +\\\n",
    "    \"<tr style='background-color:#F4B266;color:white'><td>Number of sequences with no detected HnH</td><td>%i</td></tr>\" % (len(noHNH)) +\\\n",
    "    \"\"\"\n",
    "    </table>\n",
    "\"\"\"\n",
    "display(HTML(htmlString))\n",
    "#    \"<tr style='background-color:#766153;color:white'><td>Number of proteins with neither an RuvCI nor a RuvCIII</td><td>%i</td></tr>\" % (len(neitherDomain)) +\\\n",
    "print(htmlString)\n"
   ]
  },
  {
   "cell_type": "markdown",
   "metadata": {},
   "source": [
    "#### Profile the lengths of where the domains are located in the protein"
   ]
  },
  {
   "cell_type": "code",
   "execution_count": 6,
   "metadata": {},
   "outputs": [
    {
     "name": "stdout",
     "output_type": "stream",
     "text": [
      "\n",
      "Mean distance from RuvC_1 to start of protein: 13 std: 14\n"
     ]
    },
    {
     "data": {
      "image/png": "[encoded data removed]",
      "text/plain": [
       "<Figure size 432x288 with 1 Axes>"
      ]
     },
     "metadata": {
      "needs_background": "light"
     },
     "output_type": "display_data"
    }
   ],
   "source": [
    "from pandas import Series\n",
    "ruvC1Coords = []\n",
    "ruvC3Coords = []\n",
    "samples = []\n",
    "difs = []\n",
    "for sample in hasAllDomains:\n",
    "    ruc1Start = hits.samples[sample][\"RuvC_1_Cas9\"].start\n",
    "    ruc3End = hits.samples[sample][\"RuvC_3_Cas9\"].dend\n",
    "    ruvC1Coords.append(ruc1Start)\n",
    "    ruvC3Coords.append(ruc3End)\n",
    "    difs.append(ruc3End-ruc1Start)\n",
    "    samples.append(sample)\n",
    "    \n",
    "ruvC1Dists = Series(ruvC1Coords,index=samples)\n",
    "ruvC3Dists = Series(ruvC3Coords,index=samples)\n",
    "\n",
    "print (\"\\nMean distance from RuvC_1 to start of protein: %.0f std: %.0f\" % (ruvC1Dists.mean(), ruvC1Dists.std()))\n",
    "\n",
    "# the histogram of the data\n",
    "n, bins, patches = plt.hist(ruvC1Dists,facecolor='green')\n",
    "plt.xlabel('Distance to start of protein')\n",
    "plt.ylabel('Number of sequences')\n",
    "plt.title(\"Histogram of distances from RuvC_1 Domain to start of protein\")\n",
    "plt.grid(True)\n",
    "plt.show()"
   ]
  },
  {
   "cell_type": "code",
   "execution_count": 7,
   "metadata": {},
   "outputs": [
    {
     "name": "stdout",
     "output_type": "stream",
     "text": [
      "\n",
      "Mean distance from RuvC_3 to end of protein: 278 std: 61\n"
     ]
    },
    {
     "data": {
      "image/png": "[encoded data removed]",
      "text/plain": [
       "<Figure size 432x288 with 1 Axes>"
      ]
     },
     "metadata": {
      "needs_background": "light"
     },
     "output_type": "display_data"
    }
   ],
   "source": [
    "print (\"\\nMean distance from RuvC_3 to end of protein: %.0f std: %.0f\" % (ruvC3Dists.mean(), ruvC3Dists.std()))\n",
    "\n",
    "# the histogram of the data\n",
    "n, bins, patches = plt.hist(ruvC3Dists,facecolor='blue')\n",
    "plt.xlabel('Distance To End')\n",
    "plt.ylabel('Number of sequences')\n",
    "plt.title(\"Distance From RuvC_3 Domain to End of Sequence\")\n",
    "plt.grid(True)\n",
    "plt.savefig(\"images/%s_RuvC3_DomainLengths.png\" % gene)\n",
    "plt.show()"
   ]
  },
  {
   "cell_type": "code",
   "execution_count": null,
   "metadata": {},
   "outputs": [],
   "source": [
    "f, (ax1, ax2) = plt.subplots(1, 2,figsize=(12, 4))\n",
    "ax1.hist(ruvC1Coords,facecolor='green')\n",
    "ax1.grid(True)\n",
    "ax2.hist(ruvC3Coords,facecolor='blue') \n",
    "plt.grid(True)\n",
    "plt.show();"
   ]
  },
  {
   "cell_type": "code",
   "execution_count": 8,
   "metadata": {},
   "outputs": [
    {
     "data": {
      "text/html": [
       "<table align='left'>\n",
       "    <tr style='background-color:#373D20;color:white'><td>No outlier domains</td><td>40706</td></tr><tr style='background-color:#BCBD8B;color:white'><td>Number of RuvC1 outliers</td><td>887</td></tr><tr style='background-color:#717744;color:white'><td>Number of RuvC3 outliers</td><td>632</td></tr><tr style='background-color:#766153;color:white'><td>Outlier Intersection</td><td>19</td></tr>\n",
       "    </table>\n"
      ],
      "text/plain": [
       "<IPython.core.display.HTML object>"
      ]
     },
     "metadata": {},
     "output_type": "display_data"
    },
    {
     "name": "stdout",
     "output_type": "stream",
     "text": [
      "<table align='left'>\n",
      "    <tr style='background-color:#373D20;color:white'><td>No outlier domains</td><td>40706</td></tr><tr style='background-color:#BCBD8B;color:white'><td>Number of RuvC1 outliers</td><td>887</td></tr><tr style='background-color:#717744;color:white'><td>Number of RuvC3 outliers</td><td>632</td></tr><tr style='background-color:#766153;color:white'><td>Outlier Intersection</td><td>19</td></tr>\n",
      "    </table>\n",
      "\n",
      "\n",
      "Dumping pickles/Cas9_CorrectDomains.p\n"
     ]
    }
   ],
   "source": [
    "import numpy as np\n",
    "start_outliers = set(ruvC1Dists[ruvC1Dists > ruvC1Dists.mean()+2*ruvC1Dists.std()].index) #RuvC1 outlier\n",
    "end_outliers = set(ruvC3Dists[ruvC3Dists > ruvC3Dists.mean()+2*ruvC3Dists.std()].index) #RuvC3 outlier\n",
    "hasGoodDomains = hasAllDomains.difference(start_outliers.union(end_outliers))\n",
    "htmlString =\"\"\"<table align='left'>\n",
    "    \"\"\"\\\n",
    "    \"<tr style='background-color:#373D20;color:white'><td>No outlier domains</td><td>%i</td></tr>\" % (len(hasGoodDomains)) +\\\n",
    "    \"<tr style='background-color:#BCBD8B;color:white'><td>Number of RuvC1 outliers</td><td>%i</td></tr>\" % (len(start_outliers)) +\\\n",
    "    \"<tr style='background-color:#717744;color:white'><td>Number of RuvC3 outliers</td><td>%i</td></tr>\" % (len(end_outliers)) +\\\n",
    "    \"<tr style='background-color:#766153;color:white'><td>Outlier Intersection</td><td>%i</td></tr>\" % (len(start_outliers.intersection(end_outliers))) +\\\n",
    "    \"\"\"\n",
    "    </table>\n",
    "\"\"\"\n",
    "\n",
    "#\"<tr style='background-color:#766153;color:white'><td>Outlier Intersection</td><td>%i</td></tr>\" % (len(start_outliers.intersection(end_outliers))) +\\\n",
    "# htmlString += \"<br/><img src='nwks/%s.png' style='width:1000px;height:1000px;'>\" % (\"Cas9-Subtree1.V2\")\n",
    "display(HTML(htmlString))  \n",
    "print(htmlString)\n",
    "dump(hasGoodDomains,\"pickles/%s_CorrectDomains.p\" % gene)"
   ]
  },
  {
   "cell_type": "code",
   "execution_count": 9,
   "metadata": {},
   "outputs": [
    {
     "name": "stdout",
     "output_type": "stream",
     "text": [
      "Found 159 Cas9-like proteins on the same sequence\n",
      "Total proteins found 40706 in (40547 == 40547) sequences\n",
      "\n",
      "Dumping pickles/Cas9_GoodDomainIDS.p\n",
      "\n",
      "Dumping pickles/Cas9_GoodDomMap.p\n"
     ]
    }
   ],
   "source": [
    "goodDomIDS = set()\n",
    "goodDomMap = {}\n",
    "hasGoodDomains = load(open(\"pickles/%s_CorrectDomains.p\" % gene, \"rb\"))\n",
    "for prot in hasGoodDomains: \n",
    "    baseID = prot[:prot.rfind(\"_\")] # remove the orf identifier\n",
    "    goodDomIDS.add(baseID)\n",
    "    try: goodDomMap[baseID].add(prot)\n",
    "    except: goodDomMap[baseID] = set([prot])\n",
    "print(\"Found %i Cas9-like proteins on the same sequence\" % (len(hasGoodDomains) - len(goodDomIDS)))\n",
    "print(\"Total proteins found %i in (%i == %i) sequences\" % (len(hasGoodDomains),len(goodDomMap),len(goodDomIDS)))\n",
    "dump(goodDomIDS,\"pickles/%s_GoodDomainIDS.p\" %(gene))\n",
    "dump(goodDomMap,\"pickles/%s_GoodDomMap.p\" %(gene))"
   ]
  },
  {
   "cell_type": "markdown",
   "metadata": {},
   "source": [
    "# Now we have assemblies with a crispr and a Cas9. Next we will copy all of the unique seqeuences over to the same place. This will allow the systems with the same protein but different DNA sequences to exist."
   ]
  },
  {
   "cell_type": "code",
   "execution_count": 4,
   "metadata": {},
   "outputs": [],
   "source": [
    "assemblyDir = \"assemblies/assemblies_W_%s/\" % (gene)\n",
    "cas9Assemblies = listdir(assemblyDir)\n",
    "goodDomIDS = load(open(\"pickles/%s_GoodDomainIDS.p\" % (gene), \"rb\"))\n",
    "goodDomMap = load(open(\"pickles/%s_GoodDomMap.p\"    % (gene), \"rb\"))\n",
    "hmm_parser = load(open(\"pickles/%s_HMM_Parsing_Results.p\" % (gene), \"rb\"))"
   ]
  },
  {
   "cell_type": "code",
   "execution_count": 13,
   "metadata": {},
   "outputs": [],
   "source": [
    "assembliesWCrisprs = load(open(\"pickles/allAssemblyW_CRISPRs.p\",\"rb\"))"
   ]
  },
  {
   "cell_type": "code",
   "execution_count": 5,
   "metadata": {},
   "outputs": [
    {
     "data": {
      "text/plain": [
       "48081"
      ]
     },
     "execution_count": 5,
     "metadata": {},
     "output_type": "execute_result"
    }
   ],
   "source": [
    "def getDB(aPath): \n",
    "    if \"genbank\" in aPath: return \"genbank\"\n",
    "    if \"refseq\"  in aPath: return \"refseq\"\n",
    "    return \"pat2\"\n",
    "hmm_parser = load(open(\"pickles/%s_HMM_Parsing_Results.p\" % (gene), \"rb\"))\n",
    "len(hmm_parser)"
   ]
  },
  {
   "cell_type": "code",
   "execution_count": 7,
   "metadata": {},
   "outputs": [
    {
     "name": "stdout",
     "output_type": "stream",
     "text": [
      "1.0 2.0 3.0 4.0 5.0 6.0 7.0 8.0 9.0 10.0 11.0 12.0 13.0 14.0 15.0 16.0 17.0 18.0 19.0 20.0 21.0 22.0 23.0 24.0 25.0 26.0 27.0 28.0 29.0 30.0 31.0 32.0 33.0 34.0 35.0 36.0 37.0 38.0 39.0 40.0 \n",
      "Dumping pickles/Cas9_assemblyProMap.p\n"
     ]
    }
   ],
   "source": [
    "# Copy unique nucleotide sequence\n",
    "from Bio.SeqIO import index, write\n",
    "from os import system\n",
    "# hmm_parser = load(open(\"pickles/%s_HMM_Parsing_Results.p\" % (gene), \"rb\"))\n",
    "hasGoodDomains = load(open(\"pickles/%s_CorrectDomains.p\" % gene, \"rb\"))\n",
    "# assembliesWCrisprs = load(open(\"pickles/allAssemblyW_CRISPRs.p\",\"rb\"))\n",
    "\n",
    "nukSeqHash, protAssemblyMap, assemblyProtMap = {}, {}, {}\n",
    "# BASEFILENAME eg GCF_0001232342.5.fasta = GCF_0001232342.5\n",
    "# protAssemblyMap = {CHROM_ORF#:BASEFILENAME}\n",
    "\n",
    "counter = 0\n",
    "#casFiltered = open(\"proteins/All_%s-Like-filtered.faa\" % gene, \"w\")\n",
    "crPath = \"/mnt/research/germs/shane/databases/crisprs/pilerCR\"\n",
    "for baseID, proteins in hmm_parser:\n",
    "    assemblyProtMap[baseID] = {}\n",
    "    protIDs = proteins.proteins.keys()\n",
    "    keepers = hasGoodDomains.intersection(protIDs)\n",
    "    if len(keepers) > 0:\n",
    "#         seqs = index(assembliesWCrisprs[baseID], \"fasta\")\n",
    "#         db = getDB(assembliesWCrisprs[baseID])\n",
    "        for protID in keepers:\n",
    "            counter += 1\n",
    "            protAssemblyMap[protID] = baseID\n",
    "            baseProtID = protID[:protID.rfind(\"_\")]\n",
    "            try: assemblyProtMap[baseID][baseProtID].add(protID)\n",
    "            except: assemblyProtMap[baseID] = {baseProtID:set([protID])}\n",
    "#             pchr = seqs[baseProtID]\n",
    "#             nukeSeq = str(pchr.seq).upper()\n",
    "#             if nukeSeq not in nukSeqHash:\n",
    "#                 if not path.exists(\"crisprs/%s.pcrout\" % (protID)):\n",
    "#                     system(\"ln -s %s/%s/%s.pcrout crisprs/%s.pcrout\" % (crPath,db,baseID,protID))\n",
    "#                     with open(\"assemblies/pseudoChromos/%s.fasta\" % protID, \"w\") as seqFH:\n",
    "#                         pchr.id = protID\n",
    "#                         write(pchr, seqFH, \"fasta\")\n",
    "#                 write(proteins.proteins[protID],casFiltered,\"fasta\")\n",
    "#                 nukSeqHash[nukeSeq] = set([protID])\n",
    "#             else: nukSeqHash[nukeSeq].add(protID)\n",
    "            if counter % 1000 == 0: print(counter/1000,end=' ')\n",
    "# casFiltered.close()\n",
    "# dump(nukSeqHash,\"pickles/%s_nukSeqHash.p\" % gene)\n",
    "# dump(protAssemblyMap,\"pickles/%s_protAssemblyMap.p\" % gene)\n",
    "dump(assemblyProtMap,\"pickles/%s_assemblyProMap.p\" % gene)"
   ]
  },
  {
   "cell_type": "markdown",
   "metadata": {},
   "source": [
    "#### Write all proteins to a file ->Cluster proteins -> Align the representatives"
   ]
  },
  {
   "cell_type": "code",
   "execution_count": 4,
   "metadata": {},
   "outputs": [
    {
     "name": "stdout",
     "output_type": "stream",
     "text": [
      "    23804  finished       2213  clusters\n"
     ]
    }
   ],
   "source": [
    "%%bash -s $gene\n",
    "cd-hit -i proteins/All_$1-Like-filtered.faa -c .90 -d 0 -M 0 -T 0 -o proteins/$1-Like-clustered.faa >logs/$1_ClusterLog.log\n",
    "tail -n 8 logs/$1_ClusterLog.log > logs/clusterInfo\n",
    "head -n 1 logs/clusterInfo; rm logs/clusterInfo\n",
    "mv proteins/$1-Like-clustered.faa.clstr clusters/"
   ]
  },
  {
   "cell_type": "code",
   "execution_count": 10,
   "metadata": {},
   "outputs": [
    {
     "name": "stdout",
     "output_type": "stream",
     "text": [
      "\n",
      "Dumping pickles/Cas9_ClusteringResults.p\n",
      "\n",
      "Dumping pickles/Cas9_RevClusteringResults.p\n",
      "\n",
      "Dumping pickles/Cas9_ClusterPercs.p\n"
     ]
    }
   ],
   "source": [
    "gene = \"Cas9\"\n",
    "clusterID = \"\"\n",
    "allClusters, allClusterSeqIDs = {},{}\n",
    "clusterPercs = {}\n",
    "for line in open(\"clusters/%s-Like-clustered.faa.clstr\" % (gene)):\n",
    "    line = line.strip()\n",
    "    if \">Cluster\" in line: clusterID = line.replace(\">\",\"\")\n",
    "    else:\n",
    "        sequenceID = line[line.find(\">\")+1:line.find(\".\")] \n",
    "        seqID = line[line.find(\">\")+1:line.find(\"...\")] \n",
    "        perc = line.split(\" \")[-1]\n",
    "        aa_s = line.split(\"\\t\")[1]\n",
    "        aa_s = int(aa_s.split(\"aa,\")[0])\n",
    "        if \"%\" in perc: clusterPercs[seqID] = (aa_s,float(perc.replace(\"%\",\"\")))\n",
    "        try:allClusters[clusterID].add(seqID)\n",
    "        except:allClusters[clusterID]=set([seqID])\n",
    "        try:allClusterSeqIDs[seqID].add(clusterID)\n",
    "        except:allClusterSeqIDs[seqID]=set([clusterID])\n",
    "allClusters, allClusterSeqIDs\n",
    "dump(allClusters,\"pickles/%s_ClusteringResults.p\" % (gene))\n",
    "dump(allClusterSeqIDs,\"pickles/%s_RevClusteringResults.p\" % (gene))\n",
    "dump(clusterPercs,\"pickles/%s_ClusterPercs.p\" % (gene))"
   ]
  },
  {
   "cell_type": "code",
   "execution_count": 2,
   "metadata": {},
   "outputs": [
    {
     "name": "stdout",
     "output_type": "stream",
     "text": [
      "0.0 1.0 2.0 3.0 4.0 5.0 6.0 7.0 8.0 9.0 10.0 11.0 12.0 13.0 14.0 15.0 16.0 17.0 18.0 19.0 20.0 21.0 22.0 "
     ]
    },
    {
     "data": {
      "text/plain": [
       "2213"
      ]
     },
     "execution_count": 2,
     "metadata": {},
     "output_type": "execute_result"
    }
   ],
   "source": [
    "from Bio.SeqIO import index,write\n",
    "from os import listdir\n",
    "gene = \"Cas9\"\n",
    "casAssemblies = index(\"data/proteins/%s-Like-clustered.faa\" % (gene), \"fasta\")\n",
    "casFH = open(\"data/assemblies/%s_Representative_Assemblies.fasta\" % (gene), \"w\")\n",
    "counter = 0\n",
    "for fname in listdir(\"data/assemblies/pseudoChromos/\"):\n",
    "    seqID = fname[:fname.find(\".fasta\")]\n",
    "    if seqID in casAssemblies: \n",
    "        asm = index(\"data/assemblies/pseudoChromos/\"+fname, \"fasta\")\n",
    "        write(asm[seqID],casFH,\"fasta\")\n",
    "        if counter % 100 == 0 : print(counter/100,end=\" \")\n",
    "        counter +=1\n",
    "casFH.close()\n",
    "counter "
   ]
  },
  {
   "cell_type": "code",
   "execution_count": 20,
   "metadata": {},
   "outputs": [
    {
     "name": "stdout",
     "output_type": "stream",
     "text": [
      "\n",
      "Dumping pickles/Cas9_nukSeqHash.p\n",
      "\n",
      "Dumping pickles/Cas9_protAssemblyMap.p\n"
     ]
    }
   ],
   "source": [
    "dump(nukSeqHash,\"pickles/%s_nukSeqHash.p\" % gene)\n",
    "dump(protAssemblyMap,\"pickles/%s_protAssemblyMap.p\" % gene)"
   ]
  },
  {
   "cell_type": "code",
   "execution_count": 3,
   "metadata": {},
   "outputs": [
    {
     "name": "stdout",
     "output_type": "stream",
     "text": [
      "Working on the hmm/results directory which contains 401683 files\n",
      "100000 13639\n",
      "200000 27361\n",
      "300000 40893\n",
      "\n",
      "Dumping pickles/Cas9_HMM_Parsing_Results.p\n"
     ]
    }
   ],
   "source": [
    "hmm_parser = HMM_Parser()\n",
    "hmmFiles = os.listdir(hmmResultsDir)\n",
    "counter, numWithCas9Like = 0, 0\n",
    "print (\"Working on the %s directory which contains %i files\" % (hmmResultsDir,len(hmmFiles)))\n",
    "for fileName in hmmFiles:\n",
    "    if \".hmmout\" not in fileName: continue\n",
    "    fileStats = os.stat(os.path.join(hmmResultsDir,fileName)).st_size  \n",
    "    counter+=1\n",
    "    if counter % 100000 == 0: print(counter,numWithCas9Like)\n",
    "    if fileStats < 1900: continue #Less than 1900 means no results were found\n",
    "    hmm_parser.parse(os.path.join(hmmResultsDir,fileName))\n",
    "    numWithCas9Like +=1\n",
    "dump(hmm_parser,\"pickles/%s_HMM_Parsing_Results.p\" % (gene))"
   ]
  },
  {
   "cell_type": "code",
   "execution_count": 10,
   "metadata": {},
   "outputs": [
    {
     "name": "stdout",
     "output_type": "stream",
     "text": [
      "Number of dupes:  36\n",
      "Writing 50353 proteins from 48081 assemblies to file: proteins/All_Cas9-Like.faa\n",
      "Of the 50353 proteins, there are 8424 unique proteins\n"
     ]
    }
   ],
   "source": [
    "protCounter, fileCounter = 0,1\n",
    "protSeqs = set()\n",
    "IDs, dupes = {},{}\n",
    "casAll = open(\"proteins/All_%s-Like.faa\" % gene,\"w\")\n",
    "casUnique = open(\"proteins/Unique_%ss.faa\" % gene,\"w\")\n",
    "# fh = open(\"../scripts/hpc/hmmSearch/HMMSearch_0.sb\",\"w\")\n",
    "# header = \"\"\n",
    "# for line in open(\"../scripts/hpc/header.sb\"): header+=line\n",
    "# fh.write(header)\n",
    "\n",
    "for baseID,proteins in hmm_parser:\n",
    "    for protID, rec in proteins:\n",
    "        if len(rec.seq) > 2100: continue\n",
    "        if rec.id in IDs: \n",
    "            try: dupes[rec.id].add(baseID)\n",
    "            except: \n",
    "                dupes[rec.id] = set([baseID])\n",
    "                dupes[rec.id].add(IDs[rec.id])\n",
    "            continue\n",
    "        IDs[rec.id]=baseID\n",
    "        seq = str(rec.seq).upper()\n",
    "        protCounter +=1\n",
    "        if seq not in protSeqs:\n",
    "            \n",
    "            protSeqs.add(seq)\n",
    "            write(rec,casUnique,\"fasta\")\n",
    "        write(rec,casAll,\"fasta\")\n",
    "casUnique.close() \n",
    "casAll.close()\n",
    "print(\"Number of dupes: \",len(dupes))\n",
    "print (\"Writing %i proteins from %i assemblies to file: proteins/All_%s-Like.faa\" % (protCounter,numWithCas9Like,gene))\n",
    "print(\"Of the %s proteins, there are %i unique proteins\" % (protCounter,len(protSeqs)))"
   ]
  },
  {
   "cell_type": "code",
   "execution_count": null,
   "metadata": {},
   "outputs": [],
   "source": [
    "\n",
    "\n",
    "\n",
    "\n",
    "\n",
    "\n",
    "\n",
    "\n",
    "\n",
    "\n",
    "\n",
    "\n",
    "\n",
    "\n",
    "\n",
    "\n",
    "\n",
    "\n",
    "\n",
    "\n",
    "\n",
    "\n",
    "\n",
    "\n",
    "\n",
    "\n",
    "\n",
    "\n",
    "\n",
    "\n",
    "\n",
    "\n",
    "\n",
    "\n",
    "\n",
    "\n"
   ]
  },
  {
   "cell_type": "code",
   "execution_count": null,
   "metadata": {},
   "outputs": [],
   "source": [
    "from Bio.SeqIO import index,write\n",
    "prots = index(\"proteins/All_%s-Like.faa\" % (gene), \"fasta\")\n",
    "fh = open(\"proteins/%s-Like.faa\" % (gene),'w')\n",
    "for fName in listdir(\"assemblies/pseudoChromos/\"):\n",
    "    orfID = fName.replace(\".fasta\",\"\")\n",
    "    prot = prots[orfID]\n",
    "    write(prot,fh,\"fasta\")\n",
    "fh.close()"
   ]
  },
  {
   "cell_type": "code",
   "execution_count": null,
   "metadata": {},
   "outputs": [],
   "source": [
    "from Bio.SeqIO import index\n",
    "fh = open(\"assemblies/%s_Representative_Assemblies.fasta\" % (gene),\"w\")\n",
    "prots = index(\"proteins/%s-Like-clustered.faa\" % (gene), \"fasta\" )\n",
    "for protName in prots.keys():\n",
    "    protAsm = index(\"assemblies/pseudoChromos/%s.fasta\" % (protName), \"fasta\")\n",
    "#     seqID = protName[:protName.rfind(\"_\")]\n",
    "#     rec = protAsm[seqID]\n",
    "#     rec.id = protName\n",
    "    write(protAsm[protName],fh,\"fasta\")\n",
    "fh.close()"
   ]
  },
  {
   "cell_type": "code",
   "execution_count": null,
   "metadata": {},
   "outputs": [],
   "source": [
    "assembliesWCrisprs = load(open(\"pickles/allAssemblyCRISPRs.p\",\"rb\")) "
   ]
  },
  {
   "cell_type": "code",
   "execution_count": null,
   "metadata": {},
   "outputs": [],
   "source": [
    "from os import path, system\n",
    "#fh = open(\"MissingCRISPS.txt\",\"w\")\n",
    "#hmm_parser = load(open(\"pickles/%s_HMM_Parsing_Results.p\"  % (gene), \"rb\"))\n",
    "counter = 0    \n",
    "crisprDir = \"/mnt/research/germs/shane/databases/crisprs/pilerCR/\"  \n",
    "pcmd = \"pilercr -minid 0.85 -mincons 0.8 -noinfo -in %s -out /mnt/research/germs/shane/databases/crisprs/pilerCR/%s/%s.pcrout 2>/dev/null\" # % (assembly, outdir, assembly.replace(\".fasta\",\"\"))\n",
    "for fName, result in hmm_parser:\n",
    "    keepers = prots.intersection(result.proteins.keys())\n",
    "    for protID in keepers:\n",
    "        db = \"genbank\"\n",
    "        if \"refseq\" in assembliesWCrisprs[fName]: db = \"refseq\"\n",
    "        if \"PATRIC2\" in assembliesWCrisprs[fName]: db = \"pat2\"\n",
    "#         if not path.exists(\"crisprs/%s.pcrout\" % protID):\n",
    "#             system(pcmd % (assembliesWCrisprs[fName],db,fName))\n",
    "#             fh.write(protID + \"\\t\" + assembliesWCrisprs[fName] + \"\\n\")\n",
    "        system(\"unlink crisprs/%s.pcrout\" % protID)\n",
    "        system(\"ln -s /mnt/research/germs/shane/databases/crisprs/pilerCR/%s/%s.pcrout crisprs/%s.pcrout\" % (db,fName,protID))\n",
    "        counter +=1\n",
    "counter\n",
    "#fh.close()"
   ]
  },
  {
   "cell_type": "code",
   "execution_count": null,
   "metadata": {},
   "outputs": [],
   "source": [
    "\n",
    "\n",
    "\n",
    "\n",
    "\n",
    "\n",
    "\n",
    "\n",
    "\n",
    "\n",
    "\n",
    "\n",
    "\n",
    "\n",
    "\n",
    "\n",
    "\n",
    "\n",
    "\n",
    "\n",
    "\n",
    "\n",
    "\n",
    "\n",
    "\n",
    "\n",
    "\n",
    "\n",
    "\n",
    "\n",
    "\n",
    "\n",
    "\n"
   ]
  },
  {
   "cell_type": "code",
   "execution_count": null,
   "metadata": {},
   "outputs": [],
   "source": [
    "# hmm_parser = load(open(\"pickles/hmm_parsing_results.p\",\"rb\"))\n",
    "# assembliesWCrisprs = load(open(\"pickles/allAssemblyCRISPRs.p\",\"rb\")) \n",
    "from os import system,path\n",
    "counter = 0\n",
    "protMapper = {}\n",
    "for result in hmm_parser.results:\n",
    "    fullHmmPath = result.filePath\n",
    "    baseID = fullHmmPath.replace(\"hmm/results/\",\"\").replace(\".hmmout\",\"\")\n",
    "    if path.exists(\"assemblies/assemblies_W_Cas9s/%s.fasta\" % (baseID)):\n",
    "        counter+=1\n",
    "        if counter % 1000 ==0: print(counter,end=\" \")\n",
    "        continue\n",
    "    for rec in parse(assembliesWCrisprs[baseID],\"fasta\"):\n",
    "        if rec.id in goodDomIDS:\n",
    "            system(\"ln -s %s assemblies/assemblies_W_Cas9s/%s.fasta\" % (assembliesWCrisprs[baseID],baseID))\n",
    "            counter+=1\n",
    "            if counter % 1000 ==0: print(counter,end=\" \")\n",
    "            break\n",
    "\n",
    "#     for prot in result.proteins:\n",
    "        "
   ]
  },
  {
   "cell_type": "code",
   "execution_count": null,
   "metadata": {},
   "outputs": [],
   "source": [
    "from Bio.SeqIO import index as fasta_index\n",
    "allCas9s = fasta_index(\"Cas9-Like-clustered.faa\", \"fasta\")"
   ]
  },
  {
   "cell_type": "markdown",
   "metadata": {},
   "source": [
    "### Alignment"
   ]
  },
  {
   "cell_type": "code",
   "execution_count": null,
   "metadata": {},
   "outputs": [],
   "source": [
    "%%bash -s $gene\n",
    "qsub alignment.sub\n",
    "#mafft --maxiterate 1000 --globalpair --reorder --treeout $1-Like-clustered.faa > $1-Like-clustered.aln"
   ]
  },
  {
   "cell_type": "code",
   "execution_count": null,
   "metadata": {},
   "outputs": [],
   "source": [
    "import glob, os\n",
    "outliers = start_outlierIDs.union(end_outlierIDs)\n",
    "files = glob.glob(\"assemblies/*.fasta\")\n",
    "for fileName in files:\n",
    "    fileName2 = fileName.replace(\"assemblies/\",\"\").replace(\".fasta\",\"\")\n",
    "#     if fileName2 in outliers: \n",
    "#         os.system(\"mv %s* assemblies/NoDomains/\" % (fileName.replace(\".fasta\",\"\")))\n",
    "        \n",
    "removeSeqs = set(hits.samples).difference(hasDomains)\n",
    "\n",
    "print len(hits.samples), len(removeSeqs), len(hits.samples) - len(removeSeqs)\n",
    "files = glob.glob(\"assemblies/*.fasta\")\n",
    "for fileName in files:\n",
    "    fileName2 = fileName.replace(\"assemblies/\",\"\").replace(\".fasta\",\"\")\n",
    "#     if fileName2 not in hits.samples: \n",
    "#         os.system(\"mv %s* assemblies/NoDomains/\" % (fileName.replace(\".fasta\",\"\")))\n",
    "print \"Total Samples:\",len(hits.samples)\n",
    "print \"\\tMissing Domain Samples:\",len(removeSeqs)\n",
    "print \"\\tDomain profile Samples:\",len(outliers)\n",
    "print \"After filtering:\", len(hits.samples) - (len(removeSeqs) + len(outliers))\n",
    "\n",
    "counter=0\n",
    "fh = open(\"Cas9-Like-clustered2.faa\",\"w\")\n",
    "from Bio.SeqIO import parse\n",
    "for rec in parse(\"Cas9-Like-clustered.faa\",\"fasta\"):\n",
    "    if os.path.exists(\"assemblies/%s.fa\" % (rec.id)):\n",
    "        counter += 1\n",
    "        fh.write(\">%s\\n%s\\n\" % (rec.id, str(rec.seq)))\n",
    "fh.close()"
   ]
  },
  {
   "cell_type": "markdown",
   "metadata": {},
   "source": [
    "### Cluster the results to remove duplicates"
   ]
  },
  {
   "cell_type": "code",
   "execution_count": null,
   "metadata": {},
   "outputs": [],
   "source": [
    "%%bash -s $gene\n",
    "cd-hit -i proteins/All_$1-Like.faa -c .9999999 -d 0 -M 0 -T 0 -o proteins/$1-Like-clustered.faa >logs/$1_ClusterLog.log\n",
    "tail -n 8 logs/$1_ClusterLog.log"
   ]
  },
  {
   "cell_type": "code",
   "execution_count": null,
   "metadata": {},
   "outputs": [],
   "source": [
    "from Bio.SeqIO import parse\n",
    "fh = open(\"CasRelatedAssemblies2.fasta\",\"w\")\n",
    "counter = 0\n",
    "for rec in parse(\"CasRelatedAssemblies.fasta\",\"fasta\"):\n",
    "    if os.path.exists(\"assemblies/%s.fa\" % (rec.id)):\n",
    "        counter += 1\n",
    "        fh.write(\">%s\\n%s\\n\" % (rec.id, str(rec.seq)))\n",
    "fh.close()\n",
    "print counter"
   ]
  },
  {
   "cell_type": "code",
   "execution_count": null,
   "metadata": {},
   "outputs": [],
   "source": [
    "\n",
    "\n",
    "\n",
    "\n",
    "\n",
    "\n",
    "\n",
    "\n",
    "\n",
    "\n",
    "\n",
    "\n",
    "\n",
    "\n",
    "\n",
    "\n",
    "\n",
    "\n",
    "\n",
    "\n",
    "\n",
    "\n",
    "\n",
    "\n",
    "\n",
    "\n",
    "\n",
    "\n",
    "\n",
    "\n",
    "\n",
    "\n",
    "\n",
    "\n",
    "\n",
    "\n",
    "\n",
    "\n"
   ]
  },
  {
   "cell_type": "code",
   "execution_count": null,
   "metadata": {},
   "outputs": [],
   "source": [
    "%%bash\n",
    "pwd"
   ]
  },
  {
   "cell_type": "code",
   "execution_count": null,
   "metadata": {},
   "outputs": [],
   "source": [
    "files1 = set(glob.glob(\"assemblies/*.fasta\"))\n",
    "files2 = set(glob.glob(\"assemblies/*.fa\"))\n",
    "fastas,fas =set(),set()\n",
    "for f in files2: fas.add(f.replace(\".fa\",\"\"))\n",
    "for f in files1: fastas.add(f.replace(\".fasta\",\"\"))\n",
    "for f in fas.difference(fastas):\n",
    "    os.system(\"rm %s*\" % (f))"
   ]
  },
  {
   "cell_type": "code",
   "execution_count": null,
   "metadata": {},
   "outputs": [],
   "source": [
    "### Remove missing domains and length filtering\n",
    "# Domain database pfam\n",
    "# wget ftp://ftp.ebi.ac.uk/pub/databases/Pfam/releases/Pfam31.0/Pfam-A.full.gz\n",
    "dom_counter = {}\n",
    "for line in open(\"/mnt/research/germs/shane/transActRNA/data/domains/Cas9-Like-clustered.faa.domtbl\"):\n",
    "    if \"#\" in line:continue\n",
    "    rec = line.strip().split(\"    \")\n",
    "#     print rec\n",
    "#     break\n",
    "    try:dom_counter[line.strip()]+=1\n",
    "    except:dom_counter[line.strip()]=1\n",
    "dom_counter = Counter(dom_counter)"
   ]
  },
  {
   "cell_type": "code",
   "execution_count": null,
   "metadata": {},
   "outputs": [],
   "source": [
    "from Bio.SearchIO import HmmerIO\n",
    "from Bio.SearchIO.HmmerIO import Hmmer3DomtabHmmhitParser as hmmParser"
   ]
  },
  {
   "cell_type": "code",
   "execution_count": null,
   "metadata": {},
   "outputs": [],
   "source": [
    "hasHNH, hasRuvC= set(), set()\n",
    "for x in hmmParser(open(\"/mnt/research/germs/shane/transActRNA/data/domains/DiverseCas9s1.domtbl\")):\n",
    "    if \"HNH\" == x.id:\n",
    "        print x.id, len(x.hits)\n",
    "        for hit in x.hits: hasHNH.add(hit.id)\n",
    "    elif \"RuvC\" == x.id:\n",
    "        print x.id, len(x.hits)\n",
    "        for hit in x.hits: hasRuvC.add(hit.id)"
   ]
  },
  {
   "cell_type": "code",
   "execution_count": null,
   "metadata": {},
   "outputs": [],
   "source": [
    "#Copy unique nucleotide sequence\n",
    "from Bio.SeqIO import index\n",
    "nukSeqHash,protSeqHash = set(), set()\n",
    "alreadyGotIt,count = 0, 0\n",
    "for assembly in cas9Assemblies:\n",
    "    baseID = assembly[:-6]\n",
    "    allAssemblySeqs = index(assemblyDir+assembly,\"fasta\")\n",
    "    overlap = goodDomIDS.intersection(allAssemblySeqs.keys())\n",
    "    for recID in overlap:\n",
    "        seq = str(allAssemblySeqs[recID].seq).upper()\n",
    "        if seq in nukSeqHash and len(goodDomMap[recID]) == 1:\n",
    "            alreadyGotIt += 1\n",
    "            continue\n",
    "        nukSeqHash.add(seq)\n",
    "        #There may be more than 1 protein on the pseudochromosome, save both as separate files  \n",
    "        if len(goodDomMap[recID])>1: print(\"%i Cas9s on %s\" %(len(goodDomMap[recID]),recID))\n",
    "        for orfID in goodDomMap[recID]:\n",
    "            with open(\"assemblies/pseudoChromos/%s.fasta\" % (orfID),\"w\") as fh:\n",
    "                write(rec,fh,\"fasta\")\n",
    "                count +=1\n",
    "        if count % 1000 == 0: print(count,end=\" \")"
   ]
  },
  {
   "cell_type": "code",
   "execution_count": null,
   "metadata": {},
   "outputs": [],
   "source": [
    "print \"Number of proteins with both:\", len(hasHNH.intersection(hasRuvC))\n"
   ]
  },
  {
   "cell_type": "code",
   "execution_count": null,
   "metadata": {},
   "outputs": [],
   "source": [
    "for x in hmmParser(open(\"/mnt/research/germs/shane/CRISPR_Cas/data/domains/DiverseCas9s1.domtbl\")):\n",
    "    if \"ruvc\" in x.id.lower():\n",
    "        print x.id, len(x.hits)\n",
    "        for hit in x.hits:\n",
    "            print \"\\t\",hit.id"
   ]
  },
  {
   "cell_type": "code",
   "execution_count": null,
   "metadata": {},
   "outputs": [],
   "source": [
    "definitions, descriptors, AC = {}, set(['AC','DE']), \"\"\n",
    "important = set([\"Cas9\",\"nuclease\",\"endonuclease\", \"HNH\", \"HnH\", \"RuvC\", \"ruvc\", \"RUVC\", \"HNH/ENDO\", \"CRISPR\"])\n",
    "for line in open(\"domains/Pfam-A.full\"):\n",
    "    rec = line.strip().split()\n",
    "    if len(rec)<3 or rec[1] not in descriptors: continue\n",
    "    if rec[1] == 'AC':AC = rec[2]\n",
    "    else: definitions[AC] = \" \".join(rec[2:])\n",
    "print \"Completed Loading %i definitions\" % len(definitions)"
   ]
  },
  {
   "cell_type": "code",
   "execution_count": null,
   "metadata": {},
   "outputs": [],
   "source": [
    "hnhDomainIDs = set()\n",
    "for val in dom_counter.most_common(100):\n",
    "    id,count = val[0], val[1]\n",
    "    print \"%s\\t%i\\t%s\" % (id,count,definitions[id])\n",
    "#     if \"hnh\" in definitions[id].lower():\n",
    "#         hnhDomainIDs.add(id)\n",
    "#         print \"%s\\t%i\\t%s\" % (id,count,definitions[id])\n",
    "#     if \"ruvc\" in definitions[id].lower():\n",
    "#         print \"%s\\t%i\\t%s\" % (id,count,definitions[id])"
   ]
  },
  {
   "cell_type": "code",
   "execution_count": null,
   "metadata": {},
   "outputs": [],
   "source": [
    "def outliers(data,stdsAwayFromMean): return data[data > stdsAwayFromMean * data.std()]\n",
    "start_outliers = outliers(ruvC1Dists,2) \n",
    "len(start_outliers)\n",
    "\n",
    "from Bio.SeqIO import index\n",
    "\n",
    "cas9Like = index(\"proteins/All_%s-Like.faa\" % gene,\"fasta\")\n",
    "allLengths = {}\n",
    "for id,rec in cas9Like.items(): allLengths[id]=len(rec.seq)"
   ]
  },
  {
   "cell_type": "code",
   "execution_count": null,
   "metadata": {},
   "outputs": [],
   "source": [
    "from Bio.SeqIO import parse\n",
    "ids = set()\n",
    "for rec in parse(\"%s-Like-clustered.faa\" % gene,\"fasta\"): ids.add(rec.id[:-5])\n",
    "db_path = \"/mnt/research/germs/shane/databases/assemblies/NCBI/refseq\"\n",
    "for id in ids:\n",
    "    os.system(\"cp %s/%s assemblies/\" % (db_path,assembly_ids[id]))\n"
   ]
  },
  {
   "cell_type": "code",
   "execution_count": null,
   "metadata": {},
   "outputs": [],
   "source": [
    "import pickle\n",
    "from Bio.SeqIO import parse\n",
    "db_path = \"/mnt/research/germs/shane/databases/assemblies/NCBI/refseq\"\n",
    "files = os.listdir(db_path)\n",
    "assembly_ids = {}\n",
    "for fileName in files:\n",
    "    for rec in parse(os.path.join(db_path,fileName),\"fasta\"): assembly_ids[rec.id]=fileName\n",
    "print len(assembly_ids)\n",
    "pickle.dump(assembly_ids,open(\"/mnt/research/germs/shane/databases/assemblies/NCBI/refseq_manifest.p\",\"wb\"))"
   ]
  },
  {
   "cell_type": "markdown",
   "metadata": {},
   "source": [
    "#### Compare alignment methods"
   ]
  },
  {
   "cell_type": "code",
   "execution_count": null,
   "metadata": {},
   "outputs": [],
   "source": [
    "from Bio.SeqIO import index\n",
    "divCas9 = {} #index(geneProfile,\"fasta\")\n",
    "gapCount, baseCount = 0,0\n",
    "for rec in parse(\"alignments/Cas9.aln\",\"fasta\"): #default (more gaps less strict)\n",
    "    for base in rec.seq:\n",
    "        gapCount += int(base == \"-\")\n",
    "        baseCount += int(base != \"-\")\n",
    "    divCas9[rec.id]={'original':[gapCount,baseCount]}   \n",
    "gapCount, baseCount = 0,0\n",
    "for rec in parse(\"alignments/CCas9s.aln\",\"fasta\"): #local (Less gaps more strict)\n",
    "    for base in rec.seq:\n",
    "        gapCount += int(base == \"-\")\n",
    "        baseCount += int(base != \"-\")\n",
    "    divCas9[rec.id][\"local\"] = [gapCount,baseCount]\n",
    "    \n",
    "for id in divCas9:\n",
    "    print(\"%i/%i\\t%i/%i\\t%s\" % (divCas9[id][\"local\"][1],divCas9[id][\"original\"][1],divCas9[id][\"local\"][0],divCas9[id][\"original\"][0],id))\n",
    "    "
   ]
  },
  {
   "cell_type": "code",
   "execution_count": null,
   "metadata": {},
   "outputs": [],
   "source": [
    "from Bio.SeqIO import parse\n",
    "import os\n",
    "import pickle\n",
    "print \"Loading ncbi IDs\"\n",
    "assembly_ids = pickle.load(open(\"/mnt/research/germs/shane/databases/assemblies/NCBI/refseq_manifest.p\",\"rb\"))\n",
    "print \"Loading patric2 IDs\"\n",
    "notInNCBI, ids,fullID = [], [], {}\n",
    "for rec in parse(\"%s-Like-clustered.faa\" % gene,\"fasta\"): \n",
    "    fullID[rec.id[:-5]] = rec.id\n",
    "    ids.append(rec.id[:-5])\n",
    "for id in ids:\n",
    "    if id not in assembly_ids:\n",
    "        notInNCBI.append(id)\n",
    "        continue\n",
    "    os.system(\"cp /mnt/research/germs/shane/databases/assemblies/NCBI/refseq/%s /mnt/research/germs/shane/CRISPR_Cas/data/assemblies/%s.fasta\" % (assembly_ids[id],fullID[id]))\n",
    "    print id,assembly_ids[id]\n"
   ]
  },
  {
   "cell_type": "code",
   "execution_count": null,
   "metadata": {},
   "outputs": [],
   "source": [
    "print \"Loading PATRIC IDs\"\n",
    "assembly_ids = pickle.load(open(\"/mnt/research/germs/shane/databases/assemblies/PATRIC2/pat2_manifest.p\",\"rb\"))\n",
    "print \"Copying Files\"\n",
    "for id in notInNCBI:\n",
    "    os.system(\"cp /mnt/research/germs/shane/databases/assemblies/PATRIC2/fastas/%s /mnt/research/germs/shane/CRISPR_Cas/data/assemblies/%s.fasta\" % (assembly_ids[id],fullID[id]))\n",
    "    print id,assembly_ids[id]"
   ]
  },
  {
   "cell_type": "code",
   "execution_count": null,
   "metadata": {},
   "outputs": [],
   "source": [
    "#assembly_ids = pickle.load(open(\"/mnt/research/germs/shane/databases/assemblies/NCBI/refseq_manifest.p\",\"rb\"))\n",
    "#assembly_ids = pickle.load(open(\"/mnt/research/germs/shane/databases/assemblies/PATRIC2/pat2_manifest.p\",\"rb\"))\n",
    "files = os.listdir(\"assemblies\")\n",
    "ids = set()\n",
    "for fileName in files:ids.add(fileName.replace(\".fasta\",\"\"))\n",
    "for rec in parse(\"%s-Like-clustered.faa\" % gene,\"fasta\"): \n",
    "    if rec.id not in ids:\n",
    "        print rec.id,assembly_ids[rec.id[:-5]]"
   ]
  },
  {
   "cell_type": "code",
   "execution_count": null,
   "metadata": {},
   "outputs": [],
   "source": [
    "%%bash\n",
    "cd scripts\n",
    "bash pilercrRun.sh &\n",
    "bash pilercrRunFW.sh"
   ]
  },
  {
   "cell_type": "code",
   "execution_count": null,
   "metadata": {},
   "outputs": [],
   "source": [
    "from ete3 import Tree, TreeStyle\n",
    "# casTree=Tree(\"Cas9-Like-clustered.faa.tree\")\n",
    "# ts = TreeStyle()\n",
    "# ts.mode = \"c\"\n",
    "# ts.show_leaf_name = False\n",
    "# casTree.render(\"Cas9.png\",tree_style=ts)\n",
    "#t.write(format=1, outfile=\"new_tree.nw\")"
   ]
  },
  {
   "cell_type": "code",
   "execution_count": null,
   "metadata": {},
   "outputs": [],
   "source": [
    "from ete3 import Tree, TreeStyle\n",
    "rooted_tree = Tree( \"((A,B),(C,D));\" )\n",
    "ts = TreeStyle()\n",
    "ts.mode = \"c\"\n",
    "rooted_tree.render(\"%%inline\",tree_style=ts)"
   ]
  },
  {
   "cell_type": "code",
   "execution_count": null,
   "metadata": {},
   "outputs": [],
   "source": [
    "from pandas import DataFrame, read_csv, Series\n",
    "outfmt6_cols = [\"qseqid\",\"sseqid\",\"pident\",\"length\",\"mismatch\",\"gapopen\",\"qstart\",\"qend\",\"sstart\",\"send\",\"evalue\",\"bitscore\"]\n",
    "blastResults = read_csv(\"data/DiverseCompare.blastout\",delimiter='\\t', names=outfmt6_cols) \n",
    "len(blastResults)\n",
    "blastResults\n",
    "len(blastResults[blastResults.pident>90])"
   ]
  },
  {
   "cell_type": "code",
   "execution_count": null,
   "metadata": {},
   "outputs": [],
   "source": [
    "len(blastResults[blastResults.pident>98])"
   ]
  },
  {
   "cell_type": "markdown",
   "metadata": {},
   "source": [
    "#### Move large number of hmm files to an old run dir"
   ]
  },
  {
   "cell_type": "code",
   "execution_count": null,
   "metadata": {},
   "outputs": [],
   "source": [
    "from os import system\n",
    "files = os.listdir(\"hmm/results\")\n",
    "print(len(files))\n",
    "for fname in files:\n",
    "    mv_CMD = \"mv hmm/results/%s hmm/results/oldRuns/\"\n",
    "    if fname[-4:] == \"orfs\": system(\"rm hmm/results/\"+fname)\n",
    "    elif (fname[-4:] == \".out\"): system(mv_CMD % (fname))\n",
    "    else:\n",
    "        print(fname)"
   ]
  },
  {
   "cell_type": "code",
   "execution_count": null,
   "metadata": {},
   "outputs": [],
   "source": [
    "%%bash\n",
    "ls"
   ]
  },
  {
   "cell_type": "code",
   "execution_count": null,
   "metadata": {},
   "outputs": [],
   "source": [
    "    if len(proteins.proteins) == 0:\n",
    "        proteins.__get_proteins__(hmmResultsDir+baseID+\".hmmout\")\n",
    "        nncount += 1\n",
    "    if len(proteins.proteins) == 0:\n",
    "        fh.write(getOrfsCMD % (assembliesWCrisprs[baseID],hmmResultsDir, baseID) + \"\\n\")\n",
    "        count+=1\n",
    "        if count % 50 == 0:\n",
    "            fh.close()\n",
    "            fh = open(\"../scripts/hpc/hmmSearch/HMMSearch_%i.sb\" % (fileCounter),\"w\")\n",
    "            fileCounter += 1\n",
    "            fh.write(header)\n",
    "            \n",
    "print(count,fileCounter,nncount)\n",
    "fh.close()"
   ]
  }
 ],
 "metadata": {
  "kernelspec": {
   "display_name": "Python 3",
   "language": "python",
   "name": "python3"
  },
  "language_info": {
   "codemirror_mode": {
    "name": "ipython",
    "version": 3
   },
   "file_extension": ".py",
   "mimetype": "text/x-python",
   "name": "python",
   "nbconvert_exporter": "python",
   "pygments_lexer": "ipython3",
   "version": "3.6.7"
  }
 },
 "nbformat": 4,
 "nbformat_minor": 2
}
